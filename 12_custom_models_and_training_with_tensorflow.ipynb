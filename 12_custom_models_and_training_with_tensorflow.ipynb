{
  "nbformat": 4,
  "nbformat_minor": 0,
  "metadata": {
    "kernelspec": {
      "display_name": "TensorFlow 2.4 on Python 3.8 & CUDA 11.1",
      "language": "python",
      "name": "python3"
    },
    "language_info": {
      "codemirror_mode": {
        "name": "ipython",
        "version": 3
      },
      "file_extension": ".py",
      "mimetype": "text/x-python",
      "name": "python",
      "nbconvert_exporter": "python",
      "pygments_lexer": "ipython3",
      "version": "3.8.8"
    },
    "widgets": {
      "application/vnd.jupyter.widget-state+json": {
        "f567d90b6ea44c4d97b0ea0bf83d5f80": {
          "model_module": "@jupyter-widgets/controls",
          "model_name": "HBoxModel",
          "state": {
            "_view_name": "HBoxView",
            "_dom_classes": [],
            "_model_name": "HBoxModel",
            "_view_module": "@jupyter-widgets/controls",
            "_model_module_version": "1.5.0",
            "_view_count": null,
            "_view_module_version": "1.5.0",
            "box_style": "",
            "layout": "IPY_MODEL_649fe04a5b55421c8b0b685fc948a62e",
            "_model_module": "@jupyter-widgets/controls",
            "children": [
              "IPY_MODEL_8ece2107dc834acc833f76f6429a9ab9",
              "IPY_MODEL_e55e664efba049d48fbbe3e345d7b9b0"
            ]
          }
        },
        "649fe04a5b55421c8b0b685fc948a62e": {
          "model_module": "@jupyter-widgets/base",
          "model_name": "LayoutModel",
          "state": {
            "_view_name": "LayoutView",
            "grid_template_rows": null,
            "right": null,
            "justify_content": null,
            "_view_module": "@jupyter-widgets/base",
            "overflow": null,
            "_model_module_version": "1.2.0",
            "_view_count": null,
            "flex_flow": null,
            "width": null,
            "min_width": null,
            "border": null,
            "align_items": null,
            "bottom": null,
            "_model_module": "@jupyter-widgets/base",
            "top": null,
            "grid_column": null,
            "overflow_y": null,
            "overflow_x": null,
            "grid_auto_flow": null,
            "grid_area": null,
            "grid_template_columns": null,
            "flex": null,
            "_model_name": "LayoutModel",
            "justify_items": null,
            "grid_row": null,
            "max_height": null,
            "align_content": null,
            "visibility": null,
            "align_self": null,
            "height": null,
            "min_height": null,
            "padding": null,
            "grid_auto_rows": null,
            "grid_gap": null,
            "max_width": null,
            "order": null,
            "_view_module_version": "1.2.0",
            "grid_template_areas": null,
            "object_position": null,
            "object_fit": null,
            "grid_auto_columns": null,
            "margin": null,
            "display": null,
            "left": null
          }
        },
        "8ece2107dc834acc833f76f6429a9ab9": {
          "model_module": "@jupyter-widgets/controls",
          "model_name": "FloatProgressModel",
          "state": {
            "_view_name": "ProgressView",
            "style": "IPY_MODEL_e0f3da308c6a4d3badaf684936207590",
            "_dom_classes": [],
            "description": "All epochs: 100%",
            "_model_name": "FloatProgressModel",
            "bar_style": "success",
            "max": 5,
            "_view_module": "@jupyter-widgets/controls",
            "_model_module_version": "1.5.0",
            "value": 5,
            "_view_count": null,
            "_view_module_version": "1.5.0",
            "orientation": "horizontal",
            "min": 0,
            "description_tooltip": null,
            "_model_module": "@jupyter-widgets/controls",
            "layout": "IPY_MODEL_c53a9a133f6b4752a6744172505208d9"
          }
        },
        "e55e664efba049d48fbbe3e345d7b9b0": {
          "model_module": "@jupyter-widgets/controls",
          "model_name": "HTMLModel",
          "state": {
            "_view_name": "HTMLView",
            "style": "IPY_MODEL_07be3fa38d3046fb8a5961ebd9fb3cb7",
            "_dom_classes": [],
            "description": "",
            "_model_name": "HTMLModel",
            "placeholder": "​",
            "_view_module": "@jupyter-widgets/controls",
            "_model_module_version": "1.5.0",
            "value": " 5/5 [00:48&lt;00:00,  9.62s/it]",
            "_view_count": null,
            "_view_module_version": "1.5.0",
            "description_tooltip": null,
            "_model_module": "@jupyter-widgets/controls",
            "layout": "IPY_MODEL_96779ceb195844a3b3a3955dc7690e70"
          }
        },
        "e0f3da308c6a4d3badaf684936207590": {
          "model_module": "@jupyter-widgets/controls",
          "model_name": "ProgressStyleModel",
          "state": {
            "_view_name": "StyleView",
            "_model_name": "ProgressStyleModel",
            "description_width": "initial",
            "_view_module": "@jupyter-widgets/base",
            "_model_module_version": "1.5.0",
            "_view_count": null,
            "_view_module_version": "1.2.0",
            "bar_color": null,
            "_model_module": "@jupyter-widgets/controls"
          }
        },
        "c53a9a133f6b4752a6744172505208d9": {
          "model_module": "@jupyter-widgets/base",
          "model_name": "LayoutModel",
          "state": {
            "_view_name": "LayoutView",
            "grid_template_rows": null,
            "right": null,
            "justify_content": null,
            "_view_module": "@jupyter-widgets/base",
            "overflow": null,
            "_model_module_version": "1.2.0",
            "_view_count": null,
            "flex_flow": null,
            "width": null,
            "min_width": null,
            "border": null,
            "align_items": null,
            "bottom": null,
            "_model_module": "@jupyter-widgets/base",
            "top": null,
            "grid_column": null,
            "overflow_y": null,
            "overflow_x": null,
            "grid_auto_flow": null,
            "grid_area": null,
            "grid_template_columns": null,
            "flex": null,
            "_model_name": "LayoutModel",
            "justify_items": null,
            "grid_row": null,
            "max_height": null,
            "align_content": null,
            "visibility": null,
            "align_self": null,
            "height": null,
            "min_height": null,
            "padding": null,
            "grid_auto_rows": null,
            "grid_gap": null,
            "max_width": null,
            "order": null,
            "_view_module_version": "1.2.0",
            "grid_template_areas": null,
            "object_position": null,
            "object_fit": null,
            "grid_auto_columns": null,
            "margin": null,
            "display": null,
            "left": null
          }
        },
        "07be3fa38d3046fb8a5961ebd9fb3cb7": {
          "model_module": "@jupyter-widgets/controls",
          "model_name": "DescriptionStyleModel",
          "state": {
            "_view_name": "StyleView",
            "_model_name": "DescriptionStyleModel",
            "description_width": "",
            "_view_module": "@jupyter-widgets/base",
            "_model_module_version": "1.5.0",
            "_view_count": null,
            "_view_module_version": "1.2.0",
            "_model_module": "@jupyter-widgets/controls"
          }
        },
        "96779ceb195844a3b3a3955dc7690e70": {
          "model_module": "@jupyter-widgets/base",
          "model_name": "LayoutModel",
          "state": {
            "_view_name": "LayoutView",
            "grid_template_rows": null,
            "right": null,
            "justify_content": null,
            "_view_module": "@jupyter-widgets/base",
            "overflow": null,
            "_model_module_version": "1.2.0",
            "_view_count": null,
            "flex_flow": null,
            "width": null,
            "min_width": null,
            "border": null,
            "align_items": null,
            "bottom": null,
            "_model_module": "@jupyter-widgets/base",
            "top": null,
            "grid_column": null,
            "overflow_y": null,
            "overflow_x": null,
            "grid_auto_flow": null,
            "grid_area": null,
            "grid_template_columns": null,
            "flex": null,
            "_model_name": "LayoutModel",
            "justify_items": null,
            "grid_row": null,
            "max_height": null,
            "align_content": null,
            "visibility": null,
            "align_self": null,
            "height": null,
            "min_height": null,
            "padding": null,
            "grid_auto_rows": null,
            "grid_gap": null,
            "max_width": null,
            "order": null,
            "_view_module_version": "1.2.0",
            "grid_template_areas": null,
            "object_position": null,
            "object_fit": null,
            "grid_auto_columns": null,
            "margin": null,
            "display": null,
            "left": null
          }
        },
        "d19addd459bd420c9b73f2c828afeb0a": {
          "model_module": "@jupyter-widgets/controls",
          "model_name": "HBoxModel",
          "state": {
            "_view_name": "HBoxView",
            "_dom_classes": [],
            "_model_name": "HBoxModel",
            "_view_module": "@jupyter-widgets/controls",
            "_model_module_version": "1.5.0",
            "_view_count": null,
            "_view_module_version": "1.5.0",
            "box_style": "",
            "layout": "IPY_MODEL_fe4bf60c6f8d4815a4f3621366199272",
            "_model_module": "@jupyter-widgets/controls",
            "children": [
              "IPY_MODEL_3e19f506e47746ad8646416ab4ab01cc",
              "IPY_MODEL_cf5b02a97a8d4900acf2447817034aff"
            ]
          }
        },
        "fe4bf60c6f8d4815a4f3621366199272": {
          "model_module": "@jupyter-widgets/base",
          "model_name": "LayoutModel",
          "state": {
            "_view_name": "LayoutView",
            "grid_template_rows": null,
            "right": null,
            "justify_content": null,
            "_view_module": "@jupyter-widgets/base",
            "overflow": null,
            "_model_module_version": "1.2.0",
            "_view_count": null,
            "flex_flow": null,
            "width": null,
            "min_width": null,
            "border": null,
            "align_items": null,
            "bottom": null,
            "_model_module": "@jupyter-widgets/base",
            "top": null,
            "grid_column": null,
            "overflow_y": null,
            "overflow_x": null,
            "grid_auto_flow": null,
            "grid_area": null,
            "grid_template_columns": null,
            "flex": null,
            "_model_name": "LayoutModel",
            "justify_items": null,
            "grid_row": null,
            "max_height": null,
            "align_content": null,
            "visibility": null,
            "align_self": null,
            "height": null,
            "min_height": null,
            "padding": null,
            "grid_auto_rows": null,
            "grid_gap": null,
            "max_width": null,
            "order": null,
            "_view_module_version": "1.2.0",
            "grid_template_areas": null,
            "object_position": null,
            "object_fit": null,
            "grid_auto_columns": null,
            "margin": null,
            "display": null,
            "left": null
          }
        },
        "3e19f506e47746ad8646416ab4ab01cc": {
          "model_module": "@jupyter-widgets/controls",
          "model_name": "FloatProgressModel",
          "state": {
            "_view_name": "ProgressView",
            "style": "IPY_MODEL_3b1b8acb8dad485486722af7e3bbfc23",
            "_dom_classes": [],
            "description": "Epoch 1/5: 100%",
            "_model_name": "FloatProgressModel",
            "bar_style": "success",
            "max": 362,
            "_view_module": "@jupyter-widgets/controls",
            "_model_module_version": "1.5.0",
            "value": 362,
            "_view_count": null,
            "_view_module_version": "1.5.0",
            "orientation": "horizontal",
            "min": 0,
            "description_tooltip": null,
            "_model_module": "@jupyter-widgets/controls",
            "layout": "IPY_MODEL_87be732bbc48403187aeeba0ef36aa72"
          }
        },
        "cf5b02a97a8d4900acf2447817034aff": {
          "model_module": "@jupyter-widgets/controls",
          "model_name": "HTMLModel",
          "state": {
            "_view_name": "HTMLView",
            "style": "IPY_MODEL_31a49f139fac41a1aa3128f7234098af",
            "_dom_classes": [],
            "description": "",
            "_model_name": "HTMLModel",
            "placeholder": "​",
            "_view_module": "@jupyter-widgets/controls",
            "_model_module_version": "1.5.0",
            "value": " 362/362 [02:50&lt;00:00,  2.12it/s, loss=0.65, mean_absolute_error=0.522]",
            "_view_count": null,
            "_view_module_version": "1.5.0",
            "description_tooltip": null,
            "_model_module": "@jupyter-widgets/controls",
            "layout": "IPY_MODEL_546d1ba099504efa9b3ca416f951c155"
          }
        },
        "3b1b8acb8dad485486722af7e3bbfc23": {
          "model_module": "@jupyter-widgets/controls",
          "model_name": "ProgressStyleModel",
          "state": {
            "_view_name": "StyleView",
            "_model_name": "ProgressStyleModel",
            "description_width": "initial",
            "_view_module": "@jupyter-widgets/base",
            "_model_module_version": "1.5.0",
            "_view_count": null,
            "_view_module_version": "1.2.0",
            "bar_color": null,
            "_model_module": "@jupyter-widgets/controls"
          }
        },
        "87be732bbc48403187aeeba0ef36aa72": {
          "model_module": "@jupyter-widgets/base",
          "model_name": "LayoutModel",
          "state": {
            "_view_name": "LayoutView",
            "grid_template_rows": null,
            "right": null,
            "justify_content": null,
            "_view_module": "@jupyter-widgets/base",
            "overflow": null,
            "_model_module_version": "1.2.0",
            "_view_count": null,
            "flex_flow": null,
            "width": null,
            "min_width": null,
            "border": null,
            "align_items": null,
            "bottom": null,
            "_model_module": "@jupyter-widgets/base",
            "top": null,
            "grid_column": null,
            "overflow_y": null,
            "overflow_x": null,
            "grid_auto_flow": null,
            "grid_area": null,
            "grid_template_columns": null,
            "flex": null,
            "_model_name": "LayoutModel",
            "justify_items": null,
            "grid_row": null,
            "max_height": null,
            "align_content": null,
            "visibility": null,
            "align_self": null,
            "height": null,
            "min_height": null,
            "padding": null,
            "grid_auto_rows": null,
            "grid_gap": null,
            "max_width": null,
            "order": null,
            "_view_module_version": "1.2.0",
            "grid_template_areas": null,
            "object_position": null,
            "object_fit": null,
            "grid_auto_columns": null,
            "margin": null,
            "display": null,
            "left": null
          }
        },
        "31a49f139fac41a1aa3128f7234098af": {
          "model_module": "@jupyter-widgets/controls",
          "model_name": "DescriptionStyleModel",
          "state": {
            "_view_name": "StyleView",
            "_model_name": "DescriptionStyleModel",
            "description_width": "",
            "_view_module": "@jupyter-widgets/base",
            "_model_module_version": "1.5.0",
            "_view_count": null,
            "_view_module_version": "1.2.0",
            "_model_module": "@jupyter-widgets/controls"
          }
        },
        "546d1ba099504efa9b3ca416f951c155": {
          "model_module": "@jupyter-widgets/base",
          "model_name": "LayoutModel",
          "state": {
            "_view_name": "LayoutView",
            "grid_template_rows": null,
            "right": null,
            "justify_content": null,
            "_view_module": "@jupyter-widgets/base",
            "overflow": null,
            "_model_module_version": "1.2.0",
            "_view_count": null,
            "flex_flow": null,
            "width": null,
            "min_width": null,
            "border": null,
            "align_items": null,
            "bottom": null,
            "_model_module": "@jupyter-widgets/base",
            "top": null,
            "grid_column": null,
            "overflow_y": null,
            "overflow_x": null,
            "grid_auto_flow": null,
            "grid_area": null,
            "grid_template_columns": null,
            "flex": null,
            "_model_name": "LayoutModel",
            "justify_items": null,
            "grid_row": null,
            "max_height": null,
            "align_content": null,
            "visibility": null,
            "align_self": null,
            "height": null,
            "min_height": null,
            "padding": null,
            "grid_auto_rows": null,
            "grid_gap": null,
            "max_width": null,
            "order": null,
            "_view_module_version": "1.2.0",
            "grid_template_areas": null,
            "object_position": null,
            "object_fit": null,
            "grid_auto_columns": null,
            "margin": null,
            "display": null,
            "left": null
          }
        },
        "6cc9d078d73742608d303cd42f56c721": {
          "model_module": "@jupyter-widgets/controls",
          "model_name": "HBoxModel",
          "state": {
            "_view_name": "HBoxView",
            "_dom_classes": [],
            "_model_name": "HBoxModel",
            "_view_module": "@jupyter-widgets/controls",
            "_model_module_version": "1.5.0",
            "_view_count": null,
            "_view_module_version": "1.5.0",
            "box_style": "",
            "layout": "IPY_MODEL_41ec092206b4408f8637a9c6b1f68304",
            "_model_module": "@jupyter-widgets/controls",
            "children": [
              "IPY_MODEL_780d9fc533d640fb8a3873bf31b91eb2",
              "IPY_MODEL_9a0f045f9e42442b95f377d138336324"
            ]
          }
        },
        "41ec092206b4408f8637a9c6b1f68304": {
          "model_module": "@jupyter-widgets/base",
          "model_name": "LayoutModel",
          "state": {
            "_view_name": "LayoutView",
            "grid_template_rows": null,
            "right": null,
            "justify_content": null,
            "_view_module": "@jupyter-widgets/base",
            "overflow": null,
            "_model_module_version": "1.2.0",
            "_view_count": null,
            "flex_flow": null,
            "width": null,
            "min_width": null,
            "border": null,
            "align_items": null,
            "bottom": null,
            "_model_module": "@jupyter-widgets/base",
            "top": null,
            "grid_column": null,
            "overflow_y": null,
            "overflow_x": null,
            "grid_auto_flow": null,
            "grid_area": null,
            "grid_template_columns": null,
            "flex": null,
            "_model_name": "LayoutModel",
            "justify_items": null,
            "grid_row": null,
            "max_height": null,
            "align_content": null,
            "visibility": null,
            "align_self": null,
            "height": null,
            "min_height": null,
            "padding": null,
            "grid_auto_rows": null,
            "grid_gap": null,
            "max_width": null,
            "order": null,
            "_view_module_version": "1.2.0",
            "grid_template_areas": null,
            "object_position": null,
            "object_fit": null,
            "grid_auto_columns": null,
            "margin": null,
            "display": null,
            "left": null
          }
        },
        "780d9fc533d640fb8a3873bf31b91eb2": {
          "model_module": "@jupyter-widgets/controls",
          "model_name": "FloatProgressModel",
          "state": {
            "_view_name": "ProgressView",
            "style": "IPY_MODEL_990239b6bbb84154bc645bfce5efbd34",
            "_dom_classes": [],
            "description": "Epoch 2/5: 100%",
            "_model_name": "FloatProgressModel",
            "bar_style": "success",
            "max": 362,
            "_view_module": "@jupyter-widgets/controls",
            "_model_module_version": "1.5.0",
            "value": 362,
            "_view_count": null,
            "_view_module_version": "1.5.0",
            "orientation": "horizontal",
            "min": 0,
            "description_tooltip": null,
            "_model_module": "@jupyter-widgets/controls",
            "layout": "IPY_MODEL_a91fe838614d42f08e02498449cc875b"
          }
        },
        "9a0f045f9e42442b95f377d138336324": {
          "model_module": "@jupyter-widgets/controls",
          "model_name": "HTMLModel",
          "state": {
            "_view_name": "HTMLView",
            "style": "IPY_MODEL_a1b7b53b9b8f4c138831104db5291136",
            "_dom_classes": [],
            "description": "",
            "_model_name": "HTMLModel",
            "placeholder": "​",
            "_view_module": "@jupyter-widgets/controls",
            "_model_module_version": "1.5.0",
            "value": " 362/362 [02:41&lt;00:00,  2.25it/s, loss=0.63, mean_absolute_error=0.512]",
            "_view_count": null,
            "_view_module_version": "1.5.0",
            "description_tooltip": null,
            "_model_module": "@jupyter-widgets/controls",
            "layout": "IPY_MODEL_a81051d588164ce4b5d6f22861e55fc4"
          }
        },
        "990239b6bbb84154bc645bfce5efbd34": {
          "model_module": "@jupyter-widgets/controls",
          "model_name": "ProgressStyleModel",
          "state": {
            "_view_name": "StyleView",
            "_model_name": "ProgressStyleModel",
            "description_width": "initial",
            "_view_module": "@jupyter-widgets/base",
            "_model_module_version": "1.5.0",
            "_view_count": null,
            "_view_module_version": "1.2.0",
            "bar_color": null,
            "_model_module": "@jupyter-widgets/controls"
          }
        },
        "a91fe838614d42f08e02498449cc875b": {
          "model_module": "@jupyter-widgets/base",
          "model_name": "LayoutModel",
          "state": {
            "_view_name": "LayoutView",
            "grid_template_rows": null,
            "right": null,
            "justify_content": null,
            "_view_module": "@jupyter-widgets/base",
            "overflow": null,
            "_model_module_version": "1.2.0",
            "_view_count": null,
            "flex_flow": null,
            "width": null,
            "min_width": null,
            "border": null,
            "align_items": null,
            "bottom": null,
            "_model_module": "@jupyter-widgets/base",
            "top": null,
            "grid_column": null,
            "overflow_y": null,
            "overflow_x": null,
            "grid_auto_flow": null,
            "grid_area": null,
            "grid_template_columns": null,
            "flex": null,
            "_model_name": "LayoutModel",
            "justify_items": null,
            "grid_row": null,
            "max_height": null,
            "align_content": null,
            "visibility": null,
            "align_self": null,
            "height": null,
            "min_height": null,
            "padding": null,
            "grid_auto_rows": null,
            "grid_gap": null,
            "max_width": null,
            "order": null,
            "_view_module_version": "1.2.0",
            "grid_template_areas": null,
            "object_position": null,
            "object_fit": null,
            "grid_auto_columns": null,
            "margin": null,
            "display": null,
            "left": null
          }
        },
        "a1b7b53b9b8f4c138831104db5291136": {
          "model_module": "@jupyter-widgets/controls",
          "model_name": "DescriptionStyleModel",
          "state": {
            "_view_name": "StyleView",
            "_model_name": "DescriptionStyleModel",
            "description_width": "",
            "_view_module": "@jupyter-widgets/base",
            "_model_module_version": "1.5.0",
            "_view_count": null,
            "_view_module_version": "1.2.0",
            "_model_module": "@jupyter-widgets/controls"
          }
        },
        "a81051d588164ce4b5d6f22861e55fc4": {
          "model_module": "@jupyter-widgets/base",
          "model_name": "LayoutModel",
          "state": {
            "_view_name": "LayoutView",
            "grid_template_rows": null,
            "right": null,
            "justify_content": null,
            "_view_module": "@jupyter-widgets/base",
            "overflow": null,
            "_model_module_version": "1.2.0",
            "_view_count": null,
            "flex_flow": null,
            "width": null,
            "min_width": null,
            "border": null,
            "align_items": null,
            "bottom": null,
            "_model_module": "@jupyter-widgets/base",
            "top": null,
            "grid_column": null,
            "overflow_y": null,
            "overflow_x": null,
            "grid_auto_flow": null,
            "grid_area": null,
            "grid_template_columns": null,
            "flex": null,
            "_model_name": "LayoutModel",
            "justify_items": null,
            "grid_row": null,
            "max_height": null,
            "align_content": null,
            "visibility": null,
            "align_self": null,
            "height": null,
            "min_height": null,
            "padding": null,
            "grid_auto_rows": null,
            "grid_gap": null,
            "max_width": null,
            "order": null,
            "_view_module_version": "1.2.0",
            "grid_template_areas": null,
            "object_position": null,
            "object_fit": null,
            "grid_auto_columns": null,
            "margin": null,
            "display": null,
            "left": null
          }
        },
        "3dc0df6e7b664ec6a5145d385cb8bbbf": {
          "model_module": "@jupyter-widgets/controls",
          "model_name": "HBoxModel",
          "state": {
            "_view_name": "HBoxView",
            "_dom_classes": [],
            "_model_name": "HBoxModel",
            "_view_module": "@jupyter-widgets/controls",
            "_model_module_version": "1.5.0",
            "_view_count": null,
            "_view_module_version": "1.5.0",
            "box_style": "",
            "layout": "IPY_MODEL_159a700b466448ad8b00775d224cb0cf",
            "_model_module": "@jupyter-widgets/controls",
            "children": [
              "IPY_MODEL_6bd7fd6a58ff4e90b9a0df8e3aca22a1",
              "IPY_MODEL_95fa8bc36e5042099eeb8f801e875230"
            ]
          }
        },
        "159a700b466448ad8b00775d224cb0cf": {
          "model_module": "@jupyter-widgets/base",
          "model_name": "LayoutModel",
          "state": {
            "_view_name": "LayoutView",
            "grid_template_rows": null,
            "right": null,
            "justify_content": null,
            "_view_module": "@jupyter-widgets/base",
            "overflow": null,
            "_model_module_version": "1.2.0",
            "_view_count": null,
            "flex_flow": null,
            "width": null,
            "min_width": null,
            "border": null,
            "align_items": null,
            "bottom": null,
            "_model_module": "@jupyter-widgets/base",
            "top": null,
            "grid_column": null,
            "overflow_y": null,
            "overflow_x": null,
            "grid_auto_flow": null,
            "grid_area": null,
            "grid_template_columns": null,
            "flex": null,
            "_model_name": "LayoutModel",
            "justify_items": null,
            "grid_row": null,
            "max_height": null,
            "align_content": null,
            "visibility": null,
            "align_self": null,
            "height": null,
            "min_height": null,
            "padding": null,
            "grid_auto_rows": null,
            "grid_gap": null,
            "max_width": null,
            "order": null,
            "_view_module_version": "1.2.0",
            "grid_template_areas": null,
            "object_position": null,
            "object_fit": null,
            "grid_auto_columns": null,
            "margin": null,
            "display": null,
            "left": null
          }
        },
        "6bd7fd6a58ff4e90b9a0df8e3aca22a1": {
          "model_module": "@jupyter-widgets/controls",
          "model_name": "FloatProgressModel",
          "state": {
            "_view_name": "ProgressView",
            "style": "IPY_MODEL_f14f0bfce1a04bd3bac9cfb6300b2c52",
            "_dom_classes": [],
            "description": "Epoch 3/5: 100%",
            "_model_name": "FloatProgressModel",
            "bar_style": "success",
            "max": 362,
            "_view_module": "@jupyter-widgets/controls",
            "_model_module_version": "1.5.0",
            "value": 362,
            "_view_count": null,
            "_view_module_version": "1.5.0",
            "orientation": "horizontal",
            "min": 0,
            "description_tooltip": null,
            "_model_module": "@jupyter-widgets/controls",
            "layout": "IPY_MODEL_c6e3d87385c94e78a3e7680224bd478b"
          }
        },
        "95fa8bc36e5042099eeb8f801e875230": {
          "model_module": "@jupyter-widgets/controls",
          "model_name": "HTMLModel",
          "state": {
            "_view_name": "HTMLView",
            "style": "IPY_MODEL_c22f70464de4444bacff05db072a6063",
            "_dom_classes": [],
            "description": "",
            "_model_name": "HTMLModel",
            "placeholder": "​",
            "_view_module": "@jupyter-widgets/controls",
            "_model_module_version": "1.5.0",
            "value": " 362/362 [02:31&lt;00:00,  2.39it/s, loss=0.626, mean_absolute_error=0.51]",
            "_view_count": null,
            "_view_module_version": "1.5.0",
            "description_tooltip": null,
            "_model_module": "@jupyter-widgets/controls",
            "layout": "IPY_MODEL_cca6d1e376fb4a69bbc336472a0bbb1e"
          }
        },
        "f14f0bfce1a04bd3bac9cfb6300b2c52": {
          "model_module": "@jupyter-widgets/controls",
          "model_name": "ProgressStyleModel",
          "state": {
            "_view_name": "StyleView",
            "_model_name": "ProgressStyleModel",
            "description_width": "initial",
            "_view_module": "@jupyter-widgets/base",
            "_model_module_version": "1.5.0",
            "_view_count": null,
            "_view_module_version": "1.2.0",
            "bar_color": null,
            "_model_module": "@jupyter-widgets/controls"
          }
        },
        "c6e3d87385c94e78a3e7680224bd478b": {
          "model_module": "@jupyter-widgets/base",
          "model_name": "LayoutModel",
          "state": {
            "_view_name": "LayoutView",
            "grid_template_rows": null,
            "right": null,
            "justify_content": null,
            "_view_module": "@jupyter-widgets/base",
            "overflow": null,
            "_model_module_version": "1.2.0",
            "_view_count": null,
            "flex_flow": null,
            "width": null,
            "min_width": null,
            "border": null,
            "align_items": null,
            "bottom": null,
            "_model_module": "@jupyter-widgets/base",
            "top": null,
            "grid_column": null,
            "overflow_y": null,
            "overflow_x": null,
            "grid_auto_flow": null,
            "grid_area": null,
            "grid_template_columns": null,
            "flex": null,
            "_model_name": "LayoutModel",
            "justify_items": null,
            "grid_row": null,
            "max_height": null,
            "align_content": null,
            "visibility": null,
            "align_self": null,
            "height": null,
            "min_height": null,
            "padding": null,
            "grid_auto_rows": null,
            "grid_gap": null,
            "max_width": null,
            "order": null,
            "_view_module_version": "1.2.0",
            "grid_template_areas": null,
            "object_position": null,
            "object_fit": null,
            "grid_auto_columns": null,
            "margin": null,
            "display": null,
            "left": null
          }
        },
        "c22f70464de4444bacff05db072a6063": {
          "model_module": "@jupyter-widgets/controls",
          "model_name": "DescriptionStyleModel",
          "state": {
            "_view_name": "StyleView",
            "_model_name": "DescriptionStyleModel",
            "description_width": "",
            "_view_module": "@jupyter-widgets/base",
            "_model_module_version": "1.5.0",
            "_view_count": null,
            "_view_module_version": "1.2.0",
            "_model_module": "@jupyter-widgets/controls"
          }
        },
        "cca6d1e376fb4a69bbc336472a0bbb1e": {
          "model_module": "@jupyter-widgets/base",
          "model_name": "LayoutModel",
          "state": {
            "_view_name": "LayoutView",
            "grid_template_rows": null,
            "right": null,
            "justify_content": null,
            "_view_module": "@jupyter-widgets/base",
            "overflow": null,
            "_model_module_version": "1.2.0",
            "_view_count": null,
            "flex_flow": null,
            "width": null,
            "min_width": null,
            "border": null,
            "align_items": null,
            "bottom": null,
            "_model_module": "@jupyter-widgets/base",
            "top": null,
            "grid_column": null,
            "overflow_y": null,
            "overflow_x": null,
            "grid_auto_flow": null,
            "grid_area": null,
            "grid_template_columns": null,
            "flex": null,
            "_model_name": "LayoutModel",
            "justify_items": null,
            "grid_row": null,
            "max_height": null,
            "align_content": null,
            "visibility": null,
            "align_self": null,
            "height": null,
            "min_height": null,
            "padding": null,
            "grid_auto_rows": null,
            "grid_gap": null,
            "max_width": null,
            "order": null,
            "_view_module_version": "1.2.0",
            "grid_template_areas": null,
            "object_position": null,
            "object_fit": null,
            "grid_auto_columns": null,
            "margin": null,
            "display": null,
            "left": null
          }
        },
        "0ca81496305a4d9b80af1ce3f6ba3311": {
          "model_module": "@jupyter-widgets/controls",
          "model_name": "HBoxModel",
          "state": {
            "_view_name": "HBoxView",
            "_dom_classes": [],
            "_model_name": "HBoxModel",
            "_view_module": "@jupyter-widgets/controls",
            "_model_module_version": "1.5.0",
            "_view_count": null,
            "_view_module_version": "1.5.0",
            "box_style": "",
            "layout": "IPY_MODEL_8ec0f826bfc24009bfa6651460da20e3",
            "_model_module": "@jupyter-widgets/controls",
            "children": [
              "IPY_MODEL_a537a4ae66254e688ee4c43474fba20b",
              "IPY_MODEL_2291def4df56449d8f540f7fff6ba5c7"
            ]
          }
        },
        "8ec0f826bfc24009bfa6651460da20e3": {
          "model_module": "@jupyter-widgets/base",
          "model_name": "LayoutModel",
          "state": {
            "_view_name": "LayoutView",
            "grid_template_rows": null,
            "right": null,
            "justify_content": null,
            "_view_module": "@jupyter-widgets/base",
            "overflow": null,
            "_model_module_version": "1.2.0",
            "_view_count": null,
            "flex_flow": null,
            "width": null,
            "min_width": null,
            "border": null,
            "align_items": null,
            "bottom": null,
            "_model_module": "@jupyter-widgets/base",
            "top": null,
            "grid_column": null,
            "overflow_y": null,
            "overflow_x": null,
            "grid_auto_flow": null,
            "grid_area": null,
            "grid_template_columns": null,
            "flex": null,
            "_model_name": "LayoutModel",
            "justify_items": null,
            "grid_row": null,
            "max_height": null,
            "align_content": null,
            "visibility": null,
            "align_self": null,
            "height": null,
            "min_height": null,
            "padding": null,
            "grid_auto_rows": null,
            "grid_gap": null,
            "max_width": null,
            "order": null,
            "_view_module_version": "1.2.0",
            "grid_template_areas": null,
            "object_position": null,
            "object_fit": null,
            "grid_auto_columns": null,
            "margin": null,
            "display": null,
            "left": null
          }
        },
        "a537a4ae66254e688ee4c43474fba20b": {
          "model_module": "@jupyter-widgets/controls",
          "model_name": "FloatProgressModel",
          "state": {
            "_view_name": "ProgressView",
            "style": "IPY_MODEL_23176b235ded4b0e8fc0c42022099b11",
            "_dom_classes": [],
            "description": "Epoch 4/5: 100%",
            "_model_name": "FloatProgressModel",
            "bar_style": "success",
            "max": 362,
            "_view_module": "@jupyter-widgets/controls",
            "_model_module_version": "1.5.0",
            "value": 362,
            "_view_count": null,
            "_view_module_version": "1.5.0",
            "orientation": "horizontal",
            "min": 0,
            "description_tooltip": null,
            "_model_module": "@jupyter-widgets/controls",
            "layout": "IPY_MODEL_3537a87d48ba4a2c9ed776c46e0107e0"
          }
        },
        "2291def4df56449d8f540f7fff6ba5c7": {
          "model_module": "@jupyter-widgets/controls",
          "model_name": "HTMLModel",
          "state": {
            "_view_name": "HTMLView",
            "style": "IPY_MODEL_f57f71738caa4cda8a821ab965b73896",
            "_dom_classes": [],
            "description": "",
            "_model_name": "HTMLModel",
            "placeholder": "​",
            "_view_module": "@jupyter-widgets/controls",
            "_model_module_version": "1.5.0",
            "value": " 362/362 [02:21&lt;00:00,  2.55it/s, loss=0.612, mean_absolute_error=0.505]",
            "_view_count": null,
            "_view_module_version": "1.5.0",
            "description_tooltip": null,
            "_model_module": "@jupyter-widgets/controls",
            "layout": "IPY_MODEL_554af5abd9864fb095f9ef600e5dfddf"
          }
        },
        "23176b235ded4b0e8fc0c42022099b11": {
          "model_module": "@jupyter-widgets/controls",
          "model_name": "ProgressStyleModel",
          "state": {
            "_view_name": "StyleView",
            "_model_name": "ProgressStyleModel",
            "description_width": "initial",
            "_view_module": "@jupyter-widgets/base",
            "_model_module_version": "1.5.0",
            "_view_count": null,
            "_view_module_version": "1.2.0",
            "bar_color": null,
            "_model_module": "@jupyter-widgets/controls"
          }
        },
        "3537a87d48ba4a2c9ed776c46e0107e0": {
          "model_module": "@jupyter-widgets/base",
          "model_name": "LayoutModel",
          "state": {
            "_view_name": "LayoutView",
            "grid_template_rows": null,
            "right": null,
            "justify_content": null,
            "_view_module": "@jupyter-widgets/base",
            "overflow": null,
            "_model_module_version": "1.2.0",
            "_view_count": null,
            "flex_flow": null,
            "width": null,
            "min_width": null,
            "border": null,
            "align_items": null,
            "bottom": null,
            "_model_module": "@jupyter-widgets/base",
            "top": null,
            "grid_column": null,
            "overflow_y": null,
            "overflow_x": null,
            "grid_auto_flow": null,
            "grid_area": null,
            "grid_template_columns": null,
            "flex": null,
            "_model_name": "LayoutModel",
            "justify_items": null,
            "grid_row": null,
            "max_height": null,
            "align_content": null,
            "visibility": null,
            "align_self": null,
            "height": null,
            "min_height": null,
            "padding": null,
            "grid_auto_rows": null,
            "grid_gap": null,
            "max_width": null,
            "order": null,
            "_view_module_version": "1.2.0",
            "grid_template_areas": null,
            "object_position": null,
            "object_fit": null,
            "grid_auto_columns": null,
            "margin": null,
            "display": null,
            "left": null
          }
        },
        "f57f71738caa4cda8a821ab965b73896": {
          "model_module": "@jupyter-widgets/controls",
          "model_name": "DescriptionStyleModel",
          "state": {
            "_view_name": "StyleView",
            "_model_name": "DescriptionStyleModel",
            "description_width": "",
            "_view_module": "@jupyter-widgets/base",
            "_model_module_version": "1.5.0",
            "_view_count": null,
            "_view_module_version": "1.2.0",
            "_model_module": "@jupyter-widgets/controls"
          }
        },
        "554af5abd9864fb095f9ef600e5dfddf": {
          "model_module": "@jupyter-widgets/base",
          "model_name": "LayoutModel",
          "state": {
            "_view_name": "LayoutView",
            "grid_template_rows": null,
            "right": null,
            "justify_content": null,
            "_view_module": "@jupyter-widgets/base",
            "overflow": null,
            "_model_module_version": "1.2.0",
            "_view_count": null,
            "flex_flow": null,
            "width": null,
            "min_width": null,
            "border": null,
            "align_items": null,
            "bottom": null,
            "_model_module": "@jupyter-widgets/base",
            "top": null,
            "grid_column": null,
            "overflow_y": null,
            "overflow_x": null,
            "grid_auto_flow": null,
            "grid_area": null,
            "grid_template_columns": null,
            "flex": null,
            "_model_name": "LayoutModel",
            "justify_items": null,
            "grid_row": null,
            "max_height": null,
            "align_content": null,
            "visibility": null,
            "align_self": null,
            "height": null,
            "min_height": null,
            "padding": null,
            "grid_auto_rows": null,
            "grid_gap": null,
            "max_width": null,
            "order": null,
            "_view_module_version": "1.2.0",
            "grid_template_areas": null,
            "object_position": null,
            "object_fit": null,
            "grid_auto_columns": null,
            "margin": null,
            "display": null,
            "left": null
          }
        },
        "35ae63a1487e4a0e943bf75709b8d449": {
          "model_module": "@jupyter-widgets/controls",
          "model_name": "HBoxModel",
          "state": {
            "_view_name": "HBoxView",
            "_dom_classes": [],
            "_model_name": "HBoxModel",
            "_view_module": "@jupyter-widgets/controls",
            "_model_module_version": "1.5.0",
            "_view_count": null,
            "_view_module_version": "1.5.0",
            "box_style": "",
            "layout": "IPY_MODEL_bd57aa174f8744d69fb695daf16c2ce0",
            "_model_module": "@jupyter-widgets/controls",
            "children": [
              "IPY_MODEL_b9d997e36d42496782c8f4b58b07a266",
              "IPY_MODEL_1805bc79fff644eda977667f2c803a1f"
            ]
          }
        },
        "bd57aa174f8744d69fb695daf16c2ce0": {
          "model_module": "@jupyter-widgets/base",
          "model_name": "LayoutModel",
          "state": {
            "_view_name": "LayoutView",
            "grid_template_rows": null,
            "right": null,
            "justify_content": null,
            "_view_module": "@jupyter-widgets/base",
            "overflow": null,
            "_model_module_version": "1.2.0",
            "_view_count": null,
            "flex_flow": null,
            "width": null,
            "min_width": null,
            "border": null,
            "align_items": null,
            "bottom": null,
            "_model_module": "@jupyter-widgets/base",
            "top": null,
            "grid_column": null,
            "overflow_y": null,
            "overflow_x": null,
            "grid_auto_flow": null,
            "grid_area": null,
            "grid_template_columns": null,
            "flex": null,
            "_model_name": "LayoutModel",
            "justify_items": null,
            "grid_row": null,
            "max_height": null,
            "align_content": null,
            "visibility": null,
            "align_self": null,
            "height": null,
            "min_height": null,
            "padding": null,
            "grid_auto_rows": null,
            "grid_gap": null,
            "max_width": null,
            "order": null,
            "_view_module_version": "1.2.0",
            "grid_template_areas": null,
            "object_position": null,
            "object_fit": null,
            "grid_auto_columns": null,
            "margin": null,
            "display": null,
            "left": null
          }
        },
        "b9d997e36d42496782c8f4b58b07a266": {
          "model_module": "@jupyter-widgets/controls",
          "model_name": "FloatProgressModel",
          "state": {
            "_view_name": "ProgressView",
            "style": "IPY_MODEL_4fb5524e30ec4ac19783f833a166703f",
            "_dom_classes": [],
            "description": "Epoch 5/5: 100%",
            "_model_name": "FloatProgressModel",
            "bar_style": "success",
            "max": 362,
            "_view_module": "@jupyter-widgets/controls",
            "_model_module_version": "1.5.0",
            "value": 362,
            "_view_count": null,
            "_view_module_version": "1.5.0",
            "orientation": "horizontal",
            "min": 0,
            "description_tooltip": null,
            "_model_module": "@jupyter-widgets/controls",
            "layout": "IPY_MODEL_ef757540477c45c58064d539034a62f5"
          }
        },
        "1805bc79fff644eda977667f2c803a1f": {
          "model_module": "@jupyter-widgets/controls",
          "model_name": "HTMLModel",
          "state": {
            "_view_name": "HTMLView",
            "style": "IPY_MODEL_38cfdc0b3e22416f8128446b58273f6d",
            "_dom_classes": [],
            "description": "",
            "_model_name": "HTMLModel",
            "placeholder": "​",
            "_view_module": "@jupyter-widgets/controls",
            "_model_module_version": "1.5.0",
            "value": " 362/362 [00:09&lt;00:00, 37.45it/s, loss=0.637, mean_absolute_error=0.513]",
            "_view_count": null,
            "_view_module_version": "1.5.0",
            "description_tooltip": null,
            "_model_module": "@jupyter-widgets/controls",
            "layout": "IPY_MODEL_cf2c536784794af49c99889944280149"
          }
        },
        "4fb5524e30ec4ac19783f833a166703f": {
          "model_module": "@jupyter-widgets/controls",
          "model_name": "ProgressStyleModel",
          "state": {
            "_view_name": "StyleView",
            "_model_name": "ProgressStyleModel",
            "description_width": "initial",
            "_view_module": "@jupyter-widgets/base",
            "_model_module_version": "1.5.0",
            "_view_count": null,
            "_view_module_version": "1.2.0",
            "bar_color": null,
            "_model_module": "@jupyter-widgets/controls"
          }
        },
        "ef757540477c45c58064d539034a62f5": {
          "model_module": "@jupyter-widgets/base",
          "model_name": "LayoutModel",
          "state": {
            "_view_name": "LayoutView",
            "grid_template_rows": null,
            "right": null,
            "justify_content": null,
            "_view_module": "@jupyter-widgets/base",
            "overflow": null,
            "_model_module_version": "1.2.0",
            "_view_count": null,
            "flex_flow": null,
            "width": null,
            "min_width": null,
            "border": null,
            "align_items": null,
            "bottom": null,
            "_model_module": "@jupyter-widgets/base",
            "top": null,
            "grid_column": null,
            "overflow_y": null,
            "overflow_x": null,
            "grid_auto_flow": null,
            "grid_area": null,
            "grid_template_columns": null,
            "flex": null,
            "_model_name": "LayoutModel",
            "justify_items": null,
            "grid_row": null,
            "max_height": null,
            "align_content": null,
            "visibility": null,
            "align_self": null,
            "height": null,
            "min_height": null,
            "padding": null,
            "grid_auto_rows": null,
            "grid_gap": null,
            "max_width": null,
            "order": null,
            "_view_module_version": "1.2.0",
            "grid_template_areas": null,
            "object_position": null,
            "object_fit": null,
            "grid_auto_columns": null,
            "margin": null,
            "display": null,
            "left": null
          }
        },
        "38cfdc0b3e22416f8128446b58273f6d": {
          "model_module": "@jupyter-widgets/controls",
          "model_name": "DescriptionStyleModel",
          "state": {
            "_view_name": "StyleView",
            "_model_name": "DescriptionStyleModel",
            "description_width": "",
            "_view_module": "@jupyter-widgets/base",
            "_model_module_version": "1.5.0",
            "_view_count": null,
            "_view_module_version": "1.2.0",
            "_model_module": "@jupyter-widgets/controls"
          }
        },
        "cf2c536784794af49c99889944280149": {
          "model_module": "@jupyter-widgets/base",
          "model_name": "LayoutModel",
          "state": {
            "_view_name": "LayoutView",
            "grid_template_rows": null,
            "right": null,
            "justify_content": null,
            "_view_module": "@jupyter-widgets/base",
            "overflow": null,
            "_model_module_version": "1.2.0",
            "_view_count": null,
            "flex_flow": null,
            "width": null,
            "min_width": null,
            "border": null,
            "align_items": null,
            "bottom": null,
            "_model_module": "@jupyter-widgets/base",
            "top": null,
            "grid_column": null,
            "overflow_y": null,
            "overflow_x": null,
            "grid_auto_flow": null,
            "grid_area": null,
            "grid_template_columns": null,
            "flex": null,
            "_model_name": "LayoutModel",
            "justify_items": null,
            "grid_row": null,
            "max_height": null,
            "align_content": null,
            "visibility": null,
            "align_self": null,
            "height": null,
            "min_height": null,
            "padding": null,
            "grid_auto_rows": null,
            "grid_gap": null,
            "max_width": null,
            "order": null,
            "_view_module_version": "1.2.0",
            "grid_template_areas": null,
            "object_position": null,
            "object_fit": null,
            "grid_auto_columns": null,
            "margin": null,
            "display": null,
            "left": null
          }
        }
      }
    },
    "colab": {
      "name": "12_custom_models_and_training_with_tensorflow.ipynb",
      "provenance": []
    }
  },
  "cells": [
    {
      "cell_type": "markdown",
      "metadata": {
        "id": "OxtkcmfnJCC1"
      },
      "source": [
        "**12장 – 텐서플로를 사용한 사용자 정의 모델과 훈련**"
      ]
    },
    {
      "cell_type": "markdown",
      "metadata": {
        "id": "Q7ws-vC2JCC2"
      },
      "source": [
        "_이 노트북은 12장에 있는 모든 샘플 코드와 연습문제 해답을 가지고 있습니다._"
      ]
    },
    {
      "cell_type": "markdown",
      "metadata": {
        "id": "Z2x6kWdjJCC2"
      },
      "source": [
        "<table align=\"left\">\n",
        "  <td>\n",
        "    <a target=\"_blank\" href=\"https://colab.research.google.com/github/rickiepark/handson-ml2/blob/master/12_custom_models_and_training_with_tensorflow.ipynb\"><img src=\"https://www.tensorflow.org/images/colab_logo_32px.png\" />구글 코랩에서 실행하기</a>\n",
        "  </td>\n",
        "</table>"
      ]
    },
    {
      "cell_type": "markdown",
      "metadata": {
        "id": "Ixx-uOeZJCC3"
      },
      "source": [
        "# 설정"
      ]
    },
    {
      "cell_type": "markdown",
      "metadata": {
        "id": "qmdbMRiYJCC3"
      },
      "source": [
        "먼저 몇 개의 모듈을 임포트합니다. 맷플롯립 그래프를 인라인으로 출력하도록 만들고 그림을 저장하는 함수를 준비합니다. 또한 파이썬 버전이 3.5 이상인지 확인합니다(파이썬 2.x에서도 동작하지만 곧 지원이 중단되므로 파이썬 3을 사용하는 것이 좋습니다). 사이킷런 버전이 0.20 이상인지와 텐서플로 버전이 2.0 이상인지 확인합니다."
      ]
    },
    {
      "cell_type": "code",
      "metadata": {
        "execution": {
          "iopub.execute_input": "2021-07-04T08:14:30.231979Z",
          "iopub.status.busy": "2021-07-04T08:14:30.230153Z",
          "iopub.status.idle": "2021-07-04T08:14:34.245013Z",
          "shell.execute_reply": "2021-07-04T08:14:34.246445Z"
        },
        "id": "2qWuYvHlJCC3"
      },
      "source": [
        "# 파이썬 ≥3.5 필수\n",
        "import sys\n",
        "assert sys.version_info >= (3, 5)\n",
        "\n",
        "# 사이킷런 ≥0.20 필수\n",
        "import sklearn\n",
        "assert sklearn.__version__ >= \"0.20\"\n",
        "\n",
        "try:\n",
        "    # %tensorflow_version은 코랩 명령입니다.\n",
        "    %tensorflow_version 2.x\n",
        "except Exception:\n",
        "    pass\n",
        "\n",
        "# 이 노트북은 텐서플로 ≥2.4이 필요합니다\n",
        "# 2.x 버전은 대부분 동일한 결과를 만들지만 몇 가지 버그가 있습니다.\n",
        "import tensorflow as tf\n",
        "from tensorflow import keras\n",
        "assert tf.__version__ >= \"2.4\"\n",
        "\n",
        "# 공통 모듈 임포트\n",
        "import numpy as np\n",
        "import os\n",
        "\n",
        "# 노트북 실행 결과를 동일하게 유지하기 위해\n",
        "np.random.seed(42)\n",
        "tf.random.set_seed(42)\n",
        "\n",
        "# 깔끔한 그래프 출력을 위해\n",
        "%matplotlib inline\n",
        "import matplotlib as mpl\n",
        "import matplotlib.pyplot as plt\n",
        "mpl.rc('axes', labelsize=14)\n",
        "mpl.rc('xtick', labelsize=12)\n",
        "mpl.rc('ytick', labelsize=12)\n",
        "\n",
        "# 그림을 저장할 위치\n",
        "PROJECT_ROOT_DIR = \".\"\n",
        "CHAPTER_ID = \"deep\"\n",
        "IMAGES_PATH = os.path.join(PROJECT_ROOT_DIR, \"images\", CHAPTER_ID)\n",
        "os.makedirs(IMAGES_PATH, exist_ok=True)\n",
        "\n",
        "def save_fig(fig_id, tight_layout=True, fig_extension=\"png\", resolution=300):\n",
        "    path = os.path.join(IMAGES_PATH, fig_id + \".\" + fig_extension)\n",
        "    print(\"그림 저장:\", fig_id)\n",
        "    if tight_layout:\n",
        "        plt.tight_layout()\n",
        "    plt.savefig(path, format=fig_extension, dpi=resolution)"
      ],
      "execution_count": 2,
      "outputs": []
    },
    {
      "cell_type": "markdown",
      "metadata": {
        "id": "M_R9W0pDJCC4"
      },
      "source": [
        "## 텐서와 연산"
      ]
    },
    {
      "cell_type": "markdown",
      "metadata": {
        "id": "PQBVMwn5JCC5"
      },
      "source": [
        "### 텐서"
      ]
    },
    {
      "cell_type": "code",
      "metadata": {
        "execution": {
          "iopub.execute_input": "2021-07-04T08:14:35.460590Z",
          "iopub.status.busy": "2021-07-04T08:14:35.458827Z",
          "iopub.status.idle": "2021-07-04T08:14:35.467218Z",
          "shell.execute_reply": "2021-07-04T08:14:35.468643Z"
        },
        "id": "IOzHBEDZJCC5",
        "outputId": "200f2390-ddd3-416c-ced7-dacfa99bb2ca",
        "colab": {
          "base_uri": "https://localhost:8080/"
        }
      },
      "source": [
        "tf.constant([[1., 2., 3.], [4., 5., 6.]]) # 행렬"
      ],
      "execution_count": 2,
      "outputs": [
        {
          "output_type": "execute_result",
          "data": {
            "text/plain": [
              "<tf.Tensor: shape=(2, 3), dtype=float32, numpy=\n",
              "array([[1., 2., 3.],\n",
              "       [4., 5., 6.]], dtype=float32)>"
            ]
          },
          "metadata": {
            "tags": []
          },
          "execution_count": 2
        }
      ]
    },
    {
      "cell_type": "code",
      "metadata": {
        "execution": {
          "iopub.execute_input": "2021-07-04T08:14:35.477378Z",
          "iopub.status.busy": "2021-07-04T08:14:35.476485Z",
          "iopub.status.idle": "2021-07-04T08:14:35.481997Z",
          "shell.execute_reply": "2021-07-04T08:14:35.482893Z"
        },
        "id": "6cfUpTlUJCC6",
        "outputId": "36749c35-0599-4a3e-de39-c463997e58ea",
        "colab": {
          "base_uri": "https://localhost:8080/"
        }
      },
      "source": [
        "tf.constant(42) # 스칼라"
      ],
      "execution_count": 3,
      "outputs": [
        {
          "output_type": "execute_result",
          "data": {
            "text/plain": [
              "<tf.Tensor: shape=(), dtype=int32, numpy=42>"
            ]
          },
          "metadata": {
            "tags": []
          },
          "execution_count": 3
        }
      ]
    },
    {
      "cell_type": "code",
      "metadata": {
        "execution": {
          "iopub.execute_input": "2021-07-04T08:14:35.492311Z",
          "iopub.status.busy": "2021-07-04T08:14:35.491089Z",
          "iopub.status.idle": "2021-07-04T08:14:35.495539Z",
          "shell.execute_reply": "2021-07-04T08:14:35.496432Z"
        },
        "id": "fKliCor_JCC7",
        "outputId": "52980c4c-16a9-4724-adb7-bd6d04a9b165",
        "colab": {
          "base_uri": "https://localhost:8080/"
        }
      },
      "source": [
        "t = tf.constant([[1., 2., 3.], [4., 5., 6.]])\n",
        "t"
      ],
      "execution_count": 4,
      "outputs": [
        {
          "output_type": "execute_result",
          "data": {
            "text/plain": [
              "<tf.Tensor: shape=(2, 3), dtype=float32, numpy=\n",
              "array([[1., 2., 3.],\n",
              "       [4., 5., 6.]], dtype=float32)>"
            ]
          },
          "metadata": {
            "tags": []
          },
          "execution_count": 4
        }
      ]
    },
    {
      "cell_type": "code",
      "metadata": {
        "execution": {
          "iopub.execute_input": "2021-07-04T08:14:35.503752Z",
          "iopub.status.busy": "2021-07-04T08:14:35.502688Z",
          "iopub.status.idle": "2021-07-04T08:14:35.506860Z",
          "shell.execute_reply": "2021-07-04T08:14:35.507697Z"
        },
        "id": "MosEHjSVJCC7",
        "outputId": "88a587d3-4ac9-42d2-e9ca-f7a59a560317",
        "colab": {
          "base_uri": "https://localhost:8080/"
        }
      },
      "source": [
        "t.shape"
      ],
      "execution_count": 5,
      "outputs": [
        {
          "output_type": "execute_result",
          "data": {
            "text/plain": [
              "TensorShape([2, 3])"
            ]
          },
          "metadata": {
            "tags": []
          },
          "execution_count": 5
        }
      ]
    },
    {
      "cell_type": "code",
      "metadata": {
        "execution": {
          "iopub.execute_input": "2021-07-04T08:14:35.514996Z",
          "iopub.status.busy": "2021-07-04T08:14:35.513990Z",
          "iopub.status.idle": "2021-07-04T08:14:35.518551Z",
          "shell.execute_reply": "2021-07-04T08:14:35.519382Z"
        },
        "id": "NvYvAgDPJCC7",
        "outputId": "a4809622-5a32-4ddb-97e3-2d81236bb938",
        "colab": {
          "base_uri": "https://localhost:8080/"
        }
      },
      "source": [
        "t.dtype"
      ],
      "execution_count": 6,
      "outputs": [
        {
          "output_type": "execute_result",
          "data": {
            "text/plain": [
              "tf.float32"
            ]
          },
          "metadata": {
            "tags": []
          },
          "execution_count": 6
        }
      ]
    },
    {
      "cell_type": "markdown",
      "metadata": {
        "id": "N4NUiLfXJCC8"
      },
      "source": [
        "### 인덱싱"
      ]
    },
    {
      "cell_type": "code",
      "metadata": {
        "execution": {
          "iopub.execute_input": "2021-07-04T08:14:35.527030Z",
          "iopub.status.busy": "2021-07-04T08:14:35.525947Z",
          "iopub.status.idle": "2021-07-04T08:14:36.017537Z",
          "shell.execute_reply": "2021-07-04T08:14:36.018983Z"
        },
        "id": "PGasbb41JCC8",
        "outputId": "97bde43c-3f3b-49e3-ba91-06429a3af9db",
        "colab": {
          "base_uri": "https://localhost:8080/"
        }
      },
      "source": [
        "t[:, 1:]"
      ],
      "execution_count": 7,
      "outputs": [
        {
          "output_type": "execute_result",
          "data": {
            "text/plain": [
              "<tf.Tensor: shape=(2, 2), dtype=float32, numpy=\n",
              "array([[2., 3.],\n",
              "       [5., 6.]], dtype=float32)>"
            ]
          },
          "metadata": {
            "tags": []
          },
          "execution_count": 7
        }
      ]
    },
    {
      "cell_type": "code",
      "metadata": {
        "execution": {
          "iopub.execute_input": "2021-07-04T08:14:36.027301Z",
          "iopub.status.busy": "2021-07-04T08:14:36.026287Z",
          "iopub.status.idle": "2021-07-04T08:14:36.032628Z",
          "shell.execute_reply": "2021-07-04T08:14:36.033409Z"
        },
        "id": "3AUkDWWPJCC8",
        "outputId": "50efb465-6ebe-4b7d-c367-e3d235c604df",
        "colab": {
          "base_uri": "https://localhost:8080/"
        }
      },
      "source": [
        "t[..., 1, tf.newaxis]\n",
        "# ...은 그냥 그 앞에 애들 다 말하는 거다.\n",
        "\n",
        "'''\n",
        "newaxis 설명\n",
        " https://076923.github.io/posts/Python-numpy-9/\n",
        " https://rfriend.tistory.com/288\n",
        "'''"
      ],
      "execution_count": 71,
      "outputs": [
        {
          "output_type": "execute_result",
          "data": {
            "text/plain": [
              "<tf.Tensor: shape=(2, 1), dtype=float32, numpy=\n",
              "array([[2.],\n",
              "       [5.]], dtype=float32)>"
            ]
          },
          "metadata": {
            "tags": []
          },
          "execution_count": 71
        }
      ]
    },
    {
      "cell_type": "code",
      "metadata": {
        "id": "dPZoGZg9vxiy",
        "outputId": "5b8f11f8-7a45-4181-c3ed-3f578b694def",
        "colab": {
          "base_uri": "https://localhost:8080/"
        }
      },
      "source": [
        "t[:,1,tf.newaxis]\n",
        "# 위랑 아래랑 똑같다."
      ],
      "execution_count": 74,
      "outputs": [
        {
          "output_type": "execute_result",
          "data": {
            "text/plain": [
              "<tf.Tensor: shape=(2, 1), dtype=float32, numpy=\n",
              "array([[2.],\n",
              "       [5.]], dtype=float32)>"
            ]
          },
          "metadata": {
            "tags": []
          },
          "execution_count": 74
        }
      ]
    },
    {
      "cell_type": "markdown",
      "metadata": {
        "id": "MdyNtGOyJCC8"
      },
      "source": [
        "### 연산"
      ]
    },
    {
      "cell_type": "code",
      "metadata": {
        "execution": {
          "iopub.execute_input": "2021-07-04T08:14:36.040360Z",
          "iopub.status.busy": "2021-07-04T08:14:36.039355Z",
          "iopub.status.idle": "2021-07-04T08:14:36.046051Z",
          "shell.execute_reply": "2021-07-04T08:14:36.046883Z"
        },
        "id": "5rCvrjIJJCC8",
        "outputId": "313f919f-38c8-49dd-ce1e-8c33747fe59b",
        "colab": {
          "base_uri": "https://localhost:8080/"
        }
      },
      "source": [
        "t + 10"
      ],
      "execution_count": 75,
      "outputs": [
        {
          "output_type": "execute_result",
          "data": {
            "text/plain": [
              "<tf.Tensor: shape=(2, 3), dtype=float32, numpy=\n",
              "array([[11., 12., 13.],\n",
              "       [14., 15., 16.]], dtype=float32)>"
            ]
          },
          "metadata": {
            "tags": []
          },
          "execution_count": 75
        }
      ]
    },
    {
      "cell_type": "code",
      "metadata": {
        "execution": {
          "iopub.execute_input": "2021-07-04T08:14:36.053653Z",
          "iopub.status.busy": "2021-07-04T08:14:36.052594Z",
          "iopub.status.idle": "2021-07-04T08:14:36.059689Z",
          "shell.execute_reply": "2021-07-04T08:14:36.060521Z"
        },
        "id": "zsRe-Td3JCC8",
        "outputId": "79217295-c53a-4b2f-d641-32656ab358a0",
        "colab": {
          "base_uri": "https://localhost:8080/"
        }
      },
      "source": [
        "tf.square(t)"
      ],
      "execution_count": 76,
      "outputs": [
        {
          "output_type": "execute_result",
          "data": {
            "text/plain": [
              "<tf.Tensor: shape=(2, 3), dtype=float32, numpy=\n",
              "array([[ 1.,  4.,  9.],\n",
              "       [16., 25., 36.]], dtype=float32)>"
            ]
          },
          "metadata": {
            "tags": []
          },
          "execution_count": 76
        }
      ]
    },
    {
      "cell_type": "code",
      "metadata": {
        "execution": {
          "iopub.execute_input": "2021-07-04T08:14:36.068783Z",
          "iopub.status.busy": "2021-07-04T08:14:36.067640Z",
          "iopub.status.idle": "2021-07-04T08:14:37.295123Z",
          "shell.execute_reply": "2021-07-04T08:14:37.296584Z"
        },
        "id": "FmdAl0tlJCC9",
        "outputId": "14385cfa-9182-4317-b834-6fce7b3f7128",
        "colab": {
          "base_uri": "https://localhost:8080/"
        }
      },
      "source": [
        "t @ tf.transpose(t)\n",
        "# @는 행렬곱!"
      ],
      "execution_count": 77,
      "outputs": [
        {
          "output_type": "execute_result",
          "data": {
            "text/plain": [
              "<tf.Tensor: shape=(2, 2), dtype=float32, numpy=\n",
              "array([[14., 32.],\n",
              "       [32., 77.]], dtype=float32)>"
            ]
          },
          "metadata": {
            "tags": []
          },
          "execution_count": 77
        }
      ]
    },
    {
      "cell_type": "markdown",
      "metadata": {
        "id": "AD3h-o7mJCC9"
      },
      "source": [
        "### `keras.backend` 사용하기"
      ]
    },
    {
      "cell_type": "code",
      "metadata": {
        "execution": {
          "iopub.execute_input": "2021-07-04T08:14:37.307817Z",
          "iopub.status.busy": "2021-07-04T08:14:37.306372Z",
          "iopub.status.idle": "2021-07-04T08:14:37.313260Z",
          "shell.execute_reply": "2021-07-04T08:14:37.314389Z"
        },
        "id": "UrujvtP_JCC9",
        "outputId": "25ec170a-5cdf-428c-b411-ac51288e2fea",
        "colab": {
          "base_uri": "https://localhost:8080/"
        }
      },
      "source": [
        "from tensorflow import keras\n",
        "K = keras.backend\n",
        "K.square(K.transpose(t)) + 10\n",
        "\n",
        "# 저수준, 고수준 api 차이\n",
        "# https://m.blog.naver.com/PostView.naver?isHttpsRedirect=true&blogId=worb1605&logNo=221407983135"
      ],
      "execution_count": 78,
      "outputs": [
        {
          "output_type": "execute_result",
          "data": {
            "text/plain": [
              "<tf.Tensor: shape=(3, 2), dtype=float32, numpy=\n",
              "array([[11., 26.],\n",
              "       [14., 35.],\n",
              "       [19., 46.]], dtype=float32)>"
            ]
          },
          "metadata": {
            "tags": []
          },
          "execution_count": 78
        }
      ]
    },
    {
      "cell_type": "markdown",
      "metadata": {
        "id": "b4u0xBMpJCC9"
      },
      "source": [
        "### 넘파이 변환"
      ]
    },
    {
      "cell_type": "code",
      "metadata": {
        "execution": {
          "iopub.execute_input": "2021-07-04T08:14:37.323539Z",
          "iopub.status.busy": "2021-07-04T08:14:37.322635Z",
          "iopub.status.idle": "2021-07-04T08:14:37.329008Z",
          "shell.execute_reply": "2021-07-04T08:14:37.328192Z"
        },
        "id": "jNStC81lJCC-",
        "outputId": "da75c18b-6dee-473f-9a15-4ced82492a73",
        "colab": {
          "base_uri": "https://localhost:8080/"
        }
      },
      "source": [
        "a = np.array([2., 4., 5.])\n",
        "tf.constant(a)"
      ],
      "execution_count": 88,
      "outputs": [
        {
          "output_type": "execute_result",
          "data": {
            "text/plain": [
              "<tf.Tensor: shape=(3,), dtype=float64, numpy=array([2., 4., 5.])>"
            ]
          },
          "metadata": {
            "tags": []
          },
          "execution_count": 88
        }
      ]
    },
    {
      "cell_type": "code",
      "metadata": {
        "execution": {
          "iopub.execute_input": "2021-07-04T08:14:37.337928Z",
          "iopub.status.busy": "2021-07-04T08:14:37.336692Z",
          "iopub.status.idle": "2021-07-04T08:14:37.341174Z",
          "shell.execute_reply": "2021-07-04T08:14:37.342140Z"
        },
        "id": "wql1N_cvJCC-",
        "outputId": "e6c9025e-39b8-4bf8-827f-943e79cb673d",
        "colab": {
          "base_uri": "https://localhost:8080/"
        }
      },
      "source": [
        "t.numpy()"
      ],
      "execution_count": 85,
      "outputs": [
        {
          "output_type": "execute_result",
          "data": {
            "text/plain": [
              "array([[1., 2., 3.],\n",
              "       [4., 5., 6.]], dtype=float32)"
            ]
          },
          "metadata": {
            "tags": []
          },
          "execution_count": 85
        }
      ]
    },
    {
      "cell_type": "code",
      "metadata": {
        "execution": {
          "iopub.execute_input": "2021-07-04T08:14:37.350290Z",
          "iopub.status.busy": "2021-07-04T08:14:37.349129Z",
          "iopub.status.idle": "2021-07-04T08:14:37.354304Z",
          "shell.execute_reply": "2021-07-04T08:14:37.355414Z"
        },
        "id": "zyXm_3zgJCC-",
        "outputId": "20869178-294f-4741-842a-33cfcd546992",
        "colab": {
          "base_uri": "https://localhost:8080/"
        }
      },
      "source": [
        "np.array(t)"
      ],
      "execution_count": 86,
      "outputs": [
        {
          "output_type": "execute_result",
          "data": {
            "text/plain": [
              "array([[1., 2., 3.],\n",
              "       [4., 5., 6.]], dtype=float32)"
            ]
          },
          "metadata": {
            "tags": []
          },
          "execution_count": 86
        }
      ]
    },
    {
      "cell_type": "code",
      "metadata": {
        "execution": {
          "iopub.execute_input": "2021-07-04T08:14:37.363283Z",
          "iopub.status.busy": "2021-07-04T08:14:37.361860Z",
          "iopub.status.idle": "2021-07-04T08:14:37.367717Z",
          "shell.execute_reply": "2021-07-04T08:14:37.368496Z"
        },
        "id": "vf0nJaIZJCC-",
        "outputId": "f55d0e55-ed35-43d3-f3c7-a5e9a57224b1",
        "colab": {
          "base_uri": "https://localhost:8080/"
        }
      },
      "source": [
        "tf.square(a)"
      ],
      "execution_count": 90,
      "outputs": [
        {
          "output_type": "execute_result",
          "data": {
            "text/plain": [
              "<tf.Tensor: shape=(3,), dtype=float64, numpy=array([ 4., 16., 25.])>"
            ]
          },
          "metadata": {
            "tags": []
          },
          "execution_count": 90
        }
      ]
    },
    {
      "cell_type": "code",
      "metadata": {
        "execution": {
          "iopub.execute_input": "2021-07-04T08:14:37.376267Z",
          "iopub.status.busy": "2021-07-04T08:14:37.375251Z",
          "iopub.status.idle": "2021-07-04T08:14:37.379815Z",
          "shell.execute_reply": "2021-07-04T08:14:37.380710Z"
        },
        "id": "ptP1Y0olJCC-",
        "outputId": "f19cc7da-139e-4f2b-f648-f43162ddab0f",
        "colab": {
          "base_uri": "https://localhost:8080/"
        }
      },
      "source": [
        "np.square(t)"
      ],
      "execution_count": 91,
      "outputs": [
        {
          "output_type": "execute_result",
          "data": {
            "text/plain": [
              "array([[ 1.,  4.,  9.],\n",
              "       [16., 25., 36.]], dtype=float32)"
            ]
          },
          "metadata": {
            "tags": []
          },
          "execution_count": 91
        }
      ]
    },
    {
      "cell_type": "markdown",
      "metadata": {
        "id": "NmTla6DjJCC-"
      },
      "source": [
        "### 타입 변환"
      ]
    },
    {
      "cell_type": "code",
      "metadata": {
        "execution": {
          "iopub.execute_input": "2021-07-04T08:14:37.389192Z",
          "iopub.status.busy": "2021-07-04T08:14:37.387744Z",
          "iopub.status.idle": "2021-07-04T08:14:37.393285Z",
          "shell.execute_reply": "2021-07-04T08:14:37.394243Z"
        },
        "id": "E06QO98DJCC-",
        "outputId": "ba18bf7e-059f-4a3b-e63a-0a61d2f50788",
        "colab": {
          "base_uri": "https://localhost:8080/"
        }
      },
      "source": [
        "try:\n",
        "    tf.constant(2.0) + tf.constant(40)\n",
        "except tf.errors.InvalidArgumentError as ex:\n",
        "    print(ex)"
      ],
      "execution_count": 18,
      "outputs": [
        {
          "output_type": "stream",
          "text": [
            "cannot compute AddV2 as input #1(zero-based) was expected to be a float tensor but is a int32 tensor [Op:AddV2]\n"
          ],
          "name": "stdout"
        }
      ]
    },
    {
      "cell_type": "code",
      "metadata": {
        "execution": {
          "iopub.execute_input": "2021-07-04T08:14:37.403920Z",
          "iopub.status.busy": "2021-07-04T08:14:37.402792Z",
          "iopub.status.idle": "2021-07-04T08:14:37.407612Z",
          "shell.execute_reply": "2021-07-04T08:14:37.408498Z"
        },
        "id": "3L0AIZYxJCC-",
        "outputId": "f0b2fe9d-06b3-4504-d9fc-b5b92638efea",
        "colab": {
          "base_uri": "https://localhost:8080/"
        }
      },
      "source": [
        "try:\n",
        "    tf.constant(2.0) + tf.constant(40., dtype=tf.float64)\n",
        "except tf.errors.InvalidArgumentError as ex:\n",
        "    print(ex)"
      ],
      "execution_count": 19,
      "outputs": [
        {
          "output_type": "stream",
          "text": [
            "cannot compute AddV2 as input #1(zero-based) was expected to be a float tensor but is a double tensor [Op:AddV2]\n"
          ],
          "name": "stdout"
        }
      ]
    },
    {
      "cell_type": "code",
      "metadata": {
        "execution": {
          "iopub.execute_input": "2021-07-04T08:14:37.417591Z",
          "iopub.status.busy": "2021-07-04T08:14:37.416454Z",
          "iopub.status.idle": "2021-07-04T08:14:37.423410Z",
          "shell.execute_reply": "2021-07-04T08:14:37.422467Z"
        },
        "id": "-x72NBsJJCC-",
        "outputId": "866f0655-1f93-453e-bf2c-d0639213592f",
        "colab": {
          "base_uri": "https://localhost:8080/"
        }
      },
      "source": [
        "t2 = tf.constant(40., dtype=tf.float64)\n",
        "tf.constant(2.0) + tf.cast(t2, tf.float32)"
      ],
      "execution_count": 92,
      "outputs": [
        {
          "output_type": "execute_result",
          "data": {
            "text/plain": [
              "<tf.Tensor: shape=(), dtype=float32, numpy=42.0>"
            ]
          },
          "metadata": {
            "tags": []
          },
          "execution_count": 92
        }
      ]
    },
    {
      "cell_type": "markdown",
      "metadata": {
        "id": "WgjD4IbwJCC_"
      },
      "source": [
        "### 문자열"
      ]
    },
    {
      "cell_type": "code",
      "metadata": {
        "execution": {
          "iopub.execute_input": "2021-07-04T08:14:37.431405Z",
          "iopub.status.busy": "2021-07-04T08:14:37.430323Z",
          "iopub.status.idle": "2021-07-04T08:14:37.435955Z",
          "shell.execute_reply": "2021-07-04T08:14:37.435068Z"
        },
        "id": "I-YwMrdVJCC_",
        "outputId": "96a34785-de5e-4405-9223-80da18e7bd4d",
        "colab": {
          "base_uri": "https://localhost:8080/"
        }
      },
      "source": [
        "tf.constant(b\"hello world\")"
      ],
      "execution_count": 93,
      "outputs": [
        {
          "output_type": "execute_result",
          "data": {
            "text/plain": [
              "<tf.Tensor: shape=(), dtype=string, numpy=b'hello world'>"
            ]
          },
          "metadata": {
            "tags": []
          },
          "execution_count": 93
        }
      ]
    },
    {
      "cell_type": "code",
      "metadata": {
        "execution": {
          "iopub.execute_input": "2021-07-04T08:14:37.443720Z",
          "iopub.status.busy": "2021-07-04T08:14:37.442656Z",
          "iopub.status.idle": "2021-07-04T08:14:37.447589Z",
          "shell.execute_reply": "2021-07-04T08:14:37.448418Z"
        },
        "id": "TqXOspUqJCC_",
        "outputId": "d6dfe967-08ff-4dc6-fccd-db8125857be7",
        "colab": {
          "base_uri": "https://localhost:8080/"
        }
      },
      "source": [
        "tf.constant(\"café\")"
      ],
      "execution_count": 94,
      "outputs": [
        {
          "output_type": "execute_result",
          "data": {
            "text/plain": [
              "<tf.Tensor: shape=(), dtype=string, numpy=b'caf\\xc3\\xa9'>"
            ]
          },
          "metadata": {
            "tags": []
          },
          "execution_count": 94
        }
      ]
    },
    {
      "cell_type": "code",
      "metadata": {
        "execution": {
          "iopub.execute_input": "2021-07-04T08:14:37.457168Z",
          "iopub.status.busy": "2021-07-04T08:14:37.456101Z",
          "iopub.status.idle": "2021-07-04T08:14:37.461581Z",
          "shell.execute_reply": "2021-07-04T08:14:37.462492Z"
        },
        "id": "oXaN9fMrJCC_",
        "outputId": "a49f3927-723f-4e88-ae96-d1f605d63ee0",
        "colab": {
          "base_uri": "https://localhost:8080/"
        }
      },
      "source": [
        "u = tf.constant([ord(c) for c in \"café\"])\n",
        "u"
      ],
      "execution_count": 95,
      "outputs": [
        {
          "output_type": "execute_result",
          "data": {
            "text/plain": [
              "<tf.Tensor: shape=(4,), dtype=int32, numpy=array([ 99,  97, 102, 233], dtype=int32)>"
            ]
          },
          "metadata": {
            "tags": []
          },
          "execution_count": 95
        }
      ]
    },
    {
      "cell_type": "code",
      "metadata": {
        "execution": {
          "iopub.execute_input": "2021-07-04T08:14:37.471695Z",
          "iopub.status.busy": "2021-07-04T08:14:37.470569Z",
          "iopub.status.idle": "2021-07-04T08:14:37.480015Z",
          "shell.execute_reply": "2021-07-04T08:14:37.479070Z"
        },
        "id": "AFFmhv75JCC_",
        "outputId": "ed90b2e6-67b6-4979-d245-b5b17a3de072",
        "colab": {
          "base_uri": "https://localhost:8080/"
        }
      },
      "source": [
        "b = tf.strings.unicode_encode(u, \"UTF-8\")\n",
        "tf.strings.length(b, unit=\"UTF8_CHAR\")"
      ],
      "execution_count": 96,
      "outputs": [
        {
          "output_type": "execute_result",
          "data": {
            "text/plain": [
              "<tf.Tensor: shape=(), dtype=int32, numpy=4>"
            ]
          },
          "metadata": {
            "tags": []
          },
          "execution_count": 96
        }
      ]
    },
    {
      "cell_type": "code",
      "metadata": {
        "execution": {
          "iopub.execute_input": "2021-07-04T08:14:37.487508Z",
          "iopub.status.busy": "2021-07-04T08:14:37.486374Z",
          "iopub.status.idle": "2021-07-04T08:14:37.492583Z",
          "shell.execute_reply": "2021-07-04T08:14:37.493464Z"
        },
        "id": "Canxj6QuJCC_",
        "outputId": "8f08c151-2909-4cd2-b519-75506a4d2c84",
        "colab": {
          "base_uri": "https://localhost:8080/"
        }
      },
      "source": [
        "tf.strings.unicode_decode(b, \"UTF-8\")"
      ],
      "execution_count": 97,
      "outputs": [
        {
          "output_type": "execute_result",
          "data": {
            "text/plain": [
              "<tf.Tensor: shape=(4,), dtype=int32, numpy=array([ 99,  97, 102, 233], dtype=int32)>"
            ]
          },
          "metadata": {
            "tags": []
          },
          "execution_count": 97
        }
      ]
    },
    {
      "cell_type": "markdown",
      "metadata": {
        "id": "kZYqGu3WJCC_"
      },
      "source": [
        "### 문자열 배열"
      ]
    },
    {
      "cell_type": "code",
      "metadata": {
        "execution": {
          "iopub.execute_input": "2021-07-04T08:14:37.501430Z",
          "iopub.status.busy": "2021-07-04T08:14:37.500296Z",
          "iopub.status.idle": "2021-07-04T08:14:37.503764Z",
          "shell.execute_reply": "2021-07-04T08:14:37.504594Z"
        },
        "id": "LMym8GH6JCDA"
      },
      "source": [
        "p = tf.constant([\"Café\", \"Coffee\", \"caffè\", \"咖啡\"])"
      ],
      "execution_count": 26,
      "outputs": []
    },
    {
      "cell_type": "code",
      "metadata": {
        "execution": {
          "iopub.execute_input": "2021-07-04T08:14:37.512697Z",
          "iopub.status.busy": "2021-07-04T08:14:37.511629Z",
          "iopub.status.idle": "2021-07-04T08:14:37.516662Z",
          "shell.execute_reply": "2021-07-04T08:14:37.517486Z"
        },
        "id": "fc5jmuQiJCDA",
        "outputId": "89e0cae3-5a8f-4c8d-b44e-e7c91204b66a",
        "colab": {
          "base_uri": "https://localhost:8080/"
        }
      },
      "source": [
        "tf.strings.length(p, unit=\"UTF8_CHAR\")"
      ],
      "execution_count": 27,
      "outputs": [
        {
          "output_type": "execute_result",
          "data": {
            "text/plain": [
              "<tf.Tensor: shape=(4,), dtype=int32, numpy=array([4, 6, 5, 2], dtype=int32)>"
            ]
          },
          "metadata": {
            "tags": []
          },
          "execution_count": 27
        }
      ]
    },
    {
      "cell_type": "code",
      "metadata": {
        "execution": {
          "iopub.execute_input": "2021-07-04T08:14:37.524818Z",
          "iopub.status.busy": "2021-07-04T08:14:37.523764Z",
          "iopub.status.idle": "2021-07-04T08:14:37.529752Z",
          "shell.execute_reply": "2021-07-04T08:14:37.530586Z"
        },
        "id": "YxjffnV6JCDA",
        "outputId": "e4f92695-9bcf-4e60-ec78-898e685520b5",
        "colab": {
          "base_uri": "https://localhost:8080/"
        }
      },
      "source": [
        "r = tf.strings.unicode_decode(p, \"UTF8\")\n",
        "r"
      ],
      "execution_count": 28,
      "outputs": [
        {
          "output_type": "execute_result",
          "data": {
            "text/plain": [
              "<tf.RaggedTensor [[67, 97, 102, 233], [67, 111, 102, 102, 101, 101], [99, 97, 102, 102, 232], [21654, 21857]]>"
            ]
          },
          "metadata": {
            "tags": []
          },
          "execution_count": 28
        }
      ]
    },
    {
      "cell_type": "code",
      "metadata": {
        "execution": {
          "iopub.execute_input": "2021-07-04T08:14:37.537541Z",
          "iopub.status.busy": "2021-07-04T08:14:37.536487Z",
          "iopub.status.idle": "2021-07-04T08:14:37.541569Z",
          "shell.execute_reply": "2021-07-04T08:14:37.540647Z"
        },
        "id": "uBdlTQ46JCDA",
        "outputId": "e7c9b997-394b-4b38-aa9a-362818c16398",
        "colab": {
          "base_uri": "https://localhost:8080/"
        }
      },
      "source": [
        "print(r)"
      ],
      "execution_count": 29,
      "outputs": [
        {
          "output_type": "stream",
          "text": [
            "<tf.RaggedTensor [[67, 97, 102, 233], [67, 111, 102, 102, 101, 101], [99, 97, 102, 102, 232], [21654, 21857]]>\n"
          ],
          "name": "stdout"
        }
      ]
    },
    {
      "cell_type": "markdown",
      "metadata": {
        "id": "cG-GC-6BJCDA"
      },
      "source": [
        "### 래그드 텐서"
      ]
    },
    {
      "cell_type": "code",
      "metadata": {
        "execution": {
          "iopub.execute_input": "2021-07-04T08:14:37.548915Z",
          "iopub.status.busy": "2021-07-04T08:14:37.547863Z",
          "iopub.status.idle": "2021-07-04T08:14:37.555844Z",
          "shell.execute_reply": "2021-07-04T08:14:37.556673Z"
        },
        "id": "RbZAsVkcJCDA",
        "outputId": "b8b0398f-8c6e-42b6-aab5-c0a85d2d6b38",
        "colab": {
          "base_uri": "https://localhost:8080/"
        }
      },
      "source": [
        "print(r[1])"
      ],
      "execution_count": 102,
      "outputs": [
        {
          "output_type": "stream",
          "text": [
            "tf.Tensor([ 67 111 102 102 101 101], shape=(6,), dtype=int32)\n"
          ],
          "name": "stdout"
        }
      ]
    },
    {
      "cell_type": "code",
      "metadata": {
        "execution": {
          "iopub.execute_input": "2021-07-04T08:14:37.564019Z",
          "iopub.status.busy": "2021-07-04T08:14:37.562968Z",
          "iopub.status.idle": "2021-07-04T08:14:37.572286Z",
          "shell.execute_reply": "2021-07-04T08:14:37.573167Z"
        },
        "id": "zJaJcjKFJCDA",
        "outputId": "1aec7db4-f582-4a54-97ca-97a82d26edd7",
        "colab": {
          "base_uri": "https://localhost:8080/"
        }
      },
      "source": [
        "print(r[1:3])"
      ],
      "execution_count": 103,
      "outputs": [
        {
          "output_type": "stream",
          "text": [
            "<tf.RaggedTensor [[67, 111, 102, 102, 101, 101], [99, 97, 102, 102, 232]]>\n"
          ],
          "name": "stdout"
        }
      ]
    },
    {
      "cell_type": "code",
      "metadata": {
        "execution": {
          "iopub.execute_input": "2021-07-04T08:14:37.582723Z",
          "iopub.status.busy": "2021-07-04T08:14:37.581478Z",
          "iopub.status.idle": "2021-07-04T08:14:37.589220Z",
          "shell.execute_reply": "2021-07-04T08:14:37.590190Z"
        },
        "id": "CuHND_2nJCDA",
        "outputId": "9169c59f-e79a-42bc-9488-868cf57c502f",
        "colab": {
          "base_uri": "https://localhost:8080/"
        }
      },
      "source": [
        "r2 = tf.ragged.constant([[65, 66], [], [67]])\n",
        "print(tf.concat([r, r2], axis=0))"
      ],
      "execution_count": 104,
      "outputs": [
        {
          "output_type": "stream",
          "text": [
            "<tf.RaggedTensor [[67, 97, 102, 233], [67, 111, 102, 102, 101, 101], [99, 97, 102, 102, 232], [21654, 21857], [65, 66], [], [67]]>\n"
          ],
          "name": "stdout"
        }
      ]
    },
    {
      "cell_type": "code",
      "metadata": {
        "execution": {
          "iopub.execute_input": "2021-07-04T08:14:37.601046Z",
          "iopub.status.busy": "2021-07-04T08:14:37.599831Z",
          "iopub.status.idle": "2021-07-04T08:14:37.610876Z",
          "shell.execute_reply": "2021-07-04T08:14:37.611756Z"
        },
        "id": "NhvjRpXCJCDA",
        "outputId": "490263e6-6bbb-43a5-a61d-6576137cb84a",
        "colab": {
          "base_uri": "https://localhost:8080/"
        }
      },
      "source": [
        "r3 = tf.ragged.constant([[68, 69, 70], [71], [], [72, 73]])\n",
        "print(tf.concat([r, r3], axis=1))"
      ],
      "execution_count": 105,
      "outputs": [
        {
          "output_type": "stream",
          "text": [
            "<tf.RaggedTensor [[67, 97, 102, 233, 68, 69, 70], [67, 111, 102, 102, 101, 101, 71], [99, 97, 102, 102, 232], [21654, 21857, 72, 73]]>\n"
          ],
          "name": "stdout"
        }
      ]
    },
    {
      "cell_type": "code",
      "metadata": {
        "execution": {
          "iopub.execute_input": "2021-07-04T08:14:37.618402Z",
          "iopub.status.busy": "2021-07-04T08:14:37.617243Z",
          "iopub.status.idle": "2021-07-04T08:14:37.623622Z",
          "shell.execute_reply": "2021-07-04T08:14:37.624500Z"
        },
        "id": "kKm_zp36JCDA",
        "outputId": "bfc8da95-92e7-4367-d88a-e02f82232579",
        "colab": {
          "base_uri": "https://localhost:8080/"
        }
      },
      "source": [
        "tf.strings.unicode_encode(r3, \"UTF-8\")"
      ],
      "execution_count": 106,
      "outputs": [
        {
          "output_type": "execute_result",
          "data": {
            "text/plain": [
              "<tf.Tensor: shape=(4,), dtype=string, numpy=array([b'DEF', b'G', b'', b'HI'], dtype=object)>"
            ]
          },
          "metadata": {
            "tags": []
          },
          "execution_count": 106
        }
      ]
    },
    {
      "cell_type": "code",
      "metadata": {
        "execution": {
          "iopub.execute_input": "2021-07-04T08:14:37.631450Z",
          "iopub.status.busy": "2021-07-04T08:14:37.630382Z",
          "iopub.status.idle": "2021-07-04T08:14:37.638374Z",
          "shell.execute_reply": "2021-07-04T08:14:37.639202Z"
        },
        "id": "hVaHTeISJCDA",
        "outputId": "ae3517aa-4711-43f2-852c-27c6eaec570d",
        "colab": {
          "base_uri": "https://localhost:8080/"
        }
      },
      "source": [
        "r.to_tensor()"
      ],
      "execution_count": 107,
      "outputs": [
        {
          "output_type": "execute_result",
          "data": {
            "text/plain": [
              "<tf.Tensor: shape=(4, 6), dtype=int32, numpy=\n",
              "array([[   67,    97,   102,   233,     0,     0],\n",
              "       [   67,   111,   102,   102,   101,   101],\n",
              "       [   99,    97,   102,   102,   232,     0],\n",
              "       [21654, 21857,     0,     0,     0,     0]], dtype=int32)>"
            ]
          },
          "metadata": {
            "tags": []
          },
          "execution_count": 107
        }
      ]
    },
    {
      "cell_type": "markdown",
      "metadata": {
        "id": "Lo3TG26bJCDA"
      },
      "source": [
        "### 희소 텐서"
      ]
    },
    {
      "cell_type": "code",
      "metadata": {
        "execution": {
          "iopub.execute_input": "2021-07-04T08:14:37.650301Z",
          "iopub.status.busy": "2021-07-04T08:14:37.649286Z",
          "iopub.status.idle": "2021-07-04T08:14:37.653371Z",
          "shell.execute_reply": "2021-07-04T08:14:37.654415Z"
        },
        "id": "CAL_xXXPJCDB"
      },
      "source": [
        "s = tf.SparseTensor(indices=[[0, 1], [1, 0], [2, 3]],\n",
        "                    values=[1., 2., 3.],\n",
        "                    dense_shape=[3, 4])"
      ],
      "execution_count": 117,
      "outputs": []
    },
    {
      "cell_type": "code",
      "metadata": {
        "execution": {
          "iopub.execute_input": "2021-07-04T08:14:37.662711Z",
          "iopub.status.busy": "2021-07-04T08:14:37.661456Z",
          "iopub.status.idle": "2021-07-04T08:14:37.666556Z",
          "shell.execute_reply": "2021-07-04T08:14:37.665402Z"
        },
        "id": "Tk4Oij89JCDB",
        "outputId": "e51f50d6-7618-4a8e-ac0a-d8925fd77663",
        "colab": {
          "base_uri": "https://localhost:8080/"
        }
      },
      "source": [
        "print(s)"
      ],
      "execution_count": 118,
      "outputs": [
        {
          "output_type": "stream",
          "text": [
            "SparseTensor(indices=tf.Tensor(\n",
            "[[0 1]\n",
            " [1 0]\n",
            " [2 3]], shape=(3, 2), dtype=int64), values=tf.Tensor([1. 2. 3.], shape=(3,), dtype=float32), dense_shape=tf.Tensor([3 4], shape=(2,), dtype=int64))\n"
          ],
          "name": "stdout"
        }
      ]
    },
    {
      "cell_type": "code",
      "metadata": {
        "execution": {
          "iopub.execute_input": "2021-07-04T08:14:37.673495Z",
          "iopub.status.busy": "2021-07-04T08:14:37.672384Z",
          "iopub.status.idle": "2021-07-04T08:14:37.679187Z",
          "shell.execute_reply": "2021-07-04T08:14:37.680028Z"
        },
        "id": "bFgyk7AfJCDB",
        "outputId": "53775c73-effb-4e77-c412-1c88ca6a4344",
        "colab": {
          "base_uri": "https://localhost:8080/"
        }
      },
      "source": [
        "tf.sparse.to_dense(s)"
      ],
      "execution_count": 119,
      "outputs": [
        {
          "output_type": "execute_result",
          "data": {
            "text/plain": [
              "<tf.Tensor: shape=(3, 4), dtype=float32, numpy=\n",
              "array([[0., 1., 0., 0.],\n",
              "       [2., 0., 0., 0.],\n",
              "       [0., 0., 0., 3.]], dtype=float32)>"
            ]
          },
          "metadata": {
            "tags": []
          },
          "execution_count": 119
        }
      ]
    },
    {
      "cell_type": "code",
      "metadata": {
        "execution": {
          "iopub.execute_input": "2021-07-04T08:14:37.686416Z",
          "iopub.status.busy": "2021-07-04T08:14:37.685349Z",
          "iopub.status.idle": "2021-07-04T08:14:37.689468Z",
          "shell.execute_reply": "2021-07-04T08:14:37.690529Z"
        },
        "id": "TocVreb8JCDB",
        "outputId": "a75e9fb7-affb-492f-8a3d-406f2704f715",
        "colab": {
          "base_uri": "https://localhost:8080/"
        }
      },
      "source": [
        "s2 = s * 2.0\n",
        "s2"
      ],
      "execution_count": 120,
      "outputs": [
        {
          "output_type": "execute_result",
          "data": {
            "text/plain": [
              "<tensorflow.python.framework.sparse_tensor.SparseTensor at 0x7fd5484db8d0>"
            ]
          },
          "metadata": {
            "tags": []
          },
          "execution_count": 120
        }
      ]
    },
    {
      "cell_type": "code",
      "metadata": {
        "execution": {
          "iopub.execute_input": "2021-07-04T08:14:37.698394Z",
          "iopub.status.busy": "2021-07-04T08:14:37.697217Z",
          "iopub.status.idle": "2021-07-04T08:14:37.702468Z",
          "shell.execute_reply": "2021-07-04T08:14:37.701461Z"
        },
        "id": "hX6-sAO7JCDB",
        "outputId": "92ceb488-f22c-47ec-eab9-b50b40a0d958",
        "colab": {
          "base_uri": "https://localhost:8080/"
        }
      },
      "source": [
        "try:\n",
        "    s3 = s + 1.\n",
        "except TypeError as ex:\n",
        "    print(ex)"
      ],
      "execution_count": 112,
      "outputs": [
        {
          "output_type": "stream",
          "text": [
            "unsupported operand type(s) for +: 'SparseTensor' and 'float'\n"
          ],
          "name": "stdout"
        }
      ]
    },
    {
      "cell_type": "code",
      "metadata": {
        "execution": {
          "iopub.execute_input": "2021-07-04T08:14:37.712098Z",
          "iopub.status.busy": "2021-07-04T08:14:37.710568Z",
          "iopub.status.idle": "2021-07-04T08:14:37.716915Z",
          "shell.execute_reply": "2021-07-04T08:14:37.717891Z"
        },
        "id": "qQxLJT0LJCDB",
        "outputId": "59edc6b5-f93a-4f97-bf8d-3980fe055f5d",
        "colab": {
          "base_uri": "https://localhost:8080/"
        }
      },
      "source": [
        "s4 = tf.constant([[10., 20.], [30., 40.], [50., 60.], [70., 80.]])\n",
        "tf.sparse.sparse_dense_matmul(s, s4)"
      ],
      "execution_count": 113,
      "outputs": [
        {
          "output_type": "execute_result",
          "data": {
            "text/plain": [
              "<tf.Tensor: shape=(3, 2), dtype=float32, numpy=\n",
              "array([[ 30.,  40.],\n",
              "       [ 20.,  40.],\n",
              "       [210., 240.]], dtype=float32)>"
            ]
          },
          "metadata": {
            "tags": []
          },
          "execution_count": 113
        }
      ]
    },
    {
      "cell_type": "code",
      "metadata": {
        "execution": {
          "iopub.execute_input": "2021-07-04T08:14:37.728268Z",
          "iopub.status.busy": "2021-07-04T08:14:37.727064Z",
          "iopub.status.idle": "2021-07-04T08:14:37.731227Z",
          "shell.execute_reply": "2021-07-04T08:14:37.732106Z"
        },
        "id": "OM03ROFQJCDB",
        "outputId": "e6197346-6879-41a6-b894-989807ab805c",
        "colab": {
          "base_uri": "https://localhost:8080/"
        }
      },
      "source": [
        "s5 = tf.SparseTensor(indices=[[0, 2], [0, 1]],\n",
        "                     values=[1., 2.],\n",
        "                     dense_shape=[3, 4])\n",
        "print(s5)"
      ],
      "execution_count": 114,
      "outputs": [
        {
          "output_type": "stream",
          "text": [
            "SparseTensor(indices=tf.Tensor(\n",
            "[[0 2]\n",
            " [0 1]], shape=(2, 2), dtype=int64), values=tf.Tensor([1. 2.], shape=(2,), dtype=float32), dense_shape=tf.Tensor([3 4], shape=(2,), dtype=int64))\n"
          ],
          "name": "stdout"
        }
      ]
    },
    {
      "cell_type": "code",
      "metadata": {
        "execution": {
          "iopub.execute_input": "2021-07-04T08:14:37.739701Z",
          "iopub.status.busy": "2021-07-04T08:14:37.738641Z",
          "iopub.status.idle": "2021-07-04T08:14:37.743634Z",
          "shell.execute_reply": "2021-07-04T08:14:37.744482Z"
        },
        "id": "us39UfV-JCDB",
        "outputId": "37022550-f063-472a-ff66-75019cc59ea5",
        "colab": {
          "base_uri": "https://localhost:8080/"
        }
      },
      "source": [
        "try:\n",
        "    tf.sparse.to_dense(s5)\n",
        "except tf.errors.InvalidArgumentError as ex:\n",
        "    print(ex)"
      ],
      "execution_count": 115,
      "outputs": [
        {
          "output_type": "stream",
          "text": [
            "indices[1] = [0,1] is out of order. Many sparse ops require sorted indices.\n",
            "    Use `tf.sparse.reorder` to create a correctly ordered copy.\n",
            "\n",
            " [Op:SparseToDense]\n"
          ],
          "name": "stdout"
        }
      ]
    },
    {
      "cell_type": "code",
      "metadata": {
        "execution": {
          "iopub.execute_input": "2021-07-04T08:14:37.752642Z",
          "iopub.status.busy": "2021-07-04T08:14:37.751599Z",
          "iopub.status.idle": "2021-07-04T08:14:37.759282Z",
          "shell.execute_reply": "2021-07-04T08:14:37.760238Z"
        },
        "id": "QTFiesewJCDB",
        "outputId": "0b17f9d7-d078-45b4-c45a-131f0ab88f6d",
        "colab": {
          "base_uri": "https://localhost:8080/"
        }
      },
      "source": [
        "s6 = tf.sparse.reorder(s5)\n",
        "tf.sparse.to_dense(s6)"
      ],
      "execution_count": 116,
      "outputs": [
        {
          "output_type": "execute_result",
          "data": {
            "text/plain": [
              "<tf.Tensor: shape=(3, 4), dtype=float32, numpy=\n",
              "array([[0., 2., 1., 0.],\n",
              "       [0., 0., 0., 0.],\n",
              "       [0., 0., 0., 0.]], dtype=float32)>"
            ]
          },
          "metadata": {
            "tags": []
          },
          "execution_count": 116
        }
      ]
    },
    {
      "cell_type": "markdown",
      "metadata": {
        "id": "s6PiFp0HJCDB"
      },
      "source": [
        "### 집합"
      ]
    },
    {
      "cell_type": "code",
      "metadata": {
        "execution": {
          "iopub.execute_input": "2021-07-04T08:14:37.771543Z",
          "iopub.status.busy": "2021-07-04T08:14:37.770349Z",
          "iopub.status.idle": "2021-07-04T08:14:37.775886Z",
          "shell.execute_reply": "2021-07-04T08:14:37.776817Z"
        },
        "id": "hyon3MpkJCDB",
        "outputId": "5bc0968c-0116-4d5b-cb0d-8a5f268399ab",
        "colab": {
          "base_uri": "https://localhost:8080/"
        }
      },
      "source": [
        "set1 = tf.constant([[2, 3, 5, 7], [7, 9, 0, 0]])\n",
        "set2 = tf.constant([[4, 5, 6], [9, 10, 0]])\n",
        "tf.sparse.to_dense(tf.sets.union(set1, set2))"
      ],
      "execution_count": 45,
      "outputs": [
        {
          "output_type": "execute_result",
          "data": {
            "text/plain": [
              "<tf.Tensor: shape=(2, 6), dtype=int32, numpy=\n",
              "array([[ 2,  3,  4,  5,  6,  7],\n",
              "       [ 0,  7,  9, 10,  0,  0]], dtype=int32)>"
            ]
          },
          "metadata": {
            "tags": []
          },
          "execution_count": 45
        }
      ]
    },
    {
      "cell_type": "code",
      "metadata": {
        "execution": {
          "iopub.execute_input": "2021-07-04T08:14:37.784203Z",
          "iopub.status.busy": "2021-07-04T08:14:37.783011Z",
          "iopub.status.idle": "2021-07-04T08:14:37.789094Z",
          "shell.execute_reply": "2021-07-04T08:14:37.789950Z"
        },
        "id": "Lg6lvt-BJCDB",
        "outputId": "71e013fd-6b0c-4911-b693-437a481d7420",
        "colab": {
          "base_uri": "https://localhost:8080/"
        }
      },
      "source": [
        "tf.sparse.to_dense(tf.sets.difference(set1, set2))"
      ],
      "execution_count": 46,
      "outputs": [
        {
          "output_type": "execute_result",
          "data": {
            "text/plain": [
              "<tf.Tensor: shape=(2, 3), dtype=int32, numpy=\n",
              "array([[2, 3, 7],\n",
              "       [7, 0, 0]], dtype=int32)>"
            ]
          },
          "metadata": {
            "tags": []
          },
          "execution_count": 46
        }
      ]
    },
    {
      "cell_type": "code",
      "metadata": {
        "execution": {
          "iopub.execute_input": "2021-07-04T08:14:37.797847Z",
          "iopub.status.busy": "2021-07-04T08:14:37.796714Z",
          "iopub.status.idle": "2021-07-04T08:14:37.802344Z",
          "shell.execute_reply": "2021-07-04T08:14:37.803228Z"
        },
        "id": "iJo6rW_SJCDC",
        "outputId": "9a589c4f-4e47-4f81-85d8-630de630ebe6",
        "colab": {
          "base_uri": "https://localhost:8080/"
        }
      },
      "source": [
        "tf.sparse.to_dense(tf.sets.intersection(set1, set2))"
      ],
      "execution_count": 47,
      "outputs": [
        {
          "output_type": "execute_result",
          "data": {
            "text/plain": [
              "<tf.Tensor: shape=(2, 2), dtype=int32, numpy=\n",
              "array([[5, 0],\n",
              "       [0, 9]], dtype=int32)>"
            ]
          },
          "metadata": {
            "tags": []
          },
          "execution_count": 47
        }
      ]
    },
    {
      "cell_type": "markdown",
      "metadata": {
        "id": "SkY8RE2zJCDC"
      },
      "source": [
        "### 변수"
      ]
    },
    {
      "cell_type": "code",
      "metadata": {
        "execution": {
          "iopub.execute_input": "2021-07-04T08:14:37.812882Z",
          "iopub.status.busy": "2021-07-04T08:14:37.811337Z",
          "iopub.status.idle": "2021-07-04T08:14:37.815257Z",
          "shell.execute_reply": "2021-07-04T08:14:37.816519Z"
        },
        "id": "b4QB6tcjJCDC"
      },
      "source": [
        "v = tf.Variable([[1., 2., 3.], [4., 5., 6.]])"
      ],
      "execution_count": 99,
      "outputs": []
    },
    {
      "cell_type": "code",
      "metadata": {
        "execution": {
          "iopub.execute_input": "2021-07-04T08:14:37.824588Z",
          "iopub.status.busy": "2021-07-04T08:14:37.823168Z",
          "iopub.status.idle": "2021-07-04T08:14:37.829715Z",
          "shell.execute_reply": "2021-07-04T08:14:37.830725Z"
        },
        "id": "lIh1UMnnJCDC",
        "outputId": "adbe557c-8284-4d14-8598-29e4566559e5",
        "colab": {
          "base_uri": "https://localhost:8080/"
        }
      },
      "source": [
        "v.assign(2 * v)"
      ],
      "execution_count": 100,
      "outputs": [
        {
          "output_type": "execute_result",
          "data": {
            "text/plain": [
              "<tf.Variable 'UnreadVariable' shape=(2, 3) dtype=float32, numpy=\n",
              "array([[ 2.,  4.,  6.],\n",
              "       [ 8., 10., 12.]], dtype=float32)>"
            ]
          },
          "metadata": {
            "tags": []
          },
          "execution_count": 100
        }
      ]
    },
    {
      "cell_type": "code",
      "metadata": {
        "execution": {
          "iopub.execute_input": "2021-07-04T08:14:37.838313Z",
          "iopub.status.busy": "2021-07-04T08:14:37.836989Z",
          "iopub.status.idle": "2021-07-04T08:14:37.844777Z",
          "shell.execute_reply": "2021-07-04T08:14:37.846270Z"
        },
        "id": "shwjxTU1JCDC",
        "outputId": "cb68698f-9b29-4f0b-995e-e2ae6884404b",
        "colab": {
          "base_uri": "https://localhost:8080/"
        }
      },
      "source": [
        "v[0, 1].assign(42)"
      ],
      "execution_count": 101,
      "outputs": [
        {
          "output_type": "execute_result",
          "data": {
            "text/plain": [
              "<tf.Variable 'UnreadVariable' shape=(2, 3) dtype=float32, numpy=\n",
              "array([[ 2., 42.,  6.],\n",
              "       [ 8., 10., 12.]], dtype=float32)>"
            ]
          },
          "metadata": {
            "tags": []
          },
          "execution_count": 101
        }
      ]
    },
    {
      "cell_type": "code",
      "metadata": {
        "execution": {
          "iopub.execute_input": "2021-07-04T08:14:37.855848Z",
          "iopub.status.busy": "2021-07-04T08:14:37.854468Z",
          "iopub.status.idle": "2021-07-04T08:14:37.862352Z",
          "shell.execute_reply": "2021-07-04T08:14:37.863231Z"
        },
        "id": "RNP3zi6LJCDC",
        "outputId": "28306cd9-1a65-494b-bf97-605dd6ab5758",
        "colab": {
          "base_uri": "https://localhost:8080/"
        }
      },
      "source": [
        "v[:, 2].assign([0., 1.])"
      ],
      "execution_count": 51,
      "outputs": [
        {
          "output_type": "execute_result",
          "data": {
            "text/plain": [
              "<tf.Variable 'UnreadVariable' shape=(2, 3) dtype=float32, numpy=\n",
              "array([[ 2., 42.,  0.],\n",
              "       [ 8., 10.,  1.]], dtype=float32)>"
            ]
          },
          "metadata": {
            "tags": []
          },
          "execution_count": 51
        }
      ]
    },
    {
      "cell_type": "code",
      "metadata": {
        "execution": {
          "iopub.execute_input": "2021-07-04T08:14:37.872273Z",
          "iopub.status.busy": "2021-07-04T08:14:37.871171Z",
          "iopub.status.idle": "2021-07-04T08:14:37.876014Z",
          "shell.execute_reply": "2021-07-04T08:14:37.876881Z"
        },
        "id": "_THrMS7aJCDC",
        "outputId": "efeb9cfd-17e5-46a3-b591-8e02bba3415f",
        "colab": {
          "base_uri": "https://localhost:8080/"
        }
      },
      "source": [
        "try:\n",
        "    v[1] = [7., 8., 9.]\n",
        "except TypeError as ex:\n",
        "    print(ex)"
      ],
      "execution_count": 52,
      "outputs": [
        {
          "output_type": "stream",
          "text": [
            "'ResourceVariable' object does not support item assignment\n"
          ],
          "name": "stdout"
        }
      ]
    },
    {
      "cell_type": "code",
      "metadata": {
        "execution": {
          "iopub.execute_input": "2021-07-04T08:14:37.884868Z",
          "iopub.status.busy": "2021-07-04T08:14:37.883764Z",
          "iopub.status.idle": "2021-07-04T08:14:37.890751Z",
          "shell.execute_reply": "2021-07-04T08:14:37.891615Z"
        },
        "id": "CIK44K4fJCDC",
        "outputId": "4c334fe7-58e7-4b05-ae59-cf90730f7a13",
        "colab": {
          "base_uri": "https://localhost:8080/"
        }
      },
      "source": [
        "v.scatter_nd_update(indices=[[0, 0], [1, 2]],\n",
        "                    updates=[100., 200.])"
      ],
      "execution_count": 53,
      "outputs": [
        {
          "output_type": "execute_result",
          "data": {
            "text/plain": [
              "<tf.Variable 'UnreadVariable' shape=(2, 3) dtype=float32, numpy=\n",
              "array([[100.,  42.,   0.],\n",
              "       [  8.,  10., 200.]], dtype=float32)>"
            ]
          },
          "metadata": {
            "tags": []
          },
          "execution_count": 53
        }
      ]
    },
    {
      "cell_type": "code",
      "metadata": {
        "execution": {
          "iopub.execute_input": "2021-07-04T08:14:37.900631Z",
          "iopub.status.busy": "2021-07-04T08:14:37.899531Z",
          "iopub.status.idle": "2021-07-04T08:14:37.906859Z",
          "shell.execute_reply": "2021-07-04T08:14:37.907721Z"
        },
        "id": "gYAJD7kWJCDC",
        "outputId": "4205db3a-009c-4631-af85-b6557fd14a63",
        "colab": {
          "base_uri": "https://localhost:8080/"
        }
      },
      "source": [
        "sparse_delta = tf.IndexedSlices(values=[[1., 2., 3.], [4., 5., 6.]],\n",
        "                                indices=[1, 0])\n",
        "v.scatter_update(sparse_delta)"
      ],
      "execution_count": 54,
      "outputs": [
        {
          "output_type": "execute_result",
          "data": {
            "text/plain": [
              "<tf.Variable 'UnreadVariable' shape=(2, 3) dtype=float32, numpy=\n",
              "array([[4., 5., 6.],\n",
              "       [1., 2., 3.]], dtype=float32)>"
            ]
          },
          "metadata": {
            "tags": []
          },
          "execution_count": 54
        }
      ]
    },
    {
      "cell_type": "markdown",
      "metadata": {
        "id": "LG__O95gJCDC"
      },
      "source": [
        "### 텐서 배열"
      ]
    },
    {
      "cell_type": "code",
      "metadata": {
        "execution": {
          "iopub.execute_input": "2021-07-04T08:14:37.918915Z",
          "iopub.status.busy": "2021-07-04T08:14:37.917726Z",
          "iopub.status.idle": "2021-07-04T08:14:37.921144Z",
          "shell.execute_reply": "2021-07-04T08:14:37.922086Z"
        },
        "id": "ChyKkxq5JCDC"
      },
      "source": [
        "array = tf.TensorArray(dtype=tf.float32, size=3)\n",
        "array = array.write(0, tf.constant([1., 2.]))\n",
        "array = array.write(1, tf.constant([3., 10.]))\n",
        "array = array.write(2, tf.constant([5., 7.]))"
      ],
      "execution_count": 55,
      "outputs": []
    },
    {
      "cell_type": "code",
      "metadata": {
        "execution": {
          "iopub.execute_input": "2021-07-04T08:14:37.930696Z",
          "iopub.status.busy": "2021-07-04T08:14:37.928997Z",
          "iopub.status.idle": "2021-07-04T08:14:37.933286Z",
          "shell.execute_reply": "2021-07-04T08:14:37.934179Z"
        },
        "id": "i0fiY_WEJCDC",
        "outputId": "d3e3821a-87de-4a8b-a382-68bbac5a2bbb",
        "colab": {
          "base_uri": "https://localhost:8080/"
        }
      },
      "source": [
        "array.read(1)"
      ],
      "execution_count": 56,
      "outputs": [
        {
          "output_type": "execute_result",
          "data": {
            "text/plain": [
              "<tf.Tensor: shape=(2,), dtype=float32, numpy=array([ 3., 10.], dtype=float32)>"
            ]
          },
          "metadata": {
            "tags": []
          },
          "execution_count": 56
        }
      ]
    },
    {
      "cell_type": "code",
      "metadata": {
        "execution": {
          "iopub.execute_input": "2021-07-04T08:14:37.940457Z",
          "iopub.status.busy": "2021-07-04T08:14:37.939418Z",
          "iopub.status.idle": "2021-07-04T08:14:37.945931Z",
          "shell.execute_reply": "2021-07-04T08:14:37.946707Z"
        },
        "id": "si1n6Kn8JCDD",
        "outputId": "ee8f24e6-c390-4422-9b12-03d0c545e81f",
        "colab": {
          "base_uri": "https://localhost:8080/"
        }
      },
      "source": [
        "array.stack()"
      ],
      "execution_count": 57,
      "outputs": [
        {
          "output_type": "execute_result",
          "data": {
            "text/plain": [
              "<tf.Tensor: shape=(3, 2), dtype=float32, numpy=\n",
              "array([[1., 2.],\n",
              "       [0., 0.],\n",
              "       [5., 7.]], dtype=float32)>"
            ]
          },
          "metadata": {
            "tags": []
          },
          "execution_count": 57
        }
      ]
    },
    {
      "cell_type": "code",
      "metadata": {
        "execution": {
          "iopub.execute_input": "2021-07-04T08:14:37.954033Z",
          "iopub.status.busy": "2021-07-04T08:14:37.953006Z",
          "iopub.status.idle": "2021-07-04T08:14:37.959558Z",
          "shell.execute_reply": "2021-07-04T08:14:37.960437Z"
        },
        "id": "s7mjlVa4JCDD",
        "outputId": "e39376e7-8373-4f91-c8f6-423935a1c83f",
        "colab": {
          "base_uri": "https://localhost:8080/"
        }
      },
      "source": [
        "mean, variance = tf.nn.moments(array.stack(), axes=0)\n",
        "mean"
      ],
      "execution_count": 58,
      "outputs": [
        {
          "output_type": "execute_result",
          "data": {
            "text/plain": [
              "<tf.Tensor: shape=(2,), dtype=float32, numpy=array([2., 3.], dtype=float32)>"
            ]
          },
          "metadata": {
            "tags": []
          },
          "execution_count": 58
        }
      ]
    },
    {
      "cell_type": "code",
      "metadata": {
        "execution": {
          "iopub.execute_input": "2021-07-04T08:14:37.966999Z",
          "iopub.status.busy": "2021-07-04T08:14:37.965953Z",
          "iopub.status.idle": "2021-07-04T08:14:37.971590Z",
          "shell.execute_reply": "2021-07-04T08:14:37.972416Z"
        },
        "id": "eW68XoiDJCDD",
        "outputId": "1ca4620d-cc8b-4832-b960-4858a6929df4",
        "colab": {
          "base_uri": "https://localhost:8080/"
        }
      },
      "source": [
        "variance"
      ],
      "execution_count": 59,
      "outputs": [
        {
          "output_type": "execute_result",
          "data": {
            "text/plain": [
              "<tf.Tensor: shape=(2,), dtype=float32, numpy=array([4.6666665, 8.666667 ], dtype=float32)>"
            ]
          },
          "metadata": {
            "tags": []
          },
          "execution_count": 59
        }
      ]
    },
    {
      "cell_type": "markdown",
      "metadata": {
        "id": "E2HNMHdOJCDD"
      },
      "source": [
        "## 사용자 정의 손실 함수"
      ]
    },
    {
      "cell_type": "markdown",
      "metadata": {
        "id": "4jx2UM_eJCDD"
      },
      "source": [
        "캘리포니아 주택 데이터셋을 로드하여 준비해 보겠습니다. 먼저 이 데이터셋을 로드한 다음 훈련 세트, 검증 세트, 테스트 세트로 나눕니다. 마지막으로 스케일을 변경합니다:"
      ]
    },
    {
      "cell_type": "code",
      "metadata": {
        "execution": {
          "iopub.execute_input": "2021-07-04T08:14:37.984999Z",
          "iopub.status.busy": "2021-07-04T08:14:37.983928Z",
          "iopub.status.idle": "2021-07-04T08:14:38.072608Z",
          "shell.execute_reply": "2021-07-04T08:14:38.073492Z"
        },
        "id": "vhNMUS_2JCDD",
        "outputId": "651ba6cf-a85a-40e8-e45a-58238135f82a",
        "colab": {
          "base_uri": "https://localhost:8080/"
        }
      },
      "source": [
        "from sklearn.datasets import fetch_california_housing\n",
        "from sklearn.model_selection import train_test_split\n",
        "from sklearn.preprocessing import StandardScaler\n",
        "\n",
        "housing = fetch_california_housing()\n",
        "X_train_full, X_test, y_train_full, y_test = train_test_split(\n",
        "    housing.data, housing.target.reshape(-1, 1), random_state=42)\n",
        "X_train, X_valid, y_train, y_valid = train_test_split(\n",
        "    X_train_full, y_train_full, random_state=42)\n",
        "\n",
        "scaler = StandardScaler()\n",
        "X_train_scaled = scaler.fit_transform(X_train)\n",
        "X_valid_scaled = scaler.transform(X_valid)\n",
        "X_test_scaled = scaler.transform(X_test)"
      ],
      "execution_count": 40,
      "outputs": [
        {
          "output_type": "stream",
          "text": [
            "Downloading Cal. housing from https://ndownloader.figshare.com/files/5976036 to /root/scikit_learn_data\n"
          ],
          "name": "stderr"
        }
      ]
    },
    {
      "cell_type": "code",
      "metadata": {
        "execution": {
          "iopub.execute_input": "2021-07-04T08:14:38.082413Z",
          "iopub.status.busy": "2021-07-04T08:14:38.081277Z",
          "iopub.status.idle": "2021-07-04T08:14:38.084633Z",
          "shell.execute_reply": "2021-07-04T08:14:38.085502Z"
        },
        "id": "RKN9fabmJCDD"
      },
      "source": [
        "def huber_fn(y_true, y_pred):\n",
        "    error = y_true - y_pred\n",
        "    is_small_error = tf.abs(error) < 1\n",
        "    squared_loss = tf.square(error) / 2\n",
        "    linear_loss  = tf.abs(error) - 0.5\n",
        "    # 선형 부분에 -0.5를 하는 이유는 그래프가 연속이 되도록 하려고!!\n",
        "    return tf.where(is_small_error, squared_loss, linear_loss)\n",
        "# np.where과 같다.\n",
        "# https://www.delftstack.com/ko/api/numpy/python-numpy-where/"
      ],
      "execution_count": 3,
      "outputs": []
    },
    {
      "cell_type": "code",
      "metadata": {
        "execution": {
          "iopub.execute_input": "2021-07-04T08:14:38.104690Z",
          "iopub.status.busy": "2021-07-04T08:14:38.103561Z",
          "iopub.status.idle": "2021-07-04T08:14:38.706192Z",
          "shell.execute_reply": "2021-07-04T08:14:38.707483Z"
        },
        "id": "f_Osc1TUJCDD",
        "outputId": "40f787c7-4505-4a90-adc0-f8bd21e5a08e",
        "colab": {
          "base_uri": "https://localhost:8080/",
          "height": 276
        }
      },
      "source": [
        "plt.figure(figsize=(8, 3.5))\n",
        "z = np.linspace(-4, 4, 200)\n",
        "plt.plot(z, huber_fn(0, z), \"b-\", linewidth=2, label=\"huber($z$)\")\n",
        "plt.plot(z, z**2 / 2, \"b:\", linewidth=1, label=r\"$\\frac{1}{2}z^2$\")\n",
        "plt.plot([-1, -1], [0, huber_fn(0., -1.)], \"r--\")\n",
        "plt.plot([1, 1], [0, huber_fn(0., 1.)], \"r--\")\n",
        "plt.gca().axhline(y=0, color='k')\n",
        "plt.gca().axvline(x=0, color='k')\n",
        "plt.axis([-4, 4, 0, 4])\n",
        "plt.grid(True)\n",
        "plt.xlabel(\"$z$\")\n",
        "plt.legend(fontsize=14)\n",
        "plt.title(\"Huber loss\", fontsize=14)\n",
        "plt.show()"
      ],
      "execution_count": 4,
      "outputs": [
        {
          "output_type": "display_data",
          "data": {
            "image/png": "[encoded data removed]",
            "text/plain": [
              "<Figure size 576x252 with 1 Axes>"
            ]
          },
          "metadata": {
            "tags": [],
            "needs_background": "light"
          }
        }
      ]
    },
    {
      "cell_type": "code",
      "metadata": {
        "execution": {
          "iopub.execute_input": "2021-07-04T08:14:38.725999Z",
          "iopub.status.busy": "2021-07-04T08:14:38.713775Z",
          "iopub.status.idle": "2021-07-04T08:14:38.743016Z",
          "shell.execute_reply": "2021-07-04T08:14:38.741652Z"
        },
        "id": "pI-fsoPnJCDD"
      },
      "source": [
        "input_shape = X_train.shape[1:]\n",
        "\n",
        "model = keras.models.Sequential([\n",
        "    keras.layers.Dense(30, activation=\"selu\", kernel_initializer=\"lecun_normal\",\n",
        "                       input_shape=input_shape),\n",
        "    keras.layers.Dense(1),\n",
        "])\n",
        "# 주택 가격 예측은 회귀이므로 마지막 출력층에 노드 1개, 활성화 함수 없음이다."
      ],
      "execution_count": 7,
      "outputs": []
    },
    {
      "cell_type": "code",
      "metadata": {
        "execution": {
          "iopub.execute_input": "2021-07-04T08:14:38.762163Z",
          "iopub.status.busy": "2021-07-04T08:14:38.760591Z",
          "iopub.status.idle": "2021-07-04T08:14:38.764640Z",
          "shell.execute_reply": "2021-07-04T08:14:38.765729Z"
        },
        "id": "zrLm06fmJCDD"
      },
      "source": [
        "model.compile(loss=huber_fn, optimizer=\"nadam\", metrics=[\"mae\"])"
      ],
      "execution_count": 8,
      "outputs": []
    },
    {
      "cell_type": "code",
      "metadata": {
        "execution": {
          "iopub.execute_input": "2021-07-04T08:14:38.772068Z",
          "iopub.status.busy": "2021-07-04T08:14:38.770797Z",
          "iopub.status.idle": "2021-07-04T08:14:43.521361Z",
          "shell.execute_reply": "2021-07-04T08:14:43.522572Z"
        },
        "scrolled": true,
        "id": "b-qZ8jV_JCDE",
        "outputId": "9ae013e4-7ab9-4bad-bb80-94b07381e471",
        "colab": {
          "base_uri": "https://localhost:8080/"
        }
      },
      "source": [
        "model.fit(X_train_scaled, y_train, epochs=2,\n",
        "          validation_data=(X_valid_scaled, y_valid))"
      ],
      "execution_count": 9,
      "outputs": [
        {
          "output_type": "stream",
          "text": [
            "Epoch 1/2\n",
            "363/363 [==============================] - 4s 3ms/step - loss: 0.6193 - mae: 0.9781 - val_loss: 0.2191 - val_mae: 0.5028\n",
            "Epoch 2/2\n",
            "363/363 [==============================] - 1s 3ms/step - loss: 0.2075 - mae: 0.4982 - val_loss: 0.1921 - val_mae: 0.4784\n"
          ],
          "name": "stdout"
        },
        {
          "output_type": "execute_result",
          "data": {
            "text/plain": [
              "<tensorflow.python.keras.callbacks.History at 0x7f3570087790>"
            ]
          },
          "metadata": {
            "tags": []
          },
          "execution_count": 9
        }
      ]
    },
    {
      "cell_type": "markdown",
      "metadata": {
        "id": "7kLPadGTJCDE"
      },
      "source": [
        "## 사용자 정의 요소를 가진 모델을 저장하고 로드하기"
      ]
    },
    {
      "cell_type": "code",
      "metadata": {
        "execution": {
          "iopub.execute_input": "2021-07-04T08:14:43.554664Z",
          "iopub.status.busy": "2021-07-04T08:14:43.553745Z",
          "iopub.status.idle": "2021-07-04T08:14:43.583902Z",
          "shell.execute_reply": "2021-07-04T08:14:43.585209Z"
        },
        "id": "eoTdeFg4JCDE"
      },
      "source": [
        "model.save(\"my_model_with_a_custom_loss.h5\")"
      ],
      "execution_count": 10,
      "outputs": []
    },
    {
      "cell_type": "code",
      "metadata": {
        "execution": {
          "iopub.execute_input": "2021-07-04T08:14:43.593971Z",
          "iopub.status.busy": "2021-07-04T08:14:43.592418Z",
          "iopub.status.idle": "2021-07-04T08:14:43.677265Z",
          "shell.execute_reply": "2021-07-04T08:14:43.678558Z"
        },
        "id": "oSl0dl9iJCDE"
      },
      "source": [
        "model = keras.models.load_model(\"my_model_with_a_custom_loss.h5\",\n",
        "                                custom_objects={\"huber_fn\": huber_fn})"
      ],
      "execution_count": 11,
      "outputs": []
    },
    {
      "cell_type": "code",
      "metadata": {
        "execution": {
          "iopub.execute_input": "2021-07-04T08:14:43.686580Z",
          "iopub.status.busy": "2021-07-04T08:14:43.685128Z",
          "iopub.status.idle": "2021-07-04T08:14:47.493380Z",
          "shell.execute_reply": "2021-07-04T08:14:47.494505Z"
        },
        "id": "NkisCgmEJCDE",
        "outputId": "fd52fafe-014b-43e9-b90a-a80c482bdb72",
        "colab": {
          "base_uri": "https://localhost:8080/"
        }
      },
      "source": [
        "model.fit(X_train_scaled, y_train, epochs=2,\n",
        "          validation_data=(X_valid_scaled, y_valid))"
      ],
      "execution_count": 12,
      "outputs": [
        {
          "output_type": "stream",
          "text": [
            "Epoch 1/2\n",
            "363/363 [==============================] - 1s 3ms/step - loss: 0.2010 - mae: 0.4903 - val_loss: 0.1959 - val_mae: 0.4761\n",
            "Epoch 2/2\n",
            "363/363 [==============================] - 1s 3ms/step - loss: 0.1976 - mae: 0.4843 - val_loss: 0.1908 - val_mae: 0.4746\n"
          ],
          "name": "stdout"
        },
        {
          "output_type": "execute_result",
          "data": {
            "text/plain": [
              "<tensorflow.python.keras.callbacks.History at 0x7f35187b7e50>"
            ]
          },
          "metadata": {
            "tags": []
          },
          "execution_count": 12
        }
      ]
    },
    {
      "cell_type": "code",
      "metadata": {
        "execution": {
          "iopub.execute_input": "2021-07-04T08:14:47.505642Z",
          "iopub.status.busy": "2021-07-04T08:14:47.504658Z",
          "iopub.status.idle": "2021-07-04T08:14:47.508213Z",
          "shell.execute_reply": "2021-07-04T08:14:47.508984Z"
        },
        "id": "ZptF8QP-JCDE"
      },
      "source": [
        "def create_huber(threshold=1.0):\n",
        "    def huber_fn(y_true, y_pred):\n",
        "        error = y_true - y_pred\n",
        "        is_small_error = tf.abs(error) < threshold\n",
        "        squared_loss = tf.square(error) / 2\n",
        "        linear_loss  = threshold * tf.abs(error) - threshold**2 / 2\n",
        "        return tf.where(is_small_error, squared_loss, linear_loss)\n",
        "    return huber_fn"
      ],
      "execution_count": 13,
      "outputs": []
    },
    {
      "cell_type": "code",
      "metadata": {
        "id": "k1MyyTuOs3i2",
        "outputId": "ae506c86-3776-4df0-c74a-f98d99d8c6fc",
        "colab": {
          "base_uri": "https://localhost:8080/",
          "height": 276
        }
      },
      "source": [
        "huber_fn = create_huber(threshold=2.0)\n",
        "# 중첩 함수!\n",
        "# https://redcow77.tistory.com/229\n",
        "# https://goodthings4me.tistory.com/64\n",
        "\n",
        "plt.figure(figsize=(8, 3.5))\n",
        "z = np.linspace(-4, 4, 200)\n",
        "plt.plot(z, huber_fn(0, z), \"b-\", linewidth=2, label=\"huber($z$)\")\n",
        "plt.plot(z, z**2 / 2, \"b:\", linewidth=1, label=r\"$\\frac{1}{2}z^2$\")\n",
        "plt.plot([-2, -2], [0, huber_fn(0., -2.)], \"r--\")\n",
        "plt.plot([2, 2], [0, huber_fn(0., 2.)], \"r--\")\n",
        "plt.gca().axhline(y=0, color='k')\n",
        "plt.gca().axvline(x=0, color='k')\n",
        "plt.axis([-6, 6, 0, 6])\n",
        "plt.grid(True)\n",
        "plt.xlabel(\"$z$\")\n",
        "plt.legend(fontsize=14)\n",
        "plt.title(\"Huber loss\", fontsize=14)\n",
        "plt.show()"
      ],
      "execution_count": 21,
      "outputs": [
        {
          "output_type": "display_data",
          "data": {
            "image/png": "[encoded data removed]",
            "text/plain": [
              "<Figure size 576x252 with 1 Axes>"
            ]
          },
          "metadata": {
            "tags": [],
            "needs_background": "light"
          }
        }
      ]
    },
    {
      "cell_type": "code",
      "metadata": {
        "execution": {
          "iopub.execute_input": "2021-07-04T08:14:47.520740Z",
          "iopub.status.busy": "2021-07-04T08:14:47.516256Z",
          "iopub.status.idle": "2021-07-04T08:14:47.531481Z",
          "shell.execute_reply": "2021-07-04T08:14:47.532301Z"
        },
        "id": "I1kffotwJCDE"
      },
      "source": [
        "model.compile(loss=create_huber(2.0), optimizer=\"nadam\", metrics=[\"mae\"])"
      ],
      "execution_count": 22,
      "outputs": []
    },
    {
      "cell_type": "code",
      "metadata": {
        "execution": {
          "iopub.execute_input": "2021-07-04T08:14:47.539616Z",
          "iopub.status.busy": "2021-07-04T08:14:47.538294Z",
          "iopub.status.idle": "2021-07-04T08:14:51.879755Z",
          "shell.execute_reply": "2021-07-04T08:14:51.880935Z"
        },
        "scrolled": true,
        "id": "hq49i33eJCDE",
        "outputId": "26fe330d-55ae-457f-c4e4-b47040260e04"
      },
      "source": [
        "model.fit(X_train_scaled, y_train, epochs=2,\n",
        "          validation_data=(X_valid_scaled, y_valid))"
      ],
      "execution_count": null,
      "outputs": [
        {
          "output_type": "stream",
          "text": [
            "Epoch 1/2\n",
            "363/363 [==============================] - 3s 5ms/step - loss: 0.2318 - mae: 0.4979 - val_loss: 0.2540 - val_mae: 0.4907\n",
            "Epoch 2/2\n",
            "363/363 [==============================] - 2s 5ms/step - loss: 0.2309 - mae: 0.4960 - val_loss: 0.2372 - val_mae: 0.4879\n"
          ],
          "name": "stdout"
        },
        {
          "output_type": "execute_result",
          "data": {
            "text/plain": [
              "<tensorflow.python.keras.callbacks.History at 0x7f357851e760>"
            ]
          },
          "metadata": {
            "tags": []
          },
          "execution_count": 1
        }
      ]
    },
    {
      "cell_type": "code",
      "metadata": {
        "execution": {
          "iopub.execute_input": "2021-07-04T08:14:51.914825Z",
          "iopub.status.busy": "2021-07-04T08:14:51.913722Z",
          "iopub.status.idle": "2021-07-04T08:14:51.946973Z",
          "shell.execute_reply": "2021-07-04T08:14:51.947805Z"
        },
        "id": "HGyNDrfgJCDE"
      },
      "source": [
        "model.save(\"my_model_with_a_custom_loss_threshold_2.h5\")"
      ],
      "execution_count": 23,
      "outputs": []
    },
    {
      "cell_type": "code",
      "metadata": {
        "execution": {
          "iopub.execute_input": "2021-07-04T08:14:51.956901Z",
          "iopub.status.busy": "2021-07-04T08:14:51.955368Z",
          "iopub.status.idle": "2021-07-04T08:14:52.037871Z",
          "shell.execute_reply": "2021-07-04T08:14:52.039072Z"
        },
        "id": "JKt-nB_VJCDE"
      },
      "source": [
        "model = keras.models.load_model(\"my_model_with_a_custom_loss_threshold_2.h5\",\n",
        "                                custom_objects={\"huber_fn\": create_huber(2.0)})"
      ],
      "execution_count": 24,
      "outputs": []
    },
    {
      "cell_type": "code",
      "metadata": {
        "execution": {
          "iopub.execute_input": "2021-07-04T08:14:52.047973Z",
          "iopub.status.busy": "2021-07-04T08:14:52.046462Z",
          "iopub.status.idle": "2021-07-04T08:14:55.927195Z",
          "shell.execute_reply": "2021-07-04T08:14:55.928267Z"
        },
        "id": "UV-i_Ki8JCDE",
        "outputId": "da1c9d4b-3788-40d8-bff1-2a7e1ba4afe3",
        "colab": {
          "base_uri": "https://localhost:8080/"
        }
      },
      "source": [
        "model.fit(X_train_scaled, y_train, epochs=2,\n",
        "          validation_data=(X_valid_scaled, y_valid))"
      ],
      "execution_count": 25,
      "outputs": [
        {
          "output_type": "stream",
          "text": [
            "Epoch 1/2\n",
            "363/363 [==============================] - 2s 3ms/step - loss: 0.2207 - mae: 0.4858 - val_loss: 0.2010 - val_mae: 0.4613\n",
            "Epoch 2/2\n",
            "363/363 [==============================] - 1s 3ms/step - loss: 0.2165 - mae: 0.4810 - val_loss: 0.2197 - val_mae: 0.4782\n"
          ],
          "name": "stdout"
        },
        {
          "output_type": "execute_result",
          "data": {
            "text/plain": [
              "<tensorflow.python.keras.callbacks.History at 0x7f350c798350>"
            ]
          },
          "metadata": {
            "tags": []
          },
          "execution_count": 25
        }
      ]
    },
    {
      "cell_type": "code",
      "metadata": {
        "execution": {
          "iopub.execute_input": "2021-07-04T08:14:55.944343Z",
          "iopub.status.busy": "2021-07-04T08:14:55.943056Z",
          "iopub.status.idle": "2021-07-04T08:14:55.946321Z",
          "shell.execute_reply": "2021-07-04T08:14:55.947381Z"
        },
        "id": "onYrIwHZJCDE"
      },
      "source": [
        "class HuberLoss(keras.losses.Loss):\n",
        "    def __init__(self, threshold=1.0, **kwargs):\n",
        "        self.threshold = threshold\n",
        "        super().__init__(**kwargs)\n",
        "    def call(self, y_true, y_pred):\n",
        "        error = y_true - y_pred\n",
        "        is_small_error = tf.abs(error) < self.threshold\n",
        "        squared_loss = tf.square(error) / 2\n",
        "        linear_loss  = self.threshold * tf.abs(error) - self.threshold**2 / 2\n",
        "        return tf.where(is_small_error, squared_loss, linear_loss)\n",
        "    def get_config(self):\n",
        "        base_config = super().get_config()\n",
        "        return {**base_config, \"threshold\": self.threshold}\n",
        "\n",
        "'''\n",
        "get_config() 및 from_config()\n",
        "configuration는 구성이다.\n",
        "config = model.get_config()을 호출하면 모델 구성이 포함된 Python dict가 반환됩니다.\n",
        "https://www.tensorflow.org/guide/keras/save_and_serialize?hl=ko\n",
        "'''\n",
        "# **kwargs는 딕셔너리(키워드=특정 값) 형태로 호출.\n",
        "# https://brunch.co.kr/@princox/180"
      ],
      "execution_count": 28,
      "outputs": []
    },
    {
      "cell_type": "code",
      "metadata": {
        "execution": {
          "iopub.execute_input": "2021-07-04T08:14:55.961261Z",
          "iopub.status.busy": "2021-07-04T08:14:55.960228Z",
          "iopub.status.idle": "2021-07-04T08:14:55.981249Z",
          "shell.execute_reply": "2021-07-04T08:14:55.982560Z"
        },
        "id": "NcSy9b3cJCDE"
      },
      "source": [
        "model = keras.models.Sequential([\n",
        "    keras.layers.Dense(30, activation=\"selu\", kernel_initializer=\"lecun_normal\",\n",
        "                       input_shape=input_shape),\n",
        "    keras.layers.Dense(1),\n",
        "])"
      ],
      "execution_count": 29,
      "outputs": []
    },
    {
      "cell_type": "code",
      "metadata": {
        "execution": {
          "iopub.execute_input": "2021-07-04T08:14:56.000735Z",
          "iopub.status.busy": "2021-07-04T08:14:55.999638Z",
          "iopub.status.idle": "2021-07-04T08:14:56.007356Z",
          "shell.execute_reply": "2021-07-04T08:14:56.008433Z"
        },
        "id": "OeC25KwqJCDF"
      },
      "source": [
        "model.compile(loss=HuberLoss(2.), optimizer=\"nadam\", metrics=[\"mae\"])"
      ],
      "execution_count": 30,
      "outputs": []
    },
    {
      "cell_type": "code",
      "metadata": {
        "execution": {
          "iopub.execute_input": "2021-07-04T08:14:56.016116Z",
          "iopub.status.busy": "2021-07-04T08:14:56.014749Z",
          "iopub.status.idle": "2021-07-04T08:15:00.300730Z",
          "shell.execute_reply": "2021-07-04T08:15:00.301680Z"
        },
        "scrolled": false,
        "id": "7sTvzlSKJCDF",
        "outputId": "6234d507-3261-4fc3-e0ca-856c93363b52",
        "colab": {
          "base_uri": "https://localhost:8080/"
        }
      },
      "source": [
        "model.fit(X_train_scaled, y_train, epochs=2,\n",
        "          validation_data=(X_valid_scaled, y_valid))"
      ],
      "execution_count": 31,
      "outputs": [
        {
          "output_type": "stream",
          "text": [
            "Epoch 1/2\n",
            "363/363 [==============================] - 2s 3ms/step - loss: 0.7858 - mae: 0.9519 - val_loss: 0.2471 - val_mae: 0.5119\n",
            "Epoch 2/2\n",
            "363/363 [==============================] - 1s 3ms/step - loss: 0.2372 - mae: 0.5116 - val_loss: 0.2498 - val_mae: 0.5049\n"
          ],
          "name": "stdout"
        },
        {
          "output_type": "execute_result",
          "data": {
            "text/plain": [
              "<tensorflow.python.keras.callbacks.History at 0x7f350b542610>"
            ]
          },
          "metadata": {
            "tags": []
          },
          "execution_count": 31
        }
      ]
    },
    {
      "cell_type": "code",
      "metadata": {
        "execution": {
          "iopub.execute_input": "2021-07-04T08:15:00.335267Z",
          "iopub.status.busy": "2021-07-04T08:15:00.333773Z",
          "iopub.status.idle": "2021-07-04T08:15:00.369221Z",
          "shell.execute_reply": "2021-07-04T08:15:00.370473Z"
        },
        "id": "T7o2eMw2JCDF"
      },
      "source": [
        "model.save(\"my_model_with_a_custom_loss_class.h5\")"
      ],
      "execution_count": 32,
      "outputs": []
    },
    {
      "cell_type": "code",
      "metadata": {
        "execution": {
          "iopub.execute_input": "2021-07-04T08:15:00.379781Z",
          "iopub.status.busy": "2021-07-04T08:15:00.378195Z",
          "iopub.status.idle": "2021-07-04T08:15:00.460926Z",
          "shell.execute_reply": "2021-07-04T08:15:00.462302Z"
        },
        "id": "jbOtYlpaJCDF"
      },
      "source": [
        "model = keras.models.load_model(\"my_model_with_a_custom_loss_class.h5\",\n",
        "                                custom_objects={\"HuberLoss\": HuberLoss})"
      ],
      "execution_count": 33,
      "outputs": []
    },
    {
      "cell_type": "code",
      "metadata": {
        "execution": {
          "iopub.execute_input": "2021-07-04T08:15:00.471143Z",
          "iopub.status.busy": "2021-07-04T08:15:00.469597Z",
          "iopub.status.idle": "2021-07-04T08:15:04.566644Z",
          "shell.execute_reply": "2021-07-04T08:15:04.567732Z"
        },
        "id": "WWoC4mk6JCDF",
        "outputId": "1af4ae9d-4b30-4e3c-9338-8ce3e0f9934c",
        "colab": {
          "base_uri": "https://localhost:8080/"
        }
      },
      "source": [
        "model.fit(X_train_scaled, y_train, epochs=2,\n",
        "          validation_data=(X_valid_scaled, y_valid))"
      ],
      "execution_count": 34,
      "outputs": [
        {
          "output_type": "stream",
          "text": [
            "Epoch 1/2\n",
            "363/363 [==============================] - 1s 3ms/step - loss: 0.2277 - mae: 0.5005 - val_loss: 0.2174 - val_mae: 0.4772\n",
            "Epoch 2/2\n",
            "363/363 [==============================] - 1s 3ms/step - loss: 0.2215 - mae: 0.4930 - val_loss: 0.2023 - val_mae: 0.4711\n"
          ],
          "name": "stdout"
        },
        {
          "output_type": "execute_result",
          "data": {
            "text/plain": [
              "<tensorflow.python.keras.callbacks.History at 0x7f35180d92d0>"
            ]
          },
          "metadata": {
            "tags": []
          },
          "execution_count": 34
        }
      ]
    },
    {
      "cell_type": "code",
      "metadata": {
        "execution": {
          "iopub.execute_input": "2021-07-04T08:15:04.576492Z",
          "iopub.status.busy": "2021-07-04T08:15:04.575437Z",
          "iopub.status.idle": "2021-07-04T08:15:04.580464Z",
          "shell.execute_reply": "2021-07-04T08:15:04.581297Z"
        },
        "id": "3G4l45p0JCDF",
        "outputId": "146965a1-d59d-4939-9b29-b455e66d70b6",
        "colab": {
          "base_uri": "https://localhost:8080/"
        }
      },
      "source": [
        "model.loss.threshold"
      ],
      "execution_count": 35,
      "outputs": [
        {
          "output_type": "execute_result",
          "data": {
            "text/plain": [
              "2.0"
            ]
          },
          "metadata": {
            "tags": []
          },
          "execution_count": 35
        }
      ]
    },
    {
      "cell_type": "markdown",
      "metadata": {
        "id": "GwNjO0j0JCDF"
      },
      "source": [
        "## 그외 사용자 정의 함수"
      ]
    },
    {
      "cell_type": "code",
      "metadata": {
        "execution": {
          "iopub.execute_input": "2021-07-04T08:15:04.589988Z",
          "iopub.status.busy": "2021-07-04T08:15:04.588495Z",
          "iopub.status.idle": "2021-07-04T08:15:04.629460Z",
          "shell.execute_reply": "2021-07-04T08:15:04.627925Z"
        },
        "id": "951ZlXxYJCDF"
      },
      "source": [
        "keras.backend.clear_session()\n",
        "np.random.seed(42)\n",
        "tf.random.set_seed(42)"
      ],
      "execution_count": 36,
      "outputs": []
    },
    {
      "cell_type": "code",
      "metadata": {
        "execution": {
          "iopub.execute_input": "2021-07-04T08:15:04.651373Z",
          "iopub.status.busy": "2021-07-04T08:15:04.649654Z",
          "iopub.status.idle": "2021-07-04T08:15:04.653191Z",
          "shell.execute_reply": "2021-07-04T08:15:04.654590Z"
        },
        "id": "VaID8WWhJCDF"
      },
      "source": [
        "def my_softplus(z): # tf.nn.softplus(z) 값을 반환합니다\n",
        "    return tf.math.log(tf.exp(z) + 1.0)\n",
        "\n",
        "def my_glorot_initializer(shape, dtype=tf.float32):\n",
        "    stddev = tf.sqrt(2. / (shape[0] + shape[1]))\n",
        "    return tf.random.normal(shape, stddev=stddev, dtype=dtype)\n",
        "    # 정규분포로부터 임의의 샘플들을 그린다.\n",
        "\n",
        "def my_l1_regularizer(weights):\n",
        "    return tf.reduce_sum(tf.abs(0.01 * weights))\n",
        "\n",
        "def my_positive_weights(weights): # tf.nn.relu(weights) 값을 반환합니다\n",
        "    return tf.where(weights < 0., tf.zeros_like(weights), weights)"
      ],
      "execution_count": 22,
      "outputs": []
    },
    {
      "cell_type": "code",
      "metadata": {
        "execution": {
          "iopub.execute_input": "2021-07-04T08:15:04.665873Z",
          "iopub.status.busy": "2021-07-04T08:15:04.664915Z",
          "iopub.status.idle": "2021-07-04T08:15:04.668497Z",
          "shell.execute_reply": "2021-07-04T08:15:04.669224Z"
        },
        "id": "_YpSgehZJCDF"
      },
      "source": [
        "layer = keras.layers.Dense(1, activation=my_softplus,\n",
        "                           kernel_initializer=my_glorot_initializer,\n",
        "                           kernel_regularizer=my_l1_regularizer,\n",
        "                           kernel_constraint=my_positive_weights)"
      ],
      "execution_count": 38,
      "outputs": []
    },
    {
      "cell_type": "code",
      "metadata": {
        "execution": {
          "iopub.execute_input": "2021-07-04T08:15:04.676960Z",
          "iopub.status.busy": "2021-07-04T08:15:04.675394Z",
          "iopub.status.idle": "2021-07-04T08:15:04.681627Z",
          "shell.execute_reply": "2021-07-04T08:15:04.682609Z"
        },
        "id": "Igd-VS1gJCDF"
      },
      "source": [
        "keras.backend.clear_session()\n",
        "np.random.seed(42)\n",
        "tf.random.set_seed(42)"
      ],
      "execution_count": 39,
      "outputs": []
    },
    {
      "cell_type": "code",
      "metadata": {
        "execution": {
          "iopub.execute_input": "2021-07-04T08:15:04.698955Z",
          "iopub.status.busy": "2021-07-04T08:15:04.697532Z",
          "iopub.status.idle": "2021-07-04T08:15:04.725625Z",
          "shell.execute_reply": "2021-07-04T08:15:04.726757Z"
        },
        "id": "oZl0-RdWJCDG"
      },
      "source": [
        "model = keras.models.Sequential([\n",
        "    keras.layers.Dense(30, activation=\"selu\", kernel_initializer=\"lecun_normal\",\n",
        "                       input_shape=input_shape),\n",
        "    keras.layers.Dense(1, activation=my_softplus,\n",
        "                       kernel_regularizer=my_l1_regularizer,\n",
        "                       kernel_constraint=my_positive_weights,\n",
        "                       kernel_initializer=my_glorot_initializer),\n",
        "])"
      ],
      "execution_count": 40,
      "outputs": []
    },
    {
      "cell_type": "code",
      "metadata": {
        "execution": {
          "iopub.execute_input": "2021-07-04T08:15:04.744912Z",
          "iopub.status.busy": "2021-07-04T08:15:04.743523Z",
          "iopub.status.idle": "2021-07-04T08:15:04.751176Z",
          "shell.execute_reply": "2021-07-04T08:15:04.752176Z"
        },
        "id": "Ndv-sx8PJCDH"
      },
      "source": [
        "model.compile(loss=\"mse\", optimizer=\"nadam\", metrics=[\"mae\"])"
      ],
      "execution_count": 41,
      "outputs": []
    },
    {
      "cell_type": "code",
      "metadata": {
        "execution": {
          "iopub.execute_input": "2021-07-04T08:15:04.761800Z",
          "iopub.status.busy": "2021-07-04T08:15:04.760020Z",
          "iopub.status.idle": "2021-07-04T08:15:09.144757Z",
          "shell.execute_reply": "2021-07-04T08:15:09.145795Z"
        },
        "scrolled": false,
        "id": "-4iwuNQ9JCDH",
        "outputId": "3c612b14-8673-49de-e452-4f33945f35cb",
        "colab": {
          "base_uri": "https://localhost:8080/"
        }
      },
      "source": [
        "model.fit(X_train_scaled, y_train, epochs=2,\n",
        "          validation_data=(X_valid_scaled, y_valid))"
      ],
      "execution_count": 42,
      "outputs": [
        {
          "output_type": "stream",
          "text": [
            "Epoch 1/2\n",
            "363/363 [==============================] - 2s 3ms/step - loss: 1.5542 - mae: 0.8962 - val_loss: 1.4154 - val_mae: 0.5607\n",
            "Epoch 2/2\n",
            "363/363 [==============================] - 1s 3ms/step - loss: 0.5943 - mae: 0.5256 - val_loss: 1.4399 - val_mae: 0.5137\n"
          ],
          "name": "stdout"
        },
        {
          "output_type": "execute_result",
          "data": {
            "text/plain": [
              "<tensorflow.python.keras.callbacks.History at 0x7f351872e810>"
            ]
          },
          "metadata": {
            "tags": []
          },
          "execution_count": 42
        }
      ]
    },
    {
      "cell_type": "code",
      "metadata": {
        "execution": {
          "iopub.execute_input": "2021-07-04T08:15:09.167536Z",
          "iopub.status.busy": "2021-07-04T08:15:09.166470Z",
          "iopub.status.idle": "2021-07-04T08:15:09.199791Z",
          "shell.execute_reply": "2021-07-04T08:15:09.201240Z"
        },
        "id": "j-RBPDJRJCDH"
      },
      "source": [
        "model.save(\"my_model_with_many_custom_parts.h5\")"
      ],
      "execution_count": 43,
      "outputs": []
    },
    {
      "cell_type": "code",
      "metadata": {
        "execution": {
          "iopub.execute_input": "2021-07-04T08:15:09.211908Z",
          "iopub.status.busy": "2021-07-04T08:15:09.210859Z",
          "iopub.status.idle": "2021-07-04T08:15:09.299636Z",
          "shell.execute_reply": "2021-07-04T08:15:09.298692Z"
        },
        "id": "mpmsPwxaJCDH"
      },
      "source": [
        "model = keras.models.load_model(\n",
        "    \"my_model_with_many_custom_parts.h5\",\n",
        "    custom_objects={\n",
        "       \"my_l1_regularizer\": my_l1_regularizer,\n",
        "       \"my_positive_weights\": my_positive_weights,\n",
        "       \"my_glorot_initializer\": my_glorot_initializer,\n",
        "       \"my_softplus\": my_softplus,\n",
        "    })"
      ],
      "execution_count": 44,
      "outputs": []
    },
    {
      "cell_type": "code",
      "metadata": {
        "execution": {
          "iopub.execute_input": "2021-07-04T08:15:09.311370Z",
          "iopub.status.busy": "2021-07-04T08:15:09.309901Z",
          "iopub.status.idle": "2021-07-04T08:15:09.313019Z",
          "shell.execute_reply": "2021-07-04T08:15:09.314231Z"
        },
        "id": "tIVFMBraJCDH"
      },
      "source": [
        "class MyL1Regularizer(keras.regularizers.Regularizer):\n",
        "    def __init__(self, factor):\n",
        "        self.factor = factor\n",
        "    def __call__(self, weights):\n",
        "        return tf.reduce_sum(tf.abs(self.factor * weights))\n",
        "    def get_config(self):\n",
        "        return {\"factor\": self.factor}"
      ],
      "execution_count": 45,
      "outputs": []
    },
    {
      "cell_type": "code",
      "metadata": {
        "execution": {
          "iopub.execute_input": "2021-07-04T08:15:09.323296Z",
          "iopub.status.busy": "2021-07-04T08:15:09.322226Z",
          "iopub.status.idle": "2021-07-04T08:15:09.331068Z",
          "shell.execute_reply": "2021-07-04T08:15:09.331982Z"
        },
        "id": "Fvhokp67JCDH"
      },
      "source": [
        "keras.backend.clear_session()\n",
        "np.random.seed(42)\n",
        "tf.random.set_seed(42)"
      ],
      "execution_count": 46,
      "outputs": []
    },
    {
      "cell_type": "code",
      "metadata": {
        "execution": {
          "iopub.execute_input": "2021-07-04T08:15:09.336986Z",
          "iopub.status.busy": "2021-07-04T08:15:09.335822Z",
          "iopub.status.idle": "2021-07-04T08:15:09.371820Z",
          "shell.execute_reply": "2021-07-04T08:15:09.372684Z"
        },
        "id": "TBcnuFmdJCDH"
      },
      "source": [
        "model = keras.models.Sequential([\n",
        "    keras.layers.Dense(30, activation=\"selu\", kernel_initializer=\"lecun_normal\",\n",
        "                       input_shape=input_shape),\n",
        "    keras.layers.Dense(1, activation=my_softplus,\n",
        "                       kernel_regularizer=MyL1Regularizer(0.01),\n",
        "                       kernel_constraint=my_positive_weights,\n",
        "                       kernel_initializer=my_glorot_initializer),\n",
        "])"
      ],
      "execution_count": 47,
      "outputs": []
    },
    {
      "cell_type": "code",
      "metadata": {
        "execution": {
          "iopub.execute_input": "2021-07-04T08:15:09.376664Z",
          "iopub.status.busy": "2021-07-04T08:15:09.375792Z",
          "iopub.status.idle": "2021-07-04T08:15:09.394320Z",
          "shell.execute_reply": "2021-07-04T08:15:09.393397Z"
        },
        "id": "gx99TH8dJCDI"
      },
      "source": [
        "model.compile(loss=\"mse\", optimizer=\"nadam\", metrics=[\"mae\"])"
      ],
      "execution_count": 48,
      "outputs": []
    },
    {
      "cell_type": "code",
      "metadata": {
        "execution": {
          "iopub.execute_input": "2021-07-04T08:15:09.400219Z",
          "iopub.status.busy": "2021-07-04T08:15:09.397613Z",
          "iopub.status.idle": "2021-07-04T08:15:13.847502Z",
          "shell.execute_reply": "2021-07-04T08:15:13.848611Z"
        },
        "id": "ih9XMr-sJCDI",
        "outputId": "62a31b05-730d-4773-babd-fe7e71feb204",
        "colab": {
          "base_uri": "https://localhost:8080/"
        }
      },
      "source": [
        "model.fit(X_train_scaled, y_train, epochs=2,\n",
        "          validation_data=(X_valid_scaled, y_valid))"
      ],
      "execution_count": 49,
      "outputs": [
        {
          "output_type": "stream",
          "text": [
            "Epoch 1/2\n",
            "363/363 [==============================] - 2s 3ms/step - loss: 1.5542 - mae: 0.8962 - val_loss: 1.4154 - val_mae: 0.5607\n",
            "Epoch 2/2\n",
            "363/363 [==============================] - 1s 3ms/step - loss: 0.5943 - mae: 0.5256 - val_loss: 1.4399 - val_mae: 0.5137\n"
          ],
          "name": "stdout"
        },
        {
          "output_type": "execute_result",
          "data": {
            "text/plain": [
              "<tensorflow.python.keras.callbacks.History at 0x7f351832ae90>"
            ]
          },
          "metadata": {
            "tags": []
          },
          "execution_count": 49
        }
      ]
    },
    {
      "cell_type": "code",
      "metadata": {
        "execution": {
          "iopub.execute_input": "2021-07-04T08:15:13.868331Z",
          "iopub.status.busy": "2021-07-04T08:15:13.866654Z",
          "iopub.status.idle": "2021-07-04T08:15:13.896032Z",
          "shell.execute_reply": "2021-07-04T08:15:13.897428Z"
        },
        "id": "OHt8dzE_JCDI"
      },
      "source": [
        "model.save(\"my_model_with_many_custom_parts.h5\")"
      ],
      "execution_count": 50,
      "outputs": []
    },
    {
      "cell_type": "code",
      "metadata": {
        "execution": {
          "iopub.execute_input": "2021-07-04T08:15:13.907144Z",
          "iopub.status.busy": "2021-07-04T08:15:13.905960Z",
          "iopub.status.idle": "2021-07-04T08:15:13.987931Z",
          "shell.execute_reply": "2021-07-04T08:15:13.988742Z"
        },
        "id": "jwrOx_X5JCDI"
      },
      "source": [
        "model = keras.models.load_model(\n",
        "    \"my_model_with_many_custom_parts.h5\",\n",
        "    custom_objects={\n",
        "       \"MyL1Regularizer\": MyL1Regularizer,\n",
        "       \"my_positive_weights\": my_positive_weights,\n",
        "       \"my_glorot_initializer\": my_glorot_initializer,\n",
        "       \"my_softplus\": my_softplus,\n",
        "    })"
      ],
      "execution_count": 51,
      "outputs": []
    },
    {
      "cell_type": "markdown",
      "metadata": {
        "id": "JKuqgDqxJCDI"
      },
      "source": [
        "## 사용자 정의 지표"
      ]
    },
    {
      "cell_type": "code",
      "metadata": {
        "execution": {
          "iopub.execute_input": "2021-07-04T08:15:14.004630Z",
          "iopub.status.busy": "2021-07-04T08:15:13.996233Z",
          "iopub.status.idle": "2021-07-04T08:15:14.010998Z",
          "shell.execute_reply": "2021-07-04T08:15:14.009850Z"
        },
        "id": "W9fveD2CJCDI"
      },
      "source": [
        "keras.backend.clear_session()\n",
        "np.random.seed(42)\n",
        "tf.random.set_seed(42)"
      ],
      "execution_count": 54,
      "outputs": []
    },
    {
      "cell_type": "code",
      "metadata": {
        "execution": {
          "iopub.execute_input": "2021-07-04T08:15:14.025252Z",
          "iopub.status.busy": "2021-07-04T08:15:14.023888Z",
          "iopub.status.idle": "2021-07-04T08:15:14.047903Z",
          "shell.execute_reply": "2021-07-04T08:15:14.048881Z"
        },
        "id": "_B_5B2zMJCDI"
      },
      "source": [
        "model = keras.models.Sequential([\n",
        "    keras.layers.Dense(30, activation=\"selu\", kernel_initializer=\"lecun_normal\",\n",
        "                       input_shape=input_shape),\n",
        "    keras.layers.Dense(1),\n",
        "])"
      ],
      "execution_count": 55,
      "outputs": []
    },
    {
      "cell_type": "code",
      "metadata": {
        "execution": {
          "iopub.execute_input": "2021-07-04T08:15:14.065249Z",
          "iopub.status.busy": "2021-07-04T08:15:14.064079Z",
          "iopub.status.idle": "2021-07-04T08:15:14.070303Z",
          "shell.execute_reply": "2021-07-04T08:15:14.071380Z"
        },
        "id": "CT99j-lIJCDI"
      },
      "source": [
        "model.compile(loss=\"mse\", optimizer=\"nadam\", metrics=[create_huber(2.0)])"
      ],
      "execution_count": 56,
      "outputs": []
    },
    {
      "cell_type": "code",
      "metadata": {
        "execution": {
          "iopub.execute_input": "2021-07-04T08:15:14.078905Z",
          "iopub.status.busy": "2021-07-04T08:15:14.077659Z",
          "iopub.status.idle": "2021-07-04T08:15:17.591938Z",
          "shell.execute_reply": "2021-07-04T08:15:17.592933Z"
        },
        "id": "eiIsnRFQJCDI",
        "outputId": "99381578-7ccf-4178-c8c0-55fa399ae4c3",
        "colab": {
          "base_uri": "https://localhost:8080/"
        }
      },
      "source": [
        "model.fit(X_train_scaled, y_train, epochs=2)"
      ],
      "execution_count": 57,
      "outputs": [
        {
          "output_type": "stream",
          "text": [
            "Epoch 1/2\n",
            "363/363 [==============================] - 1s 3ms/step - loss: 2.0982 - huber_fn: 0.9192\n",
            "Epoch 2/2\n",
            "363/363 [==============================] - 1s 3ms/step - loss: 0.6052 - huber_fn: 0.2733\n"
          ],
          "name": "stdout"
        },
        {
          "output_type": "execute_result",
          "data": {
            "text/plain": [
              "<tensorflow.python.keras.callbacks.History at 0x7f35184484d0>"
            ]
          },
          "metadata": {
            "tags": []
          },
          "execution_count": 57
        }
      ]
    },
    {
      "cell_type": "markdown",
      "metadata": {
        "id": "gW1wbAUDJCDI"
      },
      "source": [
        "**노트**: 손실과 지표에 같은 함수를 사용하면 다른 결과가 나올 수 있습니다. 이는 일반적으로 부동 소수점 정밀도 오차 때문입니다. 수학 식이 동일하더라도 연산은 동일한 순서대로 실행되지 않습니다. 이로 인해 작은 차이가 발생합니다. 또한 샘플 가중치를 사용하면 정밀도보다 더 큰 오차가 생깁니다:\n",
        "\n",
        "* 에포크에서 손실은 지금까지 본 모든 배치 손실의 평균입니다. 각 배치 손실은 가중치가 적용된 샘플 손실의 합을 _배치 크기_ 로 나눈 것입니다(샘플 가중치의 합으로 나눈 것이 아닙니다. 따라서 배치 손실은 손실의 가중 평균이 아닙니다).\n",
        "* 에포크에서 지표는 가중치가 적용된 샘플 손실의 합을 지금까지 본 모든 샘플 가중치의 합으로 나눈 것입니다. 다른 말로하면 모든 샘플 손실의 가중 평균입니다. 따라서 위와 같지 않습니다.\n",
        "\n",
        "수학적으로 말하면 손실 = 지표 * 샘플 가중치의 평균(더하기 약간의 부동 소수점 정밀도 오차)입니다."
      ]
    },
    {
      "cell_type": "code",
      "metadata": {
        "execution": {
          "iopub.execute_input": "2021-07-04T08:15:17.602557Z",
          "iopub.status.busy": "2021-07-04T08:15:17.601483Z",
          "iopub.status.idle": "2021-07-04T08:15:17.618592Z",
          "shell.execute_reply": "2021-07-04T08:15:17.619398Z"
        },
        "id": "Gv6Dn869JCDI"
      },
      "source": [
        "model.compile(loss=create_huber(2.0), optimizer=\"nadam\", metrics=[create_huber(2.0)])"
      ],
      "execution_count": 58,
      "outputs": []
    },
    {
      "cell_type": "code",
      "metadata": {
        "execution": {
          "iopub.execute_input": "2021-07-04T08:15:17.626600Z",
          "iopub.status.busy": "2021-07-04T08:15:17.625547Z",
          "iopub.status.idle": "2021-07-04T08:15:22.357734Z",
          "shell.execute_reply": "2021-07-04T08:15:22.356536Z"
        },
        "id": "JeWWG8FOJCDI",
        "outputId": "10f58165-8e01-47a6-e6a2-e19cf6e770ee",
        "colab": {
          "base_uri": "https://localhost:8080/"
        }
      },
      "source": [
        "sample_weight = np.random.rand(len(y_train))\n",
        "history = model.fit(X_train_scaled, y_train, epochs=2, sample_weight=sample_weight)"
      ],
      "execution_count": 59,
      "outputs": [
        {
          "output_type": "stream",
          "text": [
            "Epoch 1/2\n",
            "363/363 [==============================] - 1s 3ms/step - loss: 0.1175 - huber_fn: 0.2399\n",
            "Epoch 2/2\n",
            "363/363 [==============================] - 1s 2ms/step - loss: 0.1131 - huber_fn: 0.2297\n"
          ],
          "name": "stdout"
        }
      ]
    },
    {
      "cell_type": "code",
      "metadata": {
        "execution": {
          "iopub.execute_input": "2021-07-04T08:15:22.369800Z",
          "iopub.status.busy": "2021-07-04T08:15:22.368364Z",
          "iopub.status.idle": "2021-07-04T08:15:22.373044Z",
          "shell.execute_reply": "2021-07-04T08:15:22.374077Z"
        },
        "id": "k8hxo9v3JCDI",
        "outputId": "cc299af2-a206-4338-9f82-960a5807548d",
        "colab": {
          "base_uri": "https://localhost:8080/"
        }
      },
      "source": [
        "history.history[\"loss\"][0], history.history[\"huber_fn\"][0] * sample_weight.mean()"
      ],
      "execution_count": 60,
      "outputs": [
        {
          "output_type": "execute_result",
          "data": {
            "text/plain": [
              "(0.11749888211488724, 0.11906593776117022)"
            ]
          },
          "metadata": {
            "tags": []
          },
          "execution_count": 60
        }
      ]
    },
    {
      "cell_type": "markdown",
      "metadata": {
        "id": "fh6TL-czJCDI"
      },
      "source": [
        "### 스트리밍 지표"
      ]
    },
    {
      "cell_type": "code",
      "metadata": {
        "execution": {
          "iopub.execute_input": "2021-07-04T08:15:22.626671Z",
          "iopub.status.busy": "2021-07-04T08:15:22.624853Z",
          "iopub.status.idle": "2021-07-04T08:15:22.749065Z",
          "shell.execute_reply": "2021-07-04T08:15:22.750374Z"
        },
        "id": "U3sa5sNpJCDI",
        "outputId": "2b6ee102-5a94-4a6c-dcf4-3ffee15ddc92",
        "colab": {
          "base_uri": "https://localhost:8080/"
        }
      },
      "source": [
        "precision = keras.metrics.Precision()\n",
        "precision([0, 1, 1, 1, 0, 1, 0, 1], [1, 1, 0, 1, 0, 1, 0, 1])"
      ],
      "execution_count": 74,
      "outputs": [
        {
          "output_type": "execute_result",
          "data": {
            "text/plain": [
              "<tf.Tensor: shape=(), dtype=float32, numpy=0.8>"
            ]
          },
          "metadata": {
            "tags": []
          },
          "execution_count": 74
        }
      ]
    },
    {
      "cell_type": "code",
      "metadata": {
        "execution": {
          "iopub.execute_input": "2021-07-04T08:15:22.759945Z",
          "iopub.status.busy": "2021-07-04T08:15:22.759008Z",
          "iopub.status.idle": "2021-07-04T08:15:22.769857Z",
          "shell.execute_reply": "2021-07-04T08:15:22.770856Z"
        },
        "id": "AZ1so5o-JCDJ",
        "outputId": "3046de8a-201a-4ec6-a1b3-877f7e38d4eb",
        "colab": {
          "base_uri": "https://localhost:8080/"
        }
      },
      "source": [
        "precision([0, 1, 0, 0, 1, 0, 1, 1], [1, 0, 1, 1, 0, 0, 0, 0])"
      ],
      "execution_count": 62,
      "outputs": [
        {
          "output_type": "execute_result",
          "data": {
            "text/plain": [
              "<tf.Tensor: shape=(), dtype=float32, numpy=0.5>"
            ]
          },
          "metadata": {
            "tags": []
          },
          "execution_count": 62
        }
      ]
    },
    {
      "cell_type": "code",
      "metadata": {
        "execution": {
          "iopub.execute_input": "2021-07-04T08:15:22.777898Z",
          "iopub.status.busy": "2021-07-04T08:15:22.776585Z",
          "iopub.status.idle": "2021-07-04T08:15:22.783204Z",
          "shell.execute_reply": "2021-07-04T08:15:22.784016Z"
        },
        "id": "vkkZrsl3JCDJ",
        "outputId": "c06dc11d-b35b-40d5-e83a-6c874ef3216a",
        "colab": {
          "base_uri": "https://localhost:8080/"
        }
      },
      "source": [
        "precision.result()"
      ],
      "execution_count": 63,
      "outputs": [
        {
          "output_type": "execute_result",
          "data": {
            "text/plain": [
              "<tf.Tensor: shape=(), dtype=float32, numpy=0.5>"
            ]
          },
          "metadata": {
            "tags": []
          },
          "execution_count": 63
        }
      ]
    },
    {
      "cell_type": "code",
      "metadata": {
        "execution": {
          "iopub.execute_input": "2021-07-04T08:15:22.791061Z",
          "iopub.status.busy": "2021-07-04T08:15:22.789955Z",
          "iopub.status.idle": "2021-07-04T08:15:22.796509Z",
          "shell.execute_reply": "2021-07-04T08:15:22.797376Z"
        },
        "id": "QwGInkzeJCDJ",
        "outputId": "95f66159-7a7c-42a2-8a77-75f2a4527027",
        "colab": {
          "base_uri": "https://localhost:8080/"
        }
      },
      "source": [
        "precision.variables"
      ],
      "execution_count": 73,
      "outputs": [
        {
          "output_type": "execute_result",
          "data": {
            "text/plain": [
              "[<tf.Variable 'true_positives:0' shape=(1,) dtype=float32, numpy=array([4.], dtype=float32)>,\n",
              " <tf.Variable 'false_positives:0' shape=(1,) dtype=float32, numpy=array([1.], dtype=float32)>]"
            ]
          },
          "metadata": {
            "tags": []
          },
          "execution_count": 73
        }
      ]
    },
    {
      "cell_type": "code",
      "metadata": {
        "execution": {
          "iopub.execute_input": "2021-07-04T08:15:22.803983Z",
          "iopub.status.busy": "2021-07-04T08:15:22.802886Z",
          "iopub.status.idle": "2021-07-04T08:15:22.807339Z",
          "shell.execute_reply": "2021-07-04T08:15:22.808102Z"
        },
        "id": "QQZ1TXakJCDJ"
      },
      "source": [
        "precision.reset_states()"
      ],
      "execution_count": 67,
      "outputs": []
    },
    {
      "cell_type": "markdown",
      "metadata": {
        "id": "9efwm9jWJCDJ"
      },
      "source": [
        "스트리밍 지표 만들기:"
      ]
    },
    {
      "cell_type": "code",
      "metadata": {
        "execution": {
          "iopub.execute_input": "2021-07-04T08:15:22.825852Z",
          "iopub.status.busy": "2021-07-04T08:15:22.824787Z",
          "iopub.status.idle": "2021-07-04T08:15:22.828894Z",
          "shell.execute_reply": "2021-07-04T08:15:22.829904Z"
        },
        "id": "oS3WwwXuJCDJ"
      },
      "source": [
        "class HuberMetric(keras.metrics.Metric):\n",
        "    def __init__(self, threshold=1.0, **kwargs):\n",
        "        super().__init__(**kwargs) # 기본 매개변수 처리 (예를 들면, dtype)\n",
        "        self.threshold = threshold\n",
        "        self.huber_fn = create_huber(threshold)\n",
        "        self.total = self.add_weight(\"total\", initializer=\"zeros\")\n",
        "        self.count = self.add_weight(\"count\", initializer=\"zeros\")\n",
        "    def update_state(self, y_true, y_pred, sample_weight=None):\n",
        "        metric = self.huber_fn(y_true, y_pred)\n",
        "        self.total.assign_add(tf.reduce_sum(metric))\n",
        "        self.count.assign_add(tf.cast(tf.size(y_true), tf.float32))\n",
        "        # Tensor를 새로운 형태로 casting하는데 사용되는 텐서플로우 메서드이다.\n",
        "        # 첫번째 인자를 입력으로 하고, 두번째 인자에 변환시킬 형태를 넣는다.\n",
        "        # https://bangh.tistory.com/95\n",
        "    def result(self):\n",
        "        return self.total / self.count\n",
        "    def get_config(self):\n",
        "        base_config = super().get_config()\n",
        "        return {**base_config, \"threshold\": self.threshold}"
      ],
      "execution_count": 68,
      "outputs": []
    },
    {
      "cell_type": "code",
      "metadata": {
        "execution": {
          "iopub.execute_input": "2021-07-04T08:15:22.849379Z",
          "iopub.status.busy": "2021-07-04T08:15:22.842123Z",
          "iopub.status.idle": "2021-07-04T08:15:22.979409Z",
          "shell.execute_reply": "2021-07-04T08:15:22.980690Z"
        },
        "id": "qbigA8BPJCDJ",
        "outputId": "4643ba4a-6e13-4f6f-84fc-7b8c791e3c83",
        "colab": {
          "base_uri": "https://localhost:8080/"
        }
      },
      "source": [
        "m = HuberMetric(2.)\n",
        "\n",
        "# total = 2 * |10 - 2| - 2²/2 = 14\n",
        "# count = 1\n",
        "# result = 14 / 1 = 14\n",
        "m(tf.constant([[2.]]), tf.constant([[10.]])) "
      ],
      "execution_count": 69,
      "outputs": [
        {
          "output_type": "execute_result",
          "data": {
            "text/plain": [
              "<tf.Tensor: shape=(), dtype=float32, numpy=14.0>"
            ]
          },
          "metadata": {
            "tags": []
          },
          "execution_count": 69
        }
      ]
    },
    {
      "cell_type": "code",
      "metadata": {
        "execution": {
          "iopub.execute_input": "2021-07-04T08:15:22.992007Z",
          "iopub.status.busy": "2021-07-04T08:15:22.990814Z",
          "iopub.status.idle": "2021-07-04T08:15:23.000738Z",
          "shell.execute_reply": "2021-07-04T08:15:23.001656Z"
        },
        "id": "RkJEDyVLJCDJ",
        "outputId": "acd6dec2-cafb-407a-91a7-ab9dcdc94726",
        "colab": {
          "base_uri": "https://localhost:8080/"
        }
      },
      "source": [
        "# total = total + (|1 - 0|² / 2) + (2 * |9.25 - 5| - 2² / 2) = 14 + 7 = 21\n",
        "# count = count + 2 = 3\n",
        "# result = total / count = 21 / 3 = 7\n",
        "m(tf.constant([[0.], [5.]]), tf.constant([[1.], [9.25]]))\n",
        "\n",
        "m.result()"
      ],
      "execution_count": 70,
      "outputs": [
        {
          "output_type": "execute_result",
          "data": {
            "text/plain": [
              "<tf.Tensor: shape=(), dtype=float32, numpy=7.0>"
            ]
          },
          "metadata": {
            "tags": []
          },
          "execution_count": 70
        }
      ]
    },
    {
      "cell_type": "code",
      "metadata": {
        "execution": {
          "iopub.execute_input": "2021-07-04T08:15:23.007901Z",
          "iopub.status.busy": "2021-07-04T08:15:23.006876Z",
          "iopub.status.idle": "2021-07-04T08:15:23.012642Z",
          "shell.execute_reply": "2021-07-04T08:15:23.013453Z"
        },
        "id": "rSEhlGtYJCDJ",
        "outputId": "a9273230-15f1-4e65-86d7-631a668d278f",
        "colab": {
          "base_uri": "https://localhost:8080/"
        }
      },
      "source": [
        "m.variables\n",
        "# 바로 윗셀을 봐라... total이 21이고 count가 3이다."
      ],
      "execution_count": 75,
      "outputs": [
        {
          "output_type": "execute_result",
          "data": {
            "text/plain": [
              "[<tf.Variable 'total:0' shape=() dtype=float32, numpy=21.0>,\n",
              " <tf.Variable 'count:0' shape=() dtype=float32, numpy=3.0>]"
            ]
          },
          "metadata": {
            "tags": []
          },
          "execution_count": 75
        }
      ]
    },
    {
      "cell_type": "code",
      "metadata": {
        "execution": {
          "iopub.execute_input": "2021-07-04T08:15:23.020099Z",
          "iopub.status.busy": "2021-07-04T08:15:23.019059Z",
          "iopub.status.idle": "2021-07-04T08:15:23.025577Z",
          "shell.execute_reply": "2021-07-04T08:15:23.026477Z"
        },
        "id": "hv66EaPYJCDJ",
        "outputId": "ac0696f2-0382-4868-8b07-b778403bf482",
        "colab": {
          "base_uri": "https://localhost:8080/"
        }
      },
      "source": [
        "m.reset_states()\n",
        "m.variables"
      ],
      "execution_count": 76,
      "outputs": [
        {
          "output_type": "execute_result",
          "data": {
            "text/plain": [
              "[<tf.Variable 'total:0' shape=() dtype=float32, numpy=0.0>,\n",
              " <tf.Variable 'count:0' shape=() dtype=float32, numpy=0.0>]"
            ]
          },
          "metadata": {
            "tags": []
          },
          "execution_count": 76
        }
      ]
    },
    {
      "cell_type": "markdown",
      "metadata": {
        "id": "w0AA1DzIJCDJ"
      },
      "source": [
        "`HuberMetric` 클래스가 잘 동작하는지 확인해 보죠:"
      ]
    },
    {
      "cell_type": "code",
      "metadata": {
        "execution": {
          "iopub.execute_input": "2021-07-04T08:15:23.035392Z",
          "iopub.status.busy": "2021-07-04T08:15:23.034294Z",
          "iopub.status.idle": "2021-07-04T08:15:23.044938Z",
          "shell.execute_reply": "2021-07-04T08:15:23.045831Z"
        },
        "id": "f1b0-pmyJCDJ"
      },
      "source": [
        "keras.backend.clear_session()\n",
        "np.random.seed(42)\n",
        "tf.random.set_seed(42)"
      ],
      "execution_count": 77,
      "outputs": []
    },
    {
      "cell_type": "code",
      "metadata": {
        "execution": {
          "iopub.execute_input": "2021-07-04T08:15:23.059263Z",
          "iopub.status.busy": "2021-07-04T08:15:23.057895Z",
          "iopub.status.idle": "2021-07-04T08:15:23.080858Z",
          "shell.execute_reply": "2021-07-04T08:15:23.081963Z"
        },
        "id": "qjUlbkHwJCDJ"
      },
      "source": [
        "model = keras.models.Sequential([\n",
        "    keras.layers.Dense(30, activation=\"selu\", kernel_initializer=\"lecun_normal\",\n",
        "                       input_shape=input_shape),\n",
        "    keras.layers.Dense(1),\n",
        "])"
      ],
      "execution_count": 78,
      "outputs": []
    },
    {
      "cell_type": "code",
      "metadata": {
        "execution": {
          "iopub.execute_input": "2021-07-04T08:15:23.096408Z",
          "iopub.status.busy": "2021-07-04T08:15:23.092739Z",
          "iopub.status.idle": "2021-07-04T08:15:23.109658Z",
          "shell.execute_reply": "2021-07-04T08:15:23.110862Z"
        },
        "id": "3-qAqDnzJCDJ"
      },
      "source": [
        "model.compile(loss=create_huber(2.0), optimizer=\"nadam\", metrics=[HuberMetric(2.0)])"
      ],
      "execution_count": 79,
      "outputs": []
    },
    {
      "cell_type": "code",
      "metadata": {
        "execution": {
          "iopub.execute_input": "2021-07-04T08:15:23.120177Z",
          "iopub.status.busy": "2021-07-04T08:15:23.118905Z",
          "iopub.status.idle": "2021-07-04T08:15:26.468091Z",
          "shell.execute_reply": "2021-07-04T08:15:26.469262Z"
        },
        "id": "o8ZmQ1DGJCDJ",
        "outputId": "9c4ad0a2-7b2b-4e82-f6aa-c619fe11bea5",
        "colab": {
          "base_uri": "https://localhost:8080/"
        }
      },
      "source": [
        "model.fit(X_train_scaled.astype(np.float32), y_train.astype(np.float32), epochs=2)"
      ],
      "execution_count": 80,
      "outputs": [
        {
          "output_type": "stream",
          "text": [
            "Epoch 1/2\n",
            "363/363 [==============================] - 1s 2ms/step - loss: 0.8707 - huber_metric: 0.8707\n",
            "Epoch 2/2\n",
            "363/363 [==============================] - 1s 2ms/step - loss: 0.2595 - huber_metric: 0.2595\n"
          ],
          "name": "stdout"
        },
        {
          "output_type": "execute_result",
          "data": {
            "text/plain": [
              "<tensorflow.python.keras.callbacks.History at 0x7f351ac16bd0>"
            ]
          },
          "metadata": {
            "tags": []
          },
          "execution_count": 80
        }
      ]
    },
    {
      "cell_type": "code",
      "metadata": {
        "execution": {
          "iopub.execute_input": "2021-07-04T08:15:26.501237Z",
          "iopub.status.busy": "2021-07-04T08:15:26.499598Z",
          "iopub.status.idle": "2021-07-04T08:15:26.526806Z",
          "shell.execute_reply": "2021-07-04T08:15:26.527883Z"
        },
        "id": "osdnTCzkJCDK"
      },
      "source": [
        "model.save(\"my_model_with_a_custom_metric.h5\")"
      ],
      "execution_count": 81,
      "outputs": []
    },
    {
      "cell_type": "code",
      "metadata": {
        "execution": {
          "iopub.execute_input": "2021-07-04T08:15:26.536250Z",
          "iopub.status.busy": "2021-07-04T08:15:26.534870Z",
          "iopub.status.idle": "2021-07-04T08:15:26.603542Z",
          "shell.execute_reply": "2021-07-04T08:15:26.604356Z"
        },
        "id": "AvS-Q3Y-JCDK"
      },
      "source": [
        "model = keras.models.load_model(\"my_model_with_a_custom_metric.h5\",\n",
        "                                custom_objects={\"huber_fn\": create_huber(2.0),\n",
        "                                                \"HuberMetric\": HuberMetric})"
      ],
      "execution_count": 82,
      "outputs": []
    },
    {
      "cell_type": "code",
      "metadata": {
        "execution": {
          "iopub.execute_input": "2021-07-04T08:15:26.612094Z",
          "iopub.status.busy": "2021-07-04T08:15:26.610601Z",
          "iopub.status.idle": "2021-07-04T08:15:29.811418Z",
          "shell.execute_reply": "2021-07-04T08:15:29.810056Z"
        },
        "id": "ZHJEOKjRJCDK",
        "outputId": "1b9c7512-22e8-48b6-beb6-c0352f791d17",
        "colab": {
          "base_uri": "https://localhost:8080/"
        }
      },
      "source": [
        "model.fit(X_train_scaled.astype(np.float32), y_train.astype(np.float32), epochs=2)"
      ],
      "execution_count": 83,
      "outputs": [
        {
          "output_type": "stream",
          "text": [
            "Epoch 1/2\n",
            "363/363 [==============================] - 1s 2ms/step - loss: 0.2350 - huber_metric: 0.2350\n",
            "Epoch 2/2\n",
            "363/363 [==============================] - 1s 2ms/step - loss: 0.2278 - huber_metric: 0.2278\n"
          ],
          "name": "stdout"
        },
        {
          "output_type": "execute_result",
          "data": {
            "text/plain": [
              "<tensorflow.python.keras.callbacks.History at 0x7f351aa40e50>"
            ]
          },
          "metadata": {
            "tags": []
          },
          "execution_count": 83
        }
      ]
    },
    {
      "cell_type": "markdown",
      "metadata": {
        "id": "YwAVZc7wJCDK"
      },
      "source": [
        "**경고**: 텐서플로 2.2에서 tf.keras가 `model.metrics`의 0번째 위치에 지표를 추가합니다([텐서플로 이슈 #38150](https://github.com/tensorflow/tensorflow/issues/38150) 참조). 따라서 `HuberMetric`에 접근하려면 `model.metrics[0]` 대신 `model.metrics[-1]`를 사용해야 합니다."
      ]
    },
    {
      "cell_type": "code",
      "metadata": {
        "execution": {
          "iopub.execute_input": "2021-07-04T08:15:29.820526Z",
          "iopub.status.busy": "2021-07-04T08:15:29.819586Z",
          "iopub.status.idle": "2021-07-04T08:15:29.825170Z",
          "shell.execute_reply": "2021-07-04T08:15:29.824379Z"
        },
        "id": "8ZNC6NALJCDK",
        "outputId": "c5d5f777-7ad8-4870-ae61-24c6e3aacbb4",
        "colab": {
          "base_uri": "https://localhost:8080/"
        }
      },
      "source": [
        "model.metrics[-1].threshold"
      ],
      "execution_count": 84,
      "outputs": [
        {
          "output_type": "execute_result",
          "data": {
            "text/plain": [
              "2.0"
            ]
          },
          "metadata": {
            "tags": []
          },
          "execution_count": 84
        }
      ]
    },
    {
      "cell_type": "markdown",
      "metadata": {
        "id": "bjLpDVcAJCDK"
      },
      "source": [
        "잘 동작하는군요! 다음처럼 더 간단하게 클래스를 만들 수 있습니다:"
      ]
    },
    {
      "cell_type": "code",
      "metadata": {
        "execution": {
          "iopub.execute_input": "2021-07-04T08:15:29.840294Z",
          "iopub.status.busy": "2021-07-04T08:15:29.838769Z",
          "iopub.status.idle": "2021-07-04T08:15:29.842340Z",
          "shell.execute_reply": "2021-07-04T08:15:29.843598Z"
        },
        "id": "6QNVP8B8JCDK"
      },
      "source": [
        "class HuberMetric(keras.metrics.Mean):\n",
        "    def __init__(self, threshold=1.0, name='HuberMetric', dtype=None):\n",
        "        self.threshold = threshold\n",
        "        self.huber_fn = create_huber(threshold)\n",
        "        super().__init__(name=name, dtype=dtype)\n",
        "    def update_state(self, y_true, y_pred, sample_weight=None):\n",
        "        metric = self.huber_fn(y_true, y_pred)\n",
        "        super(HuberMetric, self).update_state(metric, sample_weight)\n",
        "    def get_config(self):\n",
        "        base_config = super().get_config()\n",
        "        return {**base_config, \"threshold\": self.threshold}        "
      ],
      "execution_count": 87,
      "outputs": []
    },
    {
      "cell_type": "markdown",
      "metadata": {
        "id": "2TGnRsOaJCDK"
      },
      "source": [
        "이 클래스는 크기를 잘 처리하고 샘플 가중치도 지원합니다."
      ]
    },
    {
      "cell_type": "code",
      "metadata": {
        "execution": {
          "iopub.execute_input": "2021-07-04T08:15:29.852413Z",
          "iopub.status.busy": "2021-07-04T08:15:29.850905Z",
          "iopub.status.idle": "2021-07-04T08:15:29.863225Z",
          "shell.execute_reply": "2021-07-04T08:15:29.863996Z"
        },
        "id": "Sus0KBvBJCDK"
      },
      "source": [
        "keras.backend.clear_session()\n",
        "np.random.seed(42)\n",
        "tf.random.set_seed(42)"
      ],
      "execution_count": 89,
      "outputs": []
    },
    {
      "cell_type": "code",
      "metadata": {
        "execution": {
          "iopub.execute_input": "2021-07-04T08:15:29.880400Z",
          "iopub.status.busy": "2021-07-04T08:15:29.878725Z",
          "iopub.status.idle": "2021-07-04T08:15:29.903763Z",
          "shell.execute_reply": "2021-07-04T08:15:29.905048Z"
        },
        "id": "SBPyxmzcJCDK"
      },
      "source": [
        "model = keras.models.Sequential([\n",
        "    keras.layers.Dense(30, activation=\"selu\", kernel_initializer=\"lecun_normal\",\n",
        "                       input_shape=input_shape),\n",
        "    keras.layers.Dense(1),\n",
        "])"
      ],
      "execution_count": 90,
      "outputs": []
    },
    {
      "cell_type": "code",
      "metadata": {
        "execution": {
          "iopub.execute_input": "2021-07-04T08:15:29.923238Z",
          "iopub.status.busy": "2021-07-04T08:15:29.922379Z",
          "iopub.status.idle": "2021-07-04T08:15:29.948652Z",
          "shell.execute_reply": "2021-07-04T08:15:29.949313Z"
        },
        "id": "z9t6qgTqJCDK"
      },
      "source": [
        "model.compile(loss=keras.losses.Huber(2.0), optimizer=\"nadam\", weighted_metrics=[HuberMetric(2.0)])"
      ],
      "execution_count": 91,
      "outputs": []
    },
    {
      "cell_type": "code",
      "metadata": {
        "execution": {
          "iopub.execute_input": "2021-07-04T08:15:29.956912Z",
          "iopub.status.busy": "2021-07-04T08:15:29.956048Z",
          "iopub.status.idle": "2021-07-04T08:15:35.132118Z",
          "shell.execute_reply": "2021-07-04T08:15:35.131115Z"
        },
        "scrolled": true,
        "id": "AWIOSFonJCDK",
        "outputId": "3e501acb-05b3-4133-9272-4cf4197a8a33",
        "colab": {
          "base_uri": "https://localhost:8080/"
        }
      },
      "source": [
        "sample_weight = np.random.rand(len(y_train))\n",
        "history = model.fit(X_train_scaled.astype(np.float32), y_train.astype(np.float32),\n",
        "                    epochs=2, sample_weight=sample_weight)"
      ],
      "execution_count": 92,
      "outputs": [
        {
          "output_type": "stream",
          "text": [
            "Epoch 1/2\n",
            "363/363 [==============================] - 2s 3ms/step - loss: 0.4455 - HuberMetric: 0.8978\n",
            "Epoch 2/2\n",
            "363/363 [==============================] - 1s 3ms/step - loss: 0.1305 - HuberMetric: 0.2631\n"
          ],
          "name": "stdout"
        }
      ]
    },
    {
      "cell_type": "code",
      "metadata": {
        "execution": {
          "iopub.execute_input": "2021-07-04T08:15:35.143922Z",
          "iopub.status.busy": "2021-07-04T08:15:35.142733Z",
          "iopub.status.idle": "2021-07-04T08:15:35.147546Z",
          "shell.execute_reply": "2021-07-04T08:15:35.148541Z"
        },
        "id": "aVA4zAMcJCDK",
        "outputId": "ab67d812-644a-4ff5-8445-49ebe8ec0aa7",
        "colab": {
          "base_uri": "https://localhost:8080/"
        }
      },
      "source": [
        "history.history[\"loss\"][0], history.history[\"HuberMetric\"][0] * sample_weight.mean()"
      ],
      "execution_count": 93,
      "outputs": [
        {
          "output_type": "execute_result",
          "data": {
            "text/plain": [
              "(0.44554364681243896, 0.44554368685750223)"
            ]
          },
          "metadata": {
            "tags": []
          },
          "execution_count": 93
        }
      ]
    },
    {
      "cell_type": "code",
      "metadata": {
        "execution": {
          "iopub.execute_input": "2021-07-04T08:15:35.180715Z",
          "iopub.status.busy": "2021-07-04T08:15:35.179527Z",
          "iopub.status.idle": "2021-07-04T08:15:35.212988Z",
          "shell.execute_reply": "2021-07-04T08:15:35.213970Z"
        },
        "id": "rZ8VpRSeJCDK"
      },
      "source": [
        "model.save(\"my_model_with_a_custom_metric_v2.h5\")"
      ],
      "execution_count": 94,
      "outputs": []
    },
    {
      "cell_type": "code",
      "metadata": {
        "execution": {
          "iopub.execute_input": "2021-07-04T08:15:35.223140Z",
          "iopub.status.busy": "2021-07-04T08:15:35.221582Z",
          "iopub.status.idle": "2021-07-04T08:15:35.311024Z",
          "shell.execute_reply": "2021-07-04T08:15:35.312329Z"
        },
        "id": "XXzWQCM2JCDL"
      },
      "source": [
        "model = keras.models.load_model(\"my_model_with_a_custom_metric_v2.h5\",\n",
        "                                custom_objects={\"HuberMetric\": HuberMetric})"
      ],
      "execution_count": 95,
      "outputs": []
    },
    {
      "cell_type": "code",
      "metadata": {
        "execution": {
          "iopub.execute_input": "2021-07-04T08:15:35.321452Z",
          "iopub.status.busy": "2021-07-04T08:15:35.319795Z",
          "iopub.status.idle": "2021-07-04T08:15:38.912190Z",
          "shell.execute_reply": "2021-07-04T08:15:38.913187Z"
        },
        "id": "cOMdVg0IJCDL",
        "outputId": "1191eb9e-0fb3-4734-f2e1-9db1e395af04",
        "colab": {
          "base_uri": "https://localhost:8080/"
        }
      },
      "source": [
        "model.fit(X_train_scaled.astype(np.float32), y_train.astype(np.float32), epochs=2)"
      ],
      "execution_count": 96,
      "outputs": [
        {
          "output_type": "stream",
          "text": [
            "Epoch 1/2\n",
            "363/363 [==============================] - 1s 3ms/step - loss: 0.2377 - HuberMetric: 0.2377\n",
            "Epoch 2/2\n",
            "363/363 [==============================] - 1s 3ms/step - loss: 0.2279 - HuberMetric: 0.2279\n"
          ],
          "name": "stdout"
        },
        {
          "output_type": "execute_result",
          "data": {
            "text/plain": [
              "<tensorflow.python.keras.callbacks.History at 0x7f350c26fe90>"
            ]
          },
          "metadata": {
            "tags": []
          },
          "execution_count": 96
        }
      ]
    },
    {
      "cell_type": "code",
      "metadata": {
        "execution": {
          "iopub.execute_input": "2021-07-04T08:15:38.921614Z",
          "iopub.status.busy": "2021-07-04T08:15:38.920593Z",
          "iopub.status.idle": "2021-07-04T08:15:38.925260Z",
          "shell.execute_reply": "2021-07-04T08:15:38.926140Z"
        },
        "scrolled": true,
        "id": "qhIhoS3mJCDL",
        "outputId": "7637c9a1-dee0-4317-ae96-29781b416865",
        "colab": {
          "base_uri": "https://localhost:8080/"
        }
      },
      "source": [
        "model.metrics[-1].threshold"
      ],
      "execution_count": 97,
      "outputs": [
        {
          "output_type": "execute_result",
          "data": {
            "text/plain": [
              "2.0"
            ]
          },
          "metadata": {
            "tags": []
          },
          "execution_count": 97
        }
      ]
    },
    {
      "cell_type": "markdown",
      "metadata": {
        "id": "wIuU7aDsJCDL"
      },
      "source": [
        "## 사용자 정의 층"
      ]
    },
    {
      "cell_type": "code",
      "metadata": {
        "execution": {
          "iopub.execute_input": "2021-07-04T08:15:38.934702Z",
          "iopub.status.busy": "2021-07-04T08:15:38.933594Z",
          "iopub.status.idle": "2021-07-04T08:15:38.937240Z",
          "shell.execute_reply": "2021-07-04T08:15:38.938128Z"
        },
        "id": "g9TlYBtsJCDL"
      },
      "source": [
        "exponential_layer = keras.layers.Lambda(lambda x: tf.exp(x))"
      ],
      "execution_count": 98,
      "outputs": []
    },
    {
      "cell_type": "code",
      "metadata": {
        "execution": {
          "iopub.execute_input": "2021-07-04T08:15:38.945934Z",
          "iopub.status.busy": "2021-07-04T08:15:38.944822Z",
          "iopub.status.idle": "2021-07-04T08:15:38.951723Z",
          "shell.execute_reply": "2021-07-04T08:15:38.952589Z"
        },
        "id": "MtzQyLlPJCDL",
        "outputId": "b15393c3-150e-4483-d4d1-01c56bd31c99",
        "colab": {
          "base_uri": "https://localhost:8080/"
        }
      },
      "source": [
        "exponential_layer([-1., 0., 1.])"
      ],
      "execution_count": 99,
      "outputs": [
        {
          "output_type": "execute_result",
          "data": {
            "text/plain": [
              "<tf.Tensor: shape=(3,), dtype=float32, numpy=array([0.36787948, 1.        , 2.7182817 ], dtype=float32)>"
            ]
          },
          "metadata": {
            "tags": []
          },
          "execution_count": 99
        }
      ]
    },
    {
      "cell_type": "markdown",
      "metadata": {
        "id": "JgDDWwYCJCDL"
      },
      "source": [
        "회귀 모델이 예측할 값이 양수이고 스케일이 매우 다른 경우 (예를 들어, 0.001, 10., 10000) 출력층에 지수 함수를 추가하면 유용할 수 있습니다:"
      ]
    },
    {
      "cell_type": "code",
      "metadata": {
        "execution": {
          "iopub.execute_input": "2021-07-04T08:15:38.960487Z",
          "iopub.status.busy": "2021-07-04T08:15:38.959393Z",
          "iopub.status.idle": "2021-07-04T08:15:38.976960Z",
          "shell.execute_reply": "2021-07-04T08:15:38.976101Z"
        },
        "id": "s8ZDM3K4JCDL"
      },
      "source": [
        "keras.backend.clear_session()\n",
        "np.random.seed(42)\n",
        "tf.random.set_seed(42)"
      ],
      "execution_count": 101,
      "outputs": []
    },
    {
      "cell_type": "code",
      "metadata": {
        "execution": {
          "iopub.execute_input": "2021-07-04T08:15:38.997361Z",
          "iopub.status.busy": "2021-07-04T08:15:38.995721Z",
          "iopub.status.idle": "2021-07-04T08:15:45.243279Z",
          "shell.execute_reply": "2021-07-04T08:15:45.244491Z"
        },
        "id": "M0_12iRTJCDL",
        "outputId": "b0fe376c-3dea-4a51-9d42-737d5dd0bbba",
        "colab": {
          "base_uri": "https://localhost:8080/"
        }
      },
      "source": [
        "model = keras.models.Sequential([\n",
        "    keras.layers.Dense(30, activation=\"relu\", input_shape=input_shape),\n",
        "    keras.layers.Dense(1),\n",
        "    exponential_layer\n",
        "])\n",
        "model.compile(loss=\"mse\", optimizer=\"sgd\")\n",
        "model.fit(X_train_scaled, y_train, epochs=5,\n",
        "          validation_data=(X_valid_scaled, y_valid))\n",
        "model.evaluate(X_test_scaled, y_test)"
      ],
      "execution_count": 102,
      "outputs": [
        {
          "output_type": "stream",
          "text": [
            "Epoch 1/5\n",
            "363/363 [==============================] - 1s 2ms/step - loss: 1.0631 - val_loss: 0.4457\n",
            "Epoch 2/5\n",
            "363/363 [==============================] - 1s 2ms/step - loss: 0.4562 - val_loss: 0.3798\n",
            "Epoch 3/5\n",
            "363/363 [==============================] - 1s 2ms/step - loss: 0.4029 - val_loss: 0.3548\n",
            "Epoch 4/5\n",
            "363/363 [==============================] - 1s 2ms/step - loss: 0.3851 - val_loss: 0.3464\n",
            "Epoch 5/5\n",
            "363/363 [==============================] - 1s 2ms/step - loss: 0.3708 - val_loss: 0.3449\n",
            "162/162 [==============================] - 0s 1ms/step - loss: 0.3586\n"
          ],
          "name": "stdout"
        },
        {
          "output_type": "execute_result",
          "data": {
            "text/plain": [
              "0.3586341142654419"
            ]
          },
          "metadata": {
            "tags": []
          },
          "execution_count": 102
        }
      ]
    },
    {
      "cell_type": "code",
      "metadata": {
        "execution": {
          "iopub.execute_input": "2021-07-04T08:15:45.266884Z",
          "iopub.status.busy": "2021-07-04T08:15:45.265426Z",
          "iopub.status.idle": "2021-07-04T08:15:45.269058Z",
          "shell.execute_reply": "2021-07-04T08:15:45.270234Z"
        },
        "id": "4_lv9fO-JCDL"
      },
      "source": [
        "class MyDense(keras.layers.Layer):\n",
        "    def __init__(self, units, activation=None, **kwargs):\n",
        "        super().__init__(**kwargs)\n",
        "        self.units = units\n",
        "        self.activation = keras.activations.get(activation)\n",
        "\n",
        "    def build(self, batch_input_shape):\n",
        "        self.kernel = self.add_weight(\n",
        "            name=\"kernel\", shape=[batch_input_shape[-1], self.units],\n",
        "            initializer=\"glorot_normal\")\n",
        "        self.bias = self.add_weight(\n",
        "            name=\"bias\", shape=[self.units], initializer=\"zeros\")\n",
        "        super().build(batch_input_shape) # must be at the end\n",
        "\n",
        "    def call(self, X):\n",
        "        return self.activation(X @ self.kernel + self.bias)\n",
        "\n",
        "    def compute_output_shape(self, batch_input_shape):\n",
        "        return tf.TensorShape(batch_input_shape.as_list()[:-1] + [self.units])\n",
        "\n",
        "    def get_config(self):\n",
        "        base_config = super().get_config()\n",
        "        return {**base_config, \"units\": self.units,\n",
        "                \"activation\": keras.activations.serialize(self.activation)}"
      ],
      "execution_count": 103,
      "outputs": []
    },
    {
      "cell_type": "code",
      "metadata": {
        "execution": {
          "iopub.execute_input": "2021-07-04T08:15:45.281847Z",
          "iopub.status.busy": "2021-07-04T08:15:45.278785Z",
          "iopub.status.idle": "2021-07-04T08:15:45.285433Z",
          "shell.execute_reply": "2021-07-04T08:15:45.286330Z"
        },
        "id": "zdWny869JCDL"
      },
      "source": [
        "keras.backend.clear_session()\n",
        "np.random.seed(42)\n",
        "tf.random.set_seed(42)"
      ],
      "execution_count": 104,
      "outputs": []
    },
    {
      "cell_type": "code",
      "metadata": {
        "execution": {
          "iopub.execute_input": "2021-07-04T08:15:45.298411Z",
          "iopub.status.busy": "2021-07-04T08:15:45.297225Z",
          "iopub.status.idle": "2021-07-04T08:15:45.381189Z",
          "shell.execute_reply": "2021-07-04T08:15:45.382152Z"
        },
        "id": "3hHe9eT4JCDL"
      },
      "source": [
        "model = keras.models.Sequential([\n",
        "    MyDense(30, activation=\"relu\", input_shape=input_shape),\n",
        "    MyDense(1)\n",
        "])"
      ],
      "execution_count": 105,
      "outputs": []
    },
    {
      "cell_type": "code",
      "metadata": {
        "execution": {
          "iopub.execute_input": "2021-07-04T08:15:45.400162Z",
          "iopub.status.busy": "2021-07-04T08:15:45.398953Z",
          "iopub.status.idle": "2021-07-04T08:15:49.494875Z",
          "shell.execute_reply": "2021-07-04T08:15:49.495803Z"
        },
        "scrolled": false,
        "id": "c4_6Tc6zJCDL",
        "outputId": "88da88bb-e220-4d29-89e9-2900585841af",
        "colab": {
          "base_uri": "https://localhost:8080/"
        }
      },
      "source": [
        "model.compile(loss=\"mse\", optimizer=\"nadam\")\n",
        "model.fit(X_train_scaled, y_train, epochs=2,\n",
        "          validation_data=(X_valid_scaled, y_valid))\n",
        "model.evaluate(X_test_scaled, y_test)"
      ],
      "execution_count": 106,
      "outputs": [
        {
          "output_type": "stream",
          "text": [
            "Epoch 1/2\n",
            "363/363 [==============================] - 2s 3ms/step - loss: 2.2563 - val_loss: 0.9472\n",
            "Epoch 2/2\n",
            "363/363 [==============================] - 1s 3ms/step - loss: 0.6485 - val_loss: 0.6219\n",
            "162/162 [==============================] - 0s 1ms/step - loss: 0.5474\n"
          ],
          "name": "stdout"
        },
        {
          "output_type": "execute_result",
          "data": {
            "text/plain": [
              "0.5473726987838745"
            ]
          },
          "metadata": {
            "tags": []
          },
          "execution_count": 106
        }
      ]
    },
    {
      "cell_type": "code",
      "metadata": {
        "execution": {
          "iopub.execute_input": "2021-07-04T08:15:49.526507Z",
          "iopub.status.busy": "2021-07-04T08:15:49.525256Z",
          "iopub.status.idle": "2021-07-04T08:15:49.556131Z",
          "shell.execute_reply": "2021-07-04T08:15:49.557059Z"
        },
        "id": "a5UsgdOEJCDL"
      },
      "source": [
        "model.save(\"my_model_with_a_custom_layer.h5\")"
      ],
      "execution_count": 107,
      "outputs": []
    },
    {
      "cell_type": "code",
      "metadata": {
        "execution": {
          "iopub.execute_input": "2021-07-04T08:15:49.565553Z",
          "iopub.status.busy": "2021-07-04T08:15:49.564073Z",
          "iopub.status.idle": "2021-07-04T08:15:49.637729Z",
          "shell.execute_reply": "2021-07-04T08:15:49.638951Z"
        },
        "id": "_pZWgUPRJCDL"
      },
      "source": [
        "model = keras.models.load_model(\"my_model_with_a_custom_layer.h5\",\n",
        "                                custom_objects={\"MyDense\": MyDense})"
      ],
      "execution_count": 108,
      "outputs": []
    },
    {
      "cell_type": "code",
      "metadata": {
        "execution": {
          "iopub.execute_input": "2021-07-04T08:15:49.650052Z",
          "iopub.status.busy": "2021-07-04T08:15:49.648530Z",
          "iopub.status.idle": "2021-07-04T08:15:49.651608Z",
          "shell.execute_reply": "2021-07-04T08:15:49.652527Z"
        },
        "id": "jR_q-tgtJCDM"
      },
      "source": [
        "class MyMultiLayer(keras.layers.Layer):\n",
        "    def call(self, X):\n",
        "        X1, X2 = X\n",
        "        print(\"X1.shape: \", X1.shape ,\" X2.shape: \", X2.shape) # 사용자 정의 층 디버깅\n",
        "        return X1 + X2, X1 * X2\n",
        "\n",
        "    def compute_output_shape(self, batch_input_shape):\n",
        "        batch_input_shape1, batch_input_shape2 = batch_input_shape\n",
        "        return [batch_input_shape1, batch_input_shape2]"
      ],
      "execution_count": 109,
      "outputs": []
    },
    {
      "cell_type": "markdown",
      "metadata": {
        "id": "asu410VqJCDM"
      },
      "source": [
        "사용자 정의 층은 다음처럼 함수형 API를 사용해 호출할 수 있습니다:"
      ]
    },
    {
      "cell_type": "code",
      "metadata": {
        "execution": {
          "iopub.execute_input": "2021-07-04T08:15:49.671914Z",
          "iopub.status.busy": "2021-07-04T08:15:49.670532Z",
          "iopub.status.idle": "2021-07-04T08:15:49.736314Z",
          "shell.execute_reply": "2021-07-04T08:15:49.737569Z"
        },
        "id": "j1_PusAzJCDM",
        "outputId": "77511fc2-00ec-4d49-f32b-db11b3df2213",
        "colab": {
          "base_uri": "https://localhost:8080/"
        }
      },
      "source": [
        "inputs1 = keras.layers.Input(shape=[2])\n",
        "inputs2 = keras.layers.Input(shape=[2])\n",
        "outputs1, outputs2 = MyMultiLayer()((inputs1, inputs2))"
      ],
      "execution_count": 110,
      "outputs": [
        {
          "output_type": "stream",
          "text": [
            "X1.shape:  (None, 2)  X2.shape:  (None, 2)\n"
          ],
          "name": "stdout"
        }
      ]
    },
    {
      "cell_type": "markdown",
      "metadata": {
        "id": "GYLkrMqRJCDM"
      },
      "source": [
        "`call()` 메서드는 심볼릭 입력을 받습니다. 이 입력의 크기는 부분적으로만 지정되어 있습니다(이 시점에서는 배치 크기를 모릅니다. 그래서 첫 번째 차원이 None입니다):\n",
        "\n",
        "사용자 층에 실제 데이터를 전달할 수도 있습니다. 이를 테스트하기 위해 각 데이터셋의 입력을 각각 네 개의 특성을 가진 두 부분으로 나누겠습니다:"
      ]
    },
    {
      "cell_type": "code",
      "metadata": {
        "execution": {
          "iopub.execute_input": "2021-07-04T08:15:49.750493Z",
          "iopub.status.busy": "2021-07-04T08:15:49.749103Z",
          "iopub.status.idle": "2021-07-04T08:15:49.753632Z",
          "shell.execute_reply": "2021-07-04T08:15:49.754572Z"
        },
        "id": "kOPhJehOJCDM",
        "outputId": "07604ef9-55a2-4576-ff74-88e600775b68",
        "colab": {
          "base_uri": "https://localhost:8080/"
        }
      },
      "source": [
        "def split_data(data):\n",
        "    columns_count = data.shape[-1]\n",
        "    half = columns_count // 2\n",
        "    return data[:, :half], data[:, half:]\n",
        "\n",
        "X_train_scaled_A, X_train_scaled_B = split_data(X_train_scaled)\n",
        "X_valid_scaled_A, X_valid_scaled_B = split_data(X_valid_scaled)\n",
        "X_test_scaled_A, X_test_scaled_B = split_data(X_test_scaled)\n",
        "\n",
        "# 분할된 데이터 크기 출력\n",
        "X_train_scaled_A.shape, X_train_scaled_B.shape"
      ],
      "execution_count": 111,
      "outputs": [
        {
          "output_type": "execute_result",
          "data": {
            "text/plain": [
              "((11610, 4), (11610, 4))"
            ]
          },
          "metadata": {
            "tags": []
          },
          "execution_count": 111
        }
      ]
    },
    {
      "cell_type": "markdown",
      "metadata": {
        "id": "VawuziNaJCDM"
      },
      "source": [
        "크기가 완전하게 지정된 것을 볼 수 있습니다:"
      ]
    },
    {
      "cell_type": "code",
      "metadata": {
        "execution": {
          "iopub.execute_input": "2021-07-04T08:15:49.762391Z",
          "iopub.status.busy": "2021-07-04T08:15:49.761275Z",
          "iopub.status.idle": "2021-07-04T08:15:49.769201Z",
          "shell.execute_reply": "2021-07-04T08:15:49.770026Z"
        },
        "id": "83g6p4MXJCDM",
        "outputId": "4436b24d-47b8-4396-c9b6-d0ec8ad7c054",
        "colab": {
          "base_uri": "https://localhost:8080/"
        }
      },
      "source": [
        "outputs1, outputs2 = MyMultiLayer()((X_train_scaled_A, X_train_scaled_B))"
      ],
      "execution_count": 112,
      "outputs": [
        {
          "output_type": "stream",
          "text": [
            "X1.shape:  (11610, 4)  X2.shape:  (11610, 4)\n"
          ],
          "name": "stdout"
        }
      ]
    },
    {
      "cell_type": "markdown",
      "metadata": {
        "id": "dh4dff_xJCDM"
      },
      "source": [
        "함수형 API를 사용해 완전한 모델을 만들어 보겠습니다(이 모델은 간단한 예제이므로 놀라운 성능을 기대하지 마세요):"
      ]
    },
    {
      "cell_type": "code",
      "metadata": {
        "execution": {
          "iopub.execute_input": "2021-07-04T08:15:49.784955Z",
          "iopub.status.busy": "2021-07-04T08:15:49.783919Z",
          "iopub.status.idle": "2021-07-04T08:15:49.838940Z",
          "shell.execute_reply": "2021-07-04T08:15:49.840327Z"
        },
        "id": "BYcVzaWCJCDM",
        "outputId": "8577d604-67ad-431d-bfbd-280dbfe673b3",
        "colab": {
          "base_uri": "https://localhost:8080/"
        }
      },
      "source": [
        "keras.backend.clear_session()\n",
        "np.random.seed(42)\n",
        "tf.random.set_seed(42)\n",
        "\n",
        "input_A = keras.layers.Input(shape=X_train_scaled_A.shape[-1])\n",
        "input_B = keras.layers.Input(shape=X_train_scaled_B.shape[-1])\n",
        "hidden_A, hidden_B = MyMultiLayer()((input_A, input_B))\n",
        "hidden_A = keras.layers.Dense(30, activation='selu')(hidden_A)\n",
        "hidden_B = keras.layers.Dense(30, activation='selu')(hidden_B)\n",
        "concat = keras.layers.Concatenate()((hidden_A, hidden_B))\n",
        "output = keras.layers.Dense(1)(concat)\n",
        "model = keras.models.Model(inputs=[input_A, input_B], outputs=[output])"
      ],
      "execution_count": 113,
      "outputs": [
        {
          "output_type": "stream",
          "text": [
            "X1.shape:  (None, 4)  X2.shape:  (None, 4)\n"
          ],
          "name": "stdout"
        }
      ]
    },
    {
      "cell_type": "code",
      "metadata": {
        "execution": {
          "iopub.execute_input": "2021-07-04T08:15:49.858386Z",
          "iopub.status.busy": "2021-07-04T08:15:49.856892Z",
          "iopub.status.idle": "2021-07-04T08:15:49.862315Z",
          "shell.execute_reply": "2021-07-04T08:15:49.863304Z"
        },
        "id": "d951VMTQJCDM"
      },
      "source": [
        "model.compile(loss='mse', optimizer='nadam')"
      ],
      "execution_count": 114,
      "outputs": []
    },
    {
      "cell_type": "code",
      "metadata": {
        "execution": {
          "iopub.execute_input": "2021-07-04T08:15:49.870419Z",
          "iopub.status.busy": "2021-07-04T08:15:49.869216Z",
          "iopub.status.idle": "2021-07-04T08:15:54.377789Z",
          "shell.execute_reply": "2021-07-04T08:15:54.378814Z"
        },
        "id": "fICrhz0KJCDM",
        "outputId": "a5a3a795-41ec-47d0-bd65-0ba2e5925e43",
        "colab": {
          "base_uri": "https://localhost:8080/"
        }
      },
      "source": [
        "model.fit((X_train_scaled_A, X_train_scaled_B), y_train, epochs=2,\n",
        "          validation_data=((X_valid_scaled_A, X_valid_scaled_B), y_valid))"
      ],
      "execution_count": 115,
      "outputs": [
        {
          "output_type": "stream",
          "text": [
            "Epoch 1/2\n",
            "X1.shape:  (None, 4)  X2.shape:  (None, 4)\n",
            "X1.shape:  (None, 4)  X2.shape:  (None, 4)\n",
            "362/363 [============================>.] - ETA: 0s - loss: 2.1160X1.shape:  (None, 4)  X2.shape:  (None, 4)\n",
            "363/363 [==============================] - 2s 4ms/step - loss: 2.1142 - val_loss: 1.3630\n",
            "Epoch 2/2\n",
            "363/363 [==============================] - 1s 3ms/step - loss: 0.9684 - val_loss: 0.9773\n"
          ],
          "name": "stdout"
        },
        {
          "output_type": "execute_result",
          "data": {
            "text/plain": [
              "<tensorflow.python.keras.callbacks.History at 0x7f351a670510>"
            ]
          },
          "metadata": {
            "tags": []
          },
          "execution_count": 115
        }
      ]
    },
    {
      "cell_type": "markdown",
      "metadata": {
        "id": "owZu1no8JCDM"
      },
      "source": [
        "훈련과 테스트에서 다르게 동작하는 층을 만들어 보죠:"
      ]
    },
    {
      "cell_type": "code",
      "metadata": {
        "execution": {
          "iopub.execute_input": "2021-07-04T08:15:54.393887Z",
          "iopub.status.busy": "2021-07-04T08:15:54.392577Z",
          "iopub.status.idle": "2021-07-04T08:15:54.396213Z",
          "shell.execute_reply": "2021-07-04T08:15:54.397212Z"
        },
        "id": "SgDlXjktJCDM"
      },
      "source": [
        "class AddGaussianNoise(keras.layers.Layer):\n",
        "    def __init__(self, stddev, **kwargs):\n",
        "        super().__init__(**kwargs)\n",
        "        self.stddev = stddev\n",
        "\n",
        "    def call(self, X, training=None):\n",
        "        if training:\n",
        "            noise = tf.random.normal(tf.shape(X), stddev=self.stddev)\n",
        "            return X + noise\n",
        "        else:\n",
        "            return X\n",
        "\n",
        "    def compute_output_shape(self, batch_input_shape):\n",
        "        return batch_input_shape"
      ],
      "execution_count": 116,
      "outputs": []
    },
    {
      "cell_type": "markdown",
      "metadata": {
        "id": "2MEY6keqJCDM"
      },
      "source": [
        "다음은 사용자 정의 층을 사용하는 간단한 모델입니다:"
      ]
    },
    {
      "cell_type": "code",
      "metadata": {
        "execution": {
          "iopub.execute_input": "2021-07-04T08:15:54.420349Z",
          "iopub.status.busy": "2021-07-04T08:15:54.407706Z",
          "iopub.status.idle": "2021-07-04T08:15:54.426847Z",
          "shell.execute_reply": "2021-07-04T08:15:54.428025Z"
        },
        "id": "y5mTWflkJCDM"
      },
      "source": [
        "keras.backend.clear_session()\n",
        "np.random.seed(42)\n",
        "tf.random.set_seed(42)\n",
        "\n",
        "model = keras.models.Sequential([\n",
        "    AddGaussianNoise(stddev=1.0),\n",
        "    keras.layers.Dense(30, activation=\"selu\"),\n",
        "    keras.layers.Dense(1)\n",
        "])"
      ],
      "execution_count": 117,
      "outputs": []
    },
    {
      "cell_type": "code",
      "metadata": {
        "execution": {
          "iopub.execute_input": "2021-07-04T08:15:54.446870Z",
          "iopub.status.busy": "2021-07-04T08:15:54.445458Z",
          "iopub.status.idle": "2021-07-04T08:15:58.590668Z",
          "shell.execute_reply": "2021-07-04T08:15:58.591605Z"
        },
        "id": "yIWLW5KMJCDN",
        "outputId": "1798381b-e752-434b-e8f5-cccbbca00c5d",
        "colab": {
          "base_uri": "https://localhost:8080/"
        }
      },
      "source": [
        "model.compile(loss=\"mse\", optimizer=\"nadam\")\n",
        "model.fit(X_train_scaled, y_train, epochs=2,\n",
        "          validation_data=(X_valid_scaled, y_valid))\n",
        "model.evaluate(X_test_scaled, y_test)"
      ],
      "execution_count": 118,
      "outputs": [
        {
          "output_type": "stream",
          "text": [
            "Epoch 1/2\n",
            "363/363 [==============================] - 2s 3ms/step - loss: 2.3857 - val_loss: 7.6082\n",
            "Epoch 2/2\n",
            "363/363 [==============================] - 1s 3ms/step - loss: 1.0571 - val_loss: 4.4597\n",
            "162/162 [==============================] - 0s 1ms/step - loss: 0.7560\n"
          ],
          "name": "stdout"
        },
        {
          "output_type": "execute_result",
          "data": {
            "text/plain": [
              "0.7559616565704346"
            ]
          },
          "metadata": {
            "tags": []
          },
          "execution_count": 118
        }
      ]
    },
    {
      "cell_type": "markdown",
      "metadata": {
        "id": "Mjzzw6EpJCDN"
      },
      "source": [
        "## 사용자 정의 모델"
      ]
    },
    {
      "cell_type": "code",
      "metadata": {
        "execution": {
          "iopub.execute_input": "2021-07-04T08:15:58.599593Z",
          "iopub.status.busy": "2021-07-04T08:15:58.598425Z",
          "iopub.status.idle": "2021-07-04T08:15:58.601757Z",
          "shell.execute_reply": "2021-07-04T08:15:58.602628Z"
        },
        "id": "B2KNx9f_JCDN"
      },
      "source": [
        "X_new_scaled = X_test_scaled"
      ],
      "execution_count": 119,
      "outputs": []
    },
    {
      "cell_type": "code",
      "metadata": {
        "execution": {
          "iopub.execute_input": "2021-07-04T08:15:58.616167Z",
          "iopub.status.busy": "2021-07-04T08:15:58.614894Z",
          "iopub.status.idle": "2021-07-04T08:15:58.618458Z",
          "shell.execute_reply": "2021-07-04T08:15:58.619457Z"
        },
        "id": "O4COIQfyJCDN"
      },
      "source": [
        "class ResidualBlock(keras.layers.Layer):\n",
        "    def __init__(self, n_layers, n_neurons, **kwargs):\n",
        "        super().__init__(**kwargs)\n",
        "        self.hidden = [keras.layers.Dense(n_neurons, activation=\"elu\",\n",
        "                                          kernel_initializer=\"he_normal\")\n",
        "                       for _ in range(n_layers)]\n",
        "\n",
        "    def call(self, inputs):\n",
        "        Z = inputs\n",
        "        for layer in self.hidden:\n",
        "            Z = layer(Z) # 함수형 api는 층(입력) 으로 한다.\n",
        "        return inputs + Z # 여기가 입력과 출력을 더한 곳이다."
      ],
      "execution_count": 120,
      "outputs": []
    },
    {
      "cell_type": "code",
      "metadata": {
        "execution": {
          "iopub.execute_input": "2021-07-04T08:15:58.635663Z",
          "iopub.status.busy": "2021-07-04T08:15:58.634461Z",
          "iopub.status.idle": "2021-07-04T08:15:58.637358Z",
          "shell.execute_reply": "2021-07-04T08:15:58.638363Z"
        },
        "id": "mi8M6G8YJCDN"
      },
      "source": [
        "class ResidualRegressor(keras.models.Model):\n",
        "    def __init__(self, output_dim, **kwargs):\n",
        "        super().__init__(**kwargs)\n",
        "        self.hidden1 = keras.layers.Dense(30, activation=\"elu\",\n",
        "                                          kernel_initializer=\"he_normal\")\n",
        "        self.block1 = ResidualBlock(2, 30)\n",
        "        self.block2 = ResidualBlock(2, 30)\n",
        "        self.out = keras.layers.Dense(output_dim)\n",
        "\n",
        "    def call(self, inputs):\n",
        "        Z = self.hidden1(inputs)\n",
        "        for _ in range(1 + 3): # 왜 1+3이지...?\n",
        "            Z = self.block1(Z)\n",
        "        Z = self.block2(Z)\n",
        "        return self.out(Z)"
      ],
      "execution_count": 121,
      "outputs": []
    },
    {
      "cell_type": "code",
      "metadata": {
        "execution": {
          "iopub.execute_input": "2021-07-04T08:15:58.645468Z",
          "iopub.status.busy": "2021-07-04T08:15:58.644301Z",
          "iopub.status.idle": "2021-07-04T08:15:58.653372Z",
          "shell.execute_reply": "2021-07-04T08:15:58.654158Z"
        },
        "id": "J4RkyKSMJCDN"
      },
      "source": [
        "keras.backend.clear_session()\n",
        "np.random.seed(42)\n",
        "tf.random.set_seed(42)"
      ],
      "execution_count": 122,
      "outputs": []
    },
    {
      "cell_type": "code",
      "metadata": {
        "execution": {
          "iopub.execute_input": "2021-07-04T08:15:58.666308Z",
          "iopub.status.busy": "2021-07-04T08:15:58.665238Z",
          "iopub.status.idle": "2021-07-04T08:16:14.531553Z",
          "shell.execute_reply": "2021-07-04T08:16:14.532718Z"
        },
        "id": "FaA2-ClVJCDN",
        "outputId": "c23e527f-243e-43e7-ea91-2b94aa2f29dd",
        "colab": {
          "base_uri": "https://localhost:8080/"
        }
      },
      "source": [
        "model = ResidualRegressor(1)\n",
        "model.compile(loss=\"mse\", optimizer=\"nadam\")\n",
        "history = model.fit(X_train_scaled, y_train, epochs=5)\n",
        "score = model.evaluate(X_test_scaled, y_test)\n",
        "y_pred = model.predict(X_new_scaled)"
      ],
      "execution_count": 123,
      "outputs": [
        {
          "output_type": "stream",
          "text": [
            "Epoch 1/5\n",
            "363/363 [==============================] - 3s 4ms/step - loss: 9.1325\n",
            "Epoch 2/5\n",
            "363/363 [==============================] - 2s 4ms/step - loss: 1.0579\n",
            "Epoch 3/5\n",
            "363/363 [==============================] - 1s 4ms/step - loss: 0.8869\n",
            "Epoch 4/5\n",
            "363/363 [==============================] - 1s 4ms/step - loss: 0.5833\n",
            "Epoch 5/5\n",
            "363/363 [==============================] - 1s 4ms/step - loss: 0.6460\n",
            "162/162 [==============================] - 0s 2ms/step - loss: 0.6507\n"
          ],
          "name": "stdout"
        }
      ]
    },
    {
      "cell_type": "code",
      "metadata": {
        "execution": {
          "iopub.execute_input": "2021-07-04T08:16:14.544665Z",
          "iopub.status.busy": "2021-07-04T08:16:14.543467Z",
          "iopub.status.idle": "2021-07-04T08:16:15.547522Z",
          "shell.execute_reply": "2021-07-04T08:16:15.548926Z"
        },
        "id": "0fgBETgRJCDN",
        "outputId": "92d54d40-790f-4933-c472-819f8f9e1160",
        "colab": {
          "base_uri": "https://localhost:8080/"
        }
      },
      "source": [
        "model.save(\"my_custom_model.ckpt\")"
      ],
      "execution_count": 124,
      "outputs": [
        {
          "output_type": "stream",
          "text": [
            "WARNING:absl:Found untraced functions such as dense_1_layer_call_and_return_conditional_losses, dense_1_layer_call_fn, dense_2_layer_call_and_return_conditional_losses, dense_2_layer_call_fn, dense_3_layer_call_and_return_conditional_losses while saving (showing 5 of 20). These functions will not be directly callable after loading.\n"
          ],
          "name": "stderr"
        },
        {
          "output_type": "stream",
          "text": [
            "INFO:tensorflow:Assets written to: my_custom_model.ckpt/assets\n"
          ],
          "name": "stdout"
        },
        {
          "output_type": "stream",
          "text": [
            "INFO:tensorflow:Assets written to: my_custom_model.ckpt/assets\n"
          ],
          "name": "stderr"
        }
      ]
    },
    {
      "cell_type": "code",
      "metadata": {
        "execution": {
          "iopub.execute_input": "2021-07-04T08:16:15.556474Z",
          "iopub.status.busy": "2021-07-04T08:16:15.555185Z",
          "iopub.status.idle": "2021-07-04T08:16:16.173104Z",
          "shell.execute_reply": "2021-07-04T08:16:16.171956Z"
        },
        "id": "OL3Un80oJCDN"
      },
      "source": [
        "model = keras.models.load_model(\"my_custom_model.ckpt\")"
      ],
      "execution_count": 125,
      "outputs": []
    },
    {
      "cell_type": "code",
      "metadata": {
        "execution": {
          "iopub.execute_input": "2021-07-04T08:16:16.182435Z",
          "iopub.status.busy": "2021-07-04T08:16:16.180781Z",
          "iopub.status.idle": "2021-07-04T08:16:30.488212Z",
          "shell.execute_reply": "2021-07-04T08:16:30.487051Z"
        },
        "id": "YF_XfGKiJCDN",
        "outputId": "e3ea642f-a1df-44c5-f590-7ecb887e922a",
        "colab": {
          "base_uri": "https://localhost:8080/"
        }
      },
      "source": [
        "history = model.fit(X_train_scaled, y_train, epochs=5)"
      ],
      "execution_count": 126,
      "outputs": [
        {
          "output_type": "stream",
          "text": [
            "Epoch 1/5\n",
            "363/363 [==============================] - 2s 4ms/step - loss: 0.8025\n",
            "Epoch 2/5\n",
            "363/363 [==============================] - 1s 4ms/step - loss: 0.5474\n",
            "Epoch 3/5\n",
            "363/363 [==============================] - 1s 4ms/step - loss: 0.4790\n",
            "Epoch 4/5\n",
            "363/363 [==============================] - 1s 4ms/step - loss: 0.4892\n",
            "Epoch 5/5\n",
            "363/363 [==============================] - 2s 4ms/step - loss: 0.5542\n"
          ],
          "name": "stdout"
        }
      ]
    },
    {
      "cell_type": "markdown",
      "metadata": {
        "id": "AwAx_gVvJCDO"
      },
      "source": [
        "대신 시퀀셜 API를 사용하는 모델을 정의할 수 있습니다:"
      ]
    },
    {
      "cell_type": "code",
      "metadata": {
        "execution": {
          "iopub.execute_input": "2021-07-04T08:16:30.499599Z",
          "iopub.status.busy": "2021-07-04T08:16:30.498333Z",
          "iopub.status.idle": "2021-07-04T08:16:30.521900Z",
          "shell.execute_reply": "2021-07-04T08:16:30.522906Z"
        },
        "id": "ddBFcOj6JCDO"
      },
      "source": [
        "keras.backend.clear_session()\n",
        "np.random.seed(42)\n",
        "tf.random.set_seed(42)"
      ],
      "execution_count": 127,
      "outputs": []
    },
    {
      "cell_type": "code",
      "metadata": {
        "execution": {
          "iopub.execute_input": "2021-07-04T08:16:30.547691Z",
          "iopub.status.busy": "2021-07-04T08:16:30.546181Z",
          "iopub.status.idle": "2021-07-04T08:16:30.554408Z",
          "shell.execute_reply": "2021-07-04T08:16:30.553132Z"
        },
        "id": "GLBSX880JCDO"
      },
      "source": [
        "block1 = ResidualBlock(2, 30)\n",
        "model = keras.models.Sequential([\n",
        "    keras.layers.Dense(30, activation=\"elu\", kernel_initializer=\"he_normal\"),\n",
        "    block1, block1, block1, block1,\n",
        "    ResidualBlock(2, 30),\n",
        "    keras.layers.Dense(1)\n",
        "])"
      ],
      "execution_count": 128,
      "outputs": []
    },
    {
      "cell_type": "code",
      "metadata": {
        "execution": {
          "iopub.execute_input": "2021-07-04T08:16:30.573271Z",
          "iopub.status.busy": "2021-07-04T08:16:30.572301Z",
          "iopub.status.idle": "2021-07-04T08:16:44.015874Z",
          "shell.execute_reply": "2021-07-04T08:16:44.017074Z"
        },
        "id": "v_IxYAUlJCDO",
        "outputId": "cfb2ea85-5d7f-4d39-d153-bbcc67c24798",
        "colab": {
          "base_uri": "https://localhost:8080/"
        }
      },
      "source": [
        "model.compile(loss=\"mse\", optimizer=\"nadam\")\n",
        "history = model.fit(X_train_scaled, y_train, epochs=5)\n",
        "score = model.evaluate(X_test_scaled, y_test)\n",
        "y_pred = model.predict(X_new_scaled)"
      ],
      "execution_count": 129,
      "outputs": [
        {
          "output_type": "stream",
          "text": [
            "Epoch 1/5\n",
            "363/363 [==============================] - 2s 4ms/step - loss: 0.8695\n",
            "Epoch 2/5\n",
            "363/363 [==============================] - 1s 4ms/step - loss: 0.4720\n",
            "Epoch 3/5\n",
            "363/363 [==============================] - 1s 4ms/step - loss: 0.5537\n",
            "Epoch 4/5\n",
            "363/363 [==============================] - 1s 4ms/step - loss: 0.3809\n",
            "Epoch 5/5\n",
            "363/363 [==============================] - 1s 4ms/step - loss: 0.4012\n",
            "162/162 [==============================] - 0s 1ms/step - loss: 0.4852\n"
          ],
          "name": "stdout"
        }
      ]
    },
    {
      "cell_type": "markdown",
      "metadata": {
        "id": "YyvfJ8zDJCDO"
      },
      "source": [
        "## 모델 구성 요소에 기반한 손실과 지표"
      ]
    },
    {
      "cell_type": "markdown",
      "metadata": {
        "id": "s1H5X8B9JCDO"
      },
      "source": [
        "**노트**: TF 2.2에 있는 이슈([#46858](https://github.com/tensorflow/tensorflow/issues/46858)) 때문에 `build()` 메서드와 함께 `add_loss()`를 사용할 수 없습니다. 따라서 다음 코드는 책과 다릅니다. `build()` 메서드 대신 생성자에 `reconstruct` 층을 만듭니다. 이 때문에 이 층의 유닛 개수를 하드코딩해야 합니다(또는 생성자 매개변수로 전달해야 합니다)."
      ]
    },
    {
      "cell_type": "code",
      "metadata": {
        "execution": {
          "iopub.execute_input": "2021-07-04T08:16:44.044268Z",
          "iopub.status.busy": "2021-07-04T08:16:44.042711Z",
          "iopub.status.idle": "2021-07-04T08:16:44.045933Z",
          "shell.execute_reply": "2021-07-04T08:16:44.047194Z"
        },
        "id": "H6b661wvJCDO"
      },
      "source": [
        "class ReconstructingRegressor(keras.models.Model):\n",
        "    def __init__(self, output_dim, **kwargs):\n",
        "        super().__init__(**kwargs)\n",
        "        self.hidden = [keras.layers.Dense(30, activation=\"selu\",\n",
        "                                          kernel_initializer=\"lecun_normal\")\n",
        "                       for _ in range(5)]\n",
        "        self.out = keras.layers.Dense(output_dim)\n",
        "        self.reconstruct = keras.layers.Dense(8) # TF 이슈 #46858에 대한 대책\n",
        "        self.reconstruction_mean = keras.metrics.Mean(name=\"reconstruction_error\")\n",
        "\n",
        "#     TF 이슈 #46858 때문에 주석 처리\n",
        "#     def build(self, batch_input_shape):\n",
        "#         n_inputs = batch_input_shape[-1]\n",
        "#         self.reconstruct = keras.layers.Dense(n_inputs, name='recon')\n",
        "#         super().build(batch_input_shape)\n",
        "\n",
        "    def call(self, inputs, training=None):\n",
        "        Z = inputs\n",
        "        for layer in self.hidden:\n",
        "            Z = layer(Z)\n",
        "        reconstruction = self.reconstruct(Z)\n",
        "        self.recon_loss = 0.05 * tf.reduce_mean(tf.square(reconstruction - inputs))\n",
        "        \n",
        "        if training:\n",
        "           result = self.reconstruction_mean(recon_loss)\n",
        "           self.add_metric(result)\n",
        "        return self.out(Z)\n",
        "    \n",
        "    def train_step(self, data):\n",
        "        x, y = data\n",
        "\n",
        "        with tf.GradientTape() as tape:\n",
        "            y_pred = self(x)\n",
        "            loss = self.compiled_loss(y, y_pred, regularization_losses=[self.recon_loss])\n",
        "\n",
        "        gradients = tape.gradient(loss, self.trainable_variables)\n",
        "        self.optimizer.apply_gradients(zip(gradients, self.trainable_variables))\n",
        "\n",
        "        return {m.name: m.result() for m in self.metrics}"
      ],
      "execution_count": 130,
      "outputs": []
    },
    {
      "cell_type": "code",
      "metadata": {
        "execution": {
          "iopub.execute_input": "2021-07-04T08:16:44.062713Z",
          "iopub.status.busy": "2021-07-04T08:16:44.055839Z",
          "iopub.status.idle": "2021-07-04T08:16:44.066069Z",
          "shell.execute_reply": "2021-07-04T08:16:44.066880Z"
        },
        "id": "G4jFqAUVJCDO"
      },
      "source": [
        "keras.backend.clear_session()\n",
        "np.random.seed(42)\n",
        "tf.random.set_seed(42)"
      ],
      "execution_count": 131,
      "outputs": []
    },
    {
      "cell_type": "code",
      "metadata": {
        "execution": {
          "iopub.execute_input": "2021-07-04T08:16:44.079276Z",
          "iopub.status.busy": "2021-07-04T08:16:44.077540Z",
          "iopub.status.idle": "2021-07-04T08:16:51.038448Z",
          "shell.execute_reply": "2021-07-04T08:16:51.039594Z"
        },
        "id": "6potUGdQJCDO",
        "outputId": "e5b26e60-a5f8-46b3-e6de-34c9200ebc91",
        "colab": {
          "base_uri": "https://localhost:8080/"
        }
      },
      "source": [
        "model = ReconstructingRegressor(1)\n",
        "model.compile(loss=\"mse\", optimizer=\"nadam\")\n",
        "history = model.fit(X_train_scaled, y_train, epochs=2)\n",
        "y_pred = model.predict(X_test_scaled)"
      ],
      "execution_count": 132,
      "outputs": [
        {
          "output_type": "stream",
          "text": [
            "Epoch 1/2\n",
            "363/363 [==============================] - 3s 4ms/step - loss: 0.7886 - reconstruction_error: 0.0000e+00\n",
            "Epoch 2/2\n",
            "363/363 [==============================] - 1s 4ms/step - loss: 0.4134 - reconstruction_error: 0.0000e+00\n"
          ],
          "name": "stdout"
        }
      ]
    },
    {
      "cell_type": "markdown",
      "metadata": {
        "id": "3_KxlNlOJCDO"
      },
      "source": [
        "## 자동 미분을 사용하여 그레이디언트 계산하기"
      ]
    },
    {
      "cell_type": "code",
      "metadata": {
        "execution": {
          "iopub.execute_input": "2021-07-04T08:16:51.049280Z",
          "iopub.status.busy": "2021-07-04T08:16:51.047892Z",
          "iopub.status.idle": "2021-07-04T08:16:51.050911Z",
          "shell.execute_reply": "2021-07-04T08:16:51.051795Z"
        },
        "id": "6jxs5V8oJCDP"
      },
      "source": [
        "def f(w1, w2):\n",
        "    return 3 * w1 ** 2 + 2 * w1 * w2"
      ],
      "execution_count": 3,
      "outputs": []
    },
    {
      "cell_type": "code",
      "metadata": {
        "execution": {
          "iopub.execute_input": "2021-07-04T08:16:51.060463Z",
          "iopub.status.busy": "2021-07-04T08:16:51.059412Z",
          "iopub.status.idle": "2021-07-04T08:16:51.064429Z",
          "shell.execute_reply": "2021-07-04T08:16:51.065316Z"
        },
        "id": "nyMg_K9QJCDP",
        "outputId": "c3f1f542-ca67-4683-dd50-cbaf887a514b",
        "colab": {
          "base_uri": "https://localhost:8080/"
        }
      },
      "source": [
        "w1, w2 = 5, 3\n",
        "eps = 1e-6\n",
        "(f(w1 + eps, w2) - f(w1, w2)) / eps"
      ],
      "execution_count": 4,
      "outputs": [
        {
          "output_type": "execute_result",
          "data": {
            "text/plain": [
              "36.000003007075065"
            ]
          },
          "metadata": {
            "tags": []
          },
          "execution_count": 4
        }
      ]
    },
    {
      "cell_type": "code",
      "metadata": {
        "execution": {
          "iopub.execute_input": "2021-07-04T08:16:51.073140Z",
          "iopub.status.busy": "2021-07-04T08:16:51.072105Z",
          "iopub.status.idle": "2021-07-04T08:16:51.076959Z",
          "shell.execute_reply": "2021-07-04T08:16:51.077915Z"
        },
        "id": "huZp8xp9JCDP",
        "outputId": "5174520f-be57-4538-d54c-2841e740a976",
        "colab": {
          "base_uri": "https://localhost:8080/"
        }
      },
      "source": [
        "(f(w1, w2 + eps) - f(w1, w2)) / eps"
      ],
      "execution_count": 5,
      "outputs": [
        {
          "output_type": "execute_result",
          "data": {
            "text/plain": [
              "10.000000003174137"
            ]
          },
          "metadata": {
            "tags": []
          },
          "execution_count": 5
        }
      ]
    },
    {
      "cell_type": "code",
      "metadata": {
        "execution": {
          "iopub.execute_input": "2021-07-04T08:16:51.088035Z",
          "iopub.status.busy": "2021-07-04T08:16:51.086885Z",
          "iopub.status.idle": "2021-07-04T08:16:51.094155Z",
          "shell.execute_reply": "2021-07-04T08:16:51.095031Z"
        },
        "id": "32Mi5TubJCDP"
      },
      "source": [
        "w1, w2 = tf.Variable(5.), tf.Variable(3.)\n",
        "with tf.GradientTape() as tape:\n",
        "    z = f(w1, w2)\n",
        "\n",
        "gradients = tape.gradient(z, [w1, w2])"
      ],
      "execution_count": 6,
      "outputs": []
    },
    {
      "cell_type": "code",
      "metadata": {
        "execution": {
          "iopub.execute_input": "2021-07-04T08:16:51.101660Z",
          "iopub.status.busy": "2021-07-04T08:16:51.100543Z",
          "iopub.status.idle": "2021-07-04T08:16:51.105890Z",
          "shell.execute_reply": "2021-07-04T08:16:51.106765Z"
        },
        "id": "W_cImta1JCDP",
        "outputId": "76fb98ae-11c4-491d-ffb6-fd11231a01be",
        "colab": {
          "base_uri": "https://localhost:8080/"
        }
      },
      "source": [
        "gradients"
      ],
      "execution_count": 7,
      "outputs": [
        {
          "output_type": "execute_result",
          "data": {
            "text/plain": [
              "[<tf.Tensor: shape=(), dtype=float32, numpy=36.0>,\n",
              " <tf.Tensor: shape=(), dtype=float32, numpy=10.0>]"
            ]
          },
          "metadata": {
            "tags": []
          },
          "execution_count": 7
        }
      ]
    },
    {
      "cell_type": "code",
      "metadata": {
        "execution": {
          "iopub.execute_input": "2021-07-04T08:16:51.116638Z",
          "iopub.status.busy": "2021-07-04T08:16:51.115509Z",
          "iopub.status.idle": "2021-07-04T08:16:51.122370Z",
          "shell.execute_reply": "2021-07-04T08:16:51.123249Z"
        },
        "scrolled": true,
        "id": "NGHoudLHJCDP",
        "outputId": "17de67ae-909a-4793-fcd8-c3867537c5c4",
        "colab": {
          "base_uri": "https://localhost:8080/"
        }
      },
      "source": [
        "with tf.GradientTape() as tape:\n",
        "    z = f(w1, w2)\n",
        "\n",
        "dz_dw1 = tape.gradient(z, w1)\n",
        "try:\n",
        "    dz_dw2 = tape.gradient(z, w2)\n",
        "except RuntimeError as ex:\n",
        "    print(ex)"
      ],
      "execution_count": 8,
      "outputs": [
        {
          "output_type": "stream",
          "text": [
            "A non-persistent GradientTape can only be used to compute one set of gradients (or jacobians)\n"
          ],
          "name": "stdout"
        }
      ]
    },
    {
      "cell_type": "code",
      "metadata": {
        "execution": {
          "iopub.execute_input": "2021-07-04T08:16:51.132420Z",
          "iopub.status.busy": "2021-07-04T08:16:51.131290Z",
          "iopub.status.idle": "2021-07-04T08:16:51.138370Z",
          "shell.execute_reply": "2021-07-04T08:16:51.139248Z"
        },
        "id": "LT6GZAMRJCDP"
      },
      "source": [
        "with tf.GradientTape(persistent=True) as tape:\n",
        "    z = f(w1, w2)\n",
        "\n",
        "dz_dw1 = tape.gradient(z, w1)\n",
        "dz_dw2 = tape.gradient(z, w2) # works now!\n",
        "del tape"
      ],
      "execution_count": 9,
      "outputs": []
    },
    {
      "cell_type": "code",
      "metadata": {
        "execution": {
          "iopub.execute_input": "2021-07-04T08:16:51.146434Z",
          "iopub.status.busy": "2021-07-04T08:16:51.145227Z",
          "iopub.status.idle": "2021-07-04T08:16:51.151796Z",
          "shell.execute_reply": "2021-07-04T08:16:51.150789Z"
        },
        "id": "yJFfIJ0_JCDP",
        "outputId": "146cb858-4a70-4787-b44b-cfc579babb66",
        "colab": {
          "base_uri": "https://localhost:8080/"
        }
      },
      "source": [
        "dz_dw1, dz_dw2"
      ],
      "execution_count": 10,
      "outputs": [
        {
          "output_type": "execute_result",
          "data": {
            "text/plain": [
              "(<tf.Tensor: shape=(), dtype=float32, numpy=36.0>,\n",
              " <tf.Tensor: shape=(), dtype=float32, numpy=10.0>)"
            ]
          },
          "metadata": {
            "tags": []
          },
          "execution_count": 10
        }
      ]
    },
    {
      "cell_type": "code",
      "metadata": {
        "execution": {
          "iopub.execute_input": "2021-07-04T08:16:51.161659Z",
          "iopub.status.busy": "2021-07-04T08:16:51.160458Z",
          "iopub.status.idle": "2021-07-04T08:16:51.164923Z",
          "shell.execute_reply": "2021-07-04T08:16:51.165762Z"
        },
        "id": "VIWwUEbpJCDP"
      },
      "source": [
        "c1, c2 = tf.constant(5.), tf.constant(3.)\n",
        "with tf.GradientTape() as tape:\n",
        "    z = f(c1, c2)\n",
        "\n",
        "gradients = tape.gradient(z, [c1, c2])"
      ],
      "execution_count": 11,
      "outputs": []
    },
    {
      "cell_type": "code",
      "metadata": {
        "execution": {
          "iopub.execute_input": "2021-07-04T08:16:51.172964Z",
          "iopub.status.busy": "2021-07-04T08:16:51.171909Z",
          "iopub.status.idle": "2021-07-04T08:16:51.176687Z",
          "shell.execute_reply": "2021-07-04T08:16:51.177570Z"
        },
        "id": "x40c3MAwJCDP",
        "outputId": "d3651bcf-d42a-4fce-847e-e0ffd426c6d7",
        "colab": {
          "base_uri": "https://localhost:8080/"
        }
      },
      "source": [
        "gradients"
      ],
      "execution_count": 12,
      "outputs": [
        {
          "output_type": "execute_result",
          "data": {
            "text/plain": [
              "[None, None]"
            ]
          },
          "metadata": {
            "tags": []
          },
          "execution_count": 12
        }
      ]
    },
    {
      "cell_type": "code",
      "metadata": {
        "execution": {
          "iopub.execute_input": "2021-07-04T08:16:51.186564Z",
          "iopub.status.busy": "2021-07-04T08:16:51.185398Z",
          "iopub.status.idle": "2021-07-04T08:16:51.191128Z",
          "shell.execute_reply": "2021-07-04T08:16:51.192003Z"
        },
        "id": "7jwF4iVVJCDP"
      },
      "source": [
        "with tf.GradientTape() as tape:\n",
        "    tape.watch(c1)\n",
        "    tape.watch(c2)\n",
        "    z = f(c1, c2)\n",
        "\n",
        "gradients = tape.gradient(z, [c1, c2])"
      ],
      "execution_count": 13,
      "outputs": []
    },
    {
      "cell_type": "code",
      "metadata": {
        "execution": {
          "iopub.execute_input": "2021-07-04T08:16:51.199435Z",
          "iopub.status.busy": "2021-07-04T08:16:51.198312Z",
          "iopub.status.idle": "2021-07-04T08:16:51.203980Z",
          "shell.execute_reply": "2021-07-04T08:16:51.204859Z"
        },
        "id": "YCjYPVG7JCDP",
        "outputId": "681030e5-08d3-4393-c0ee-9d9cba7a4dc9",
        "colab": {
          "base_uri": "https://localhost:8080/"
        }
      },
      "source": [
        "gradients"
      ],
      "execution_count": 14,
      "outputs": [
        {
          "output_type": "execute_result",
          "data": {
            "text/plain": [
              "[<tf.Tensor: shape=(), dtype=float32, numpy=36.0>,\n",
              " <tf.Tensor: shape=(), dtype=float32, numpy=10.0>]"
            ]
          },
          "metadata": {
            "tags": []
          },
          "execution_count": 14
        }
      ]
    },
    {
      "cell_type": "code",
      "metadata": {
        "execution": {
          "iopub.execute_input": "2021-07-04T08:16:51.214904Z",
          "iopub.status.busy": "2021-07-04T08:16:51.213767Z",
          "iopub.status.idle": "2021-07-04T08:16:51.224864Z",
          "shell.execute_reply": "2021-07-04T08:16:51.225789Z"
        },
        "id": "3SmzPoBaJCDP",
        "outputId": "29aad6ff-e807-445c-bc9a-520fb3a9987e",
        "colab": {
          "base_uri": "https://localhost:8080/"
        }
      },
      "source": [
        "with tf.GradientTape() as tape:\n",
        "    z1 = f(w1, w2 + 2.)\n",
        "    z2 = f(w1, w2 + 5.)\n",
        "    z3 = f(w1, w2 + 7.)\n",
        "\n",
        "tape.gradient([z1, z2, z3], [w1, w2])"
      ],
      "execution_count": 15,
      "outputs": [
        {
          "output_type": "execute_result",
          "data": {
            "text/plain": [
              "[<tf.Tensor: shape=(), dtype=float32, numpy=136.0>,\n",
              " <tf.Tensor: shape=(), dtype=float32, numpy=30.0>]"
            ]
          },
          "metadata": {
            "tags": []
          },
          "execution_count": 15
        }
      ]
    },
    {
      "cell_type": "code",
      "metadata": {
        "execution": {
          "iopub.execute_input": "2021-07-04T08:16:51.235927Z",
          "iopub.status.busy": "2021-07-04T08:16:51.234807Z",
          "iopub.status.idle": "2021-07-04T08:16:51.244752Z",
          "shell.execute_reply": "2021-07-04T08:16:51.245705Z"
        },
        "id": "6q6ANmqaJCDQ"
      },
      "source": [
        "with tf.GradientTape(persistent=True) as tape:\n",
        "    z1 = f(w1, w2 + 2.)\n",
        "    z2 = f(w1, w2 + 5.)\n",
        "    z3 = f(w1, w2 + 7.)\n",
        "\n",
        "tf.reduce_sum(tf.stack([tape.gradient(z, [w1, w2]) for z in (z1, z2, z3)]), axis=0)\n",
        "del tape"
      ],
      "execution_count": 16,
      "outputs": []
    },
    {
      "cell_type": "code",
      "metadata": {
        "execution": {
          "iopub.execute_input": "2021-07-04T08:16:51.256243Z",
          "iopub.status.busy": "2021-07-04T08:16:51.255046Z",
          "iopub.status.idle": "2021-07-04T08:16:51.262017Z",
          "shell.execute_reply": "2021-07-04T08:16:51.263038Z"
        },
        "id": "jiy55cxCJCDQ"
      },
      "source": [
        "with tf.GradientTape(persistent=True) as hessian_tape:\n",
        "    with tf.GradientTape() as jacobian_tape:\n",
        "        z = f(w1, w2)\n",
        "    jacobians = jacobian_tape.gradient(z, [w1, w2])\n",
        "hessians = [hessian_tape.gradient(jacobian, [w1, w2])\n",
        "            for jacobian in jacobians]\n",
        "del hessian_tape"
      ],
      "execution_count": 17,
      "outputs": []
    },
    {
      "cell_type": "code",
      "metadata": {
        "execution": {
          "iopub.execute_input": "2021-07-04T08:16:51.270264Z",
          "iopub.status.busy": "2021-07-04T08:16:51.268958Z",
          "iopub.status.idle": "2021-07-04T08:16:51.273742Z",
          "shell.execute_reply": "2021-07-04T08:16:51.274587Z"
        },
        "id": "Ghud3Ac1JCDQ",
        "outputId": "2ef1bf78-d11e-4958-e33c-db44a58dc739",
        "colab": {
          "base_uri": "https://localhost:8080/"
        }
      },
      "source": [
        "jacobians"
      ],
      "execution_count": 18,
      "outputs": [
        {
          "output_type": "execute_result",
          "data": {
            "text/plain": [
              "[<tf.Tensor: shape=(), dtype=float32, numpy=36.0>,\n",
              " <tf.Tensor: shape=(), dtype=float32, numpy=10.0>]"
            ]
          },
          "metadata": {
            "tags": []
          },
          "execution_count": 18
        }
      ]
    },
    {
      "cell_type": "code",
      "metadata": {
        "execution": {
          "iopub.execute_input": "2021-07-04T08:16:51.281023Z",
          "iopub.status.busy": "2021-07-04T08:16:51.279999Z",
          "iopub.status.idle": "2021-07-04T08:16:51.286261Z",
          "shell.execute_reply": "2021-07-04T08:16:51.287093Z"
        },
        "id": "ysjJh40TJCDQ",
        "outputId": "56fd856d-8225-4ea8-c9c8-1d397072ae27",
        "colab": {
          "base_uri": "https://localhost:8080/"
        }
      },
      "source": [
        "hessians"
      ],
      "execution_count": 19,
      "outputs": [
        {
          "output_type": "execute_result",
          "data": {
            "text/plain": [
              "[[<tf.Tensor: shape=(), dtype=float32, numpy=6.0>,\n",
              "  <tf.Tensor: shape=(), dtype=float32, numpy=2.0>],\n",
              " [<tf.Tensor: shape=(), dtype=float32, numpy=2.0>, None]]"
            ]
          },
          "metadata": {
            "tags": []
          },
          "execution_count": 19
        }
      ]
    },
    {
      "cell_type": "code",
      "metadata": {
        "execution": {
          "iopub.execute_input": "2021-07-04T08:16:51.296820Z",
          "iopub.status.busy": "2021-07-04T08:16:51.295762Z",
          "iopub.status.idle": "2021-07-04T08:16:51.303440Z",
          "shell.execute_reply": "2021-07-04T08:16:51.304381Z"
        },
        "id": "yZZIpwOoJCDQ",
        "outputId": "6f48864c-3c86-41f0-fb3f-c181fd99f7ab",
        "colab": {
          "base_uri": "https://localhost:8080/"
        }
      },
      "source": [
        "def f(w1, w2):\n",
        "    return 3 * w1 ** 2 + tf.stop_gradient(2 * w1 * w2)\n",
        "\n",
        "with tf.GradientTape() as tape:\n",
        "    z = f(w1, w2)\n",
        "\n",
        "tape.gradient(z, [w1, w2])"
      ],
      "execution_count": 20,
      "outputs": [
        {
          "output_type": "execute_result",
          "data": {
            "text/plain": [
              "[<tf.Tensor: shape=(), dtype=float32, numpy=30.0>, None]"
            ]
          },
          "metadata": {
            "tags": []
          },
          "execution_count": 20
        }
      ]
    },
    {
      "cell_type": "code",
      "metadata": {
        "execution": {
          "iopub.execute_input": "2021-07-04T08:16:51.313255Z",
          "iopub.status.busy": "2021-07-04T08:16:51.312065Z",
          "iopub.status.idle": "2021-07-04T08:16:51.319779Z",
          "shell.execute_reply": "2021-07-04T08:16:51.320650Z"
        },
        "id": "m_i0X1H4JCDQ",
        "outputId": "dcf346b3-6474-4da4-cb05-06f6c6b1e6bd",
        "colab": {
          "base_uri": "https://localhost:8080/"
        }
      },
      "source": [
        "x = tf.Variable(100.)\n",
        "with tf.GradientTape() as tape:\n",
        "    z = my_softplus(x)\n",
        "\n",
        "tape.gradient(z, [x])"
      ],
      "execution_count": 23,
      "outputs": [
        {
          "output_type": "execute_result",
          "data": {
            "text/plain": [
              "[<tf.Tensor: shape=(), dtype=float32, numpy=nan>]"
            ]
          },
          "metadata": {
            "tags": []
          },
          "execution_count": 23
        }
      ]
    },
    {
      "cell_type": "code",
      "metadata": {
        "execution": {
          "iopub.execute_input": "2021-07-04T08:16:51.328636Z",
          "iopub.status.busy": "2021-07-04T08:16:51.327510Z",
          "iopub.status.idle": "2021-07-04T08:16:51.333810Z",
          "shell.execute_reply": "2021-07-04T08:16:51.334689Z"
        },
        "id": "UH4R7JohJCDQ",
        "outputId": "73f1cffc-05f2-4f5b-8611-f985922b9a8b",
        "colab": {
          "base_uri": "https://localhost:8080/"
        }
      },
      "source": [
        "tf.math.log(tf.exp(tf.constant(30., dtype=tf.float32)) + 1.)"
      ],
      "execution_count": 24,
      "outputs": [
        {
          "output_type": "execute_result",
          "data": {
            "text/plain": [
              "<tf.Tensor: shape=(), dtype=float32, numpy=30.0>"
            ]
          },
          "metadata": {
            "tags": []
          },
          "execution_count": 24
        }
      ]
    },
    {
      "cell_type": "code",
      "metadata": {
        "execution": {
          "iopub.execute_input": "2021-07-04T08:16:51.343670Z",
          "iopub.status.busy": "2021-07-04T08:16:51.342529Z",
          "iopub.status.idle": "2021-07-04T08:16:51.351679Z",
          "shell.execute_reply": "2021-07-04T08:16:51.352632Z"
        },
        "id": "bZe-zcDmJCDQ",
        "outputId": "48f4e4b9-0f39-48cd-bf90-99750848174c",
        "colab": {
          "base_uri": "https://localhost:8080/"
        }
      },
      "source": [
        "x = tf.Variable([100.])\n",
        "with tf.GradientTape() as tape:\n",
        "    z = my_softplus(x)\n",
        "\n",
        "tape.gradient(z, [x])"
      ],
      "execution_count": 25,
      "outputs": [
        {
          "output_type": "execute_result",
          "data": {
            "text/plain": [
              "[<tf.Tensor: shape=(1,), dtype=float32, numpy=array([nan], dtype=float32)>]"
            ]
          },
          "metadata": {
            "tags": []
          },
          "execution_count": 25
        }
      ]
    },
    {
      "cell_type": "code",
      "metadata": {
        "execution": {
          "iopub.execute_input": "2021-07-04T08:16:51.364281Z",
          "iopub.status.busy": "2021-07-04T08:16:51.363154Z",
          "iopub.status.idle": "2021-07-04T08:16:51.367261Z",
          "shell.execute_reply": "2021-07-04T08:16:51.368341Z"
        },
        "id": "hR0qOR7HJCDQ"
      },
      "source": [
        "@tf.custom_gradient # 데코레이터 https://dojang.io/mod/page/view.php?id=2427\n",
        "def my_better_softplus(z):\n",
        "    exp = tf.exp(z)\n",
        "    def my_softplus_gradients(grad):\n",
        "        return grad / (1 + 1 / exp)\n",
        "    return tf.math.log(exp + 1), my_softplus_gradients"
      ],
      "execution_count": 26,
      "outputs": []
    },
    {
      "cell_type": "code",
      "metadata": {
        "execution": {
          "iopub.execute_input": "2021-07-04T08:16:51.378090Z",
          "iopub.status.busy": "2021-07-04T08:16:51.376652Z",
          "iopub.status.idle": "2021-07-04T08:16:51.379875Z",
          "shell.execute_reply": "2021-07-04T08:16:51.380804Z"
        },
        "id": "c17K0vwTJCDQ"
      },
      "source": [
        "def my_better_softplus(z):\n",
        "    return tf.where(z > 30., z, tf.math.log(tf.exp(z) + 1.))"
      ],
      "execution_count": 27,
      "outputs": []
    },
    {
      "cell_type": "code",
      "metadata": {
        "execution": {
          "iopub.execute_input": "2021-07-04T08:16:51.389760Z",
          "iopub.status.busy": "2021-07-04T08:16:51.388584Z",
          "iopub.status.idle": "2021-07-04T08:16:51.403887Z",
          "shell.execute_reply": "2021-07-04T08:16:51.402464Z"
        },
        "id": "BWh8ofuvJCDQ",
        "outputId": "73f323bc-ca47-4879-9094-f1aa6524fcc7",
        "colab": {
          "base_uri": "https://localhost:8080/"
        }
      },
      "source": [
        "x = tf.Variable([1000.])\n",
        "with tf.GradientTape() as tape:\n",
        "    z = my_better_softplus(x)\n",
        "\n",
        "z, tape.gradient(z, [x])"
      ],
      "execution_count": 28,
      "outputs": [
        {
          "output_type": "execute_result",
          "data": {
            "text/plain": [
              "(<tf.Tensor: shape=(1,), dtype=float32, numpy=array([1000.], dtype=float32)>,\n",
              " [<tf.Tensor: shape=(1,), dtype=float32, numpy=array([nan], dtype=float32)>])"
            ]
          },
          "metadata": {
            "tags": []
          },
          "execution_count": 28
        }
      ]
    },
    {
      "cell_type": "markdown",
      "metadata": {
        "id": "OXZ3YzA6JCDQ"
      },
      "source": [
        "# 사용자 정의 훈련 반복"
      ]
    },
    {
      "cell_type": "code",
      "metadata": {
        "execution": {
          "iopub.execute_input": "2021-07-04T08:16:51.412781Z",
          "iopub.status.busy": "2021-07-04T08:16:51.411671Z",
          "iopub.status.idle": "2021-07-04T08:16:51.424600Z",
          "shell.execute_reply": "2021-07-04T08:16:51.425708Z"
        },
        "id": "FU9ikWtQJCDQ"
      },
      "source": [
        "keras.backend.clear_session()\n",
        "np.random.seed(42)\n",
        "tf.random.set_seed(42)"
      ],
      "execution_count": 29,
      "outputs": []
    },
    {
      "cell_type": "code",
      "metadata": {
        "execution": {
          "iopub.execute_input": "2021-07-04T08:16:51.446035Z",
          "iopub.status.busy": "2021-07-04T08:16:51.444592Z",
          "iopub.status.idle": "2021-07-04T08:16:51.450062Z",
          "shell.execute_reply": "2021-07-04T08:16:51.451073Z"
        },
        "id": "QuWNfB-qJCDQ"
      },
      "source": [
        "l2_reg = keras.regularizers.l2(0.05)\n",
        "model = keras.models.Sequential([\n",
        "    keras.layers.Dense(30, activation=\"elu\", kernel_initializer=\"he_normal\",\n",
        "                       kernel_regularizer=l2_reg),\n",
        "    keras.layers.Dense(1, kernel_regularizer=l2_reg)\n",
        "])"
      ],
      "execution_count": 30,
      "outputs": []
    },
    {
      "cell_type": "code",
      "metadata": {
        "execution": {
          "iopub.execute_input": "2021-07-04T08:16:51.459636Z",
          "iopub.status.busy": "2021-07-04T08:16:51.458431Z",
          "iopub.status.idle": "2021-07-04T08:16:51.462294Z",
          "shell.execute_reply": "2021-07-04T08:16:51.463223Z"
        },
        "id": "02sWeTuvJCDR"
      },
      "source": [
        "def random_batch(X, y, batch_size=32):\n",
        "    idx = np.random.randint(len(X), size=batch_size)\n",
        "    return X[idx], y[idx]"
      ],
      "execution_count": 31,
      "outputs": []
    },
    {
      "cell_type": "code",
      "metadata": {
        "execution": {
          "iopub.execute_input": "2021-07-04T08:16:51.475177Z",
          "iopub.status.busy": "2021-07-04T08:16:51.474083Z",
          "iopub.status.idle": "2021-07-04T08:16:51.477820Z",
          "shell.execute_reply": "2021-07-04T08:16:51.478652Z"
        },
        "id": "lomRcyXQJCDR"
      },
      "source": [
        "def print_status_bar(iteration, total, loss, metrics=None):\n",
        "    metrics = \" - \".join([\"{}: {:.4f}\".format(m.name, m.result())\n",
        "                         for m in [loss] + (metrics or [])])\n",
        "    end = \"\" if iteration < total else \"\\n\"\n",
        "    print(\"\\r{}/{} - \".format(iteration, total) + metrics,\n",
        "          end=end)"
      ],
      "execution_count": 32,
      "outputs": []
    },
    {
      "cell_type": "code",
      "metadata": {
        "execution": {
          "iopub.execute_input": "2021-07-04T08:16:51.499573Z",
          "iopub.status.busy": "2021-07-04T08:16:51.498167Z",
          "iopub.status.idle": "2021-07-04T08:16:54.379440Z",
          "shell.execute_reply": "2021-07-04T08:16:54.380763Z"
        },
        "id": "x9J6wksFJCDR",
        "outputId": "6b5b8fb4-f294-42f1-d4ce-cc59da01e34d",
        "colab": {
          "base_uri": "https://localhost:8080/"
        }
      },
      "source": [
        "import time\n",
        "\n",
        "mean_loss = keras.metrics.Mean(name=\"loss\")\n",
        "mean_square = keras.metrics.Mean(name=\"mean_square\")\n",
        "for i in range(1, 50 + 1):\n",
        "    loss = 1 / i\n",
        "    mean_loss(loss)\n",
        "    mean_square(i ** 2)\n",
        "    print_status_bar(i, 50, mean_loss, [mean_square])\n",
        "    time.sleep(0.05)"
      ],
      "execution_count": 33,
      "outputs": [
        {
          "output_type": "stream",
          "text": [
            "50/50 - loss: 0.0900 - mean_square: 858.5000\n"
          ],
          "name": "stdout"
        }
      ]
    },
    {
      "cell_type": "markdown",
      "metadata": {
        "id": "MIGQGSLvJCDR"
      },
      "source": [
        "A fancier version with a progress bar:"
      ]
    },
    {
      "cell_type": "code",
      "metadata": {
        "execution": {
          "iopub.execute_input": "2021-07-04T08:16:54.394881Z",
          "iopub.status.busy": "2021-07-04T08:16:54.393436Z",
          "iopub.status.idle": "2021-07-04T08:16:54.396503Z",
          "shell.execute_reply": "2021-07-04T08:16:54.397488Z"
        },
        "id": "IzW9E8FlJCDR"
      },
      "source": [
        "def progress_bar(iteration, total, size=30):\n",
        "    running = iteration < total\n",
        "    c = \">\" if running else \"=\"\n",
        "    p = (size - 1) * iteration // total\n",
        "    fmt = \"{{:-{}d}}/{{}} [{{}}]\".format(len(str(total)))\n",
        "    params = [iteration, total, \"=\" * p + c + \".\" * (size - p - 1)]\n",
        "    return fmt.format(*params)"
      ],
      "execution_count": 34,
      "outputs": []
    },
    {
      "cell_type": "code",
      "metadata": {
        "execution": {
          "iopub.execute_input": "2021-07-04T08:16:54.405527Z",
          "iopub.status.busy": "2021-07-04T08:16:54.404360Z",
          "iopub.status.idle": "2021-07-04T08:16:54.408663Z",
          "shell.execute_reply": "2021-07-04T08:16:54.409533Z"
        },
        "id": "js6ctvYAJCDR",
        "outputId": "a76f7245-c044-4024-9bd3-5eda318aa39b",
        "colab": {
          "base_uri": "https://localhost:8080/",
          "height": 35
        }
      },
      "source": [
        "progress_bar(3500, 10000, size=6)"
      ],
      "execution_count": 35,
      "outputs": [
        {
          "output_type": "execute_result",
          "data": {
            "application/vnd.google.colaboratory.intrinsic+json": {
              "type": "string"
            },
            "text/plain": [
              "' 3500/10000 [=>....]'"
            ]
          },
          "metadata": {
            "tags": []
          },
          "execution_count": 35
        }
      ]
    },
    {
      "cell_type": "code",
      "metadata": {
        "execution": {
          "iopub.execute_input": "2021-07-04T08:16:54.420702Z",
          "iopub.status.busy": "2021-07-04T08:16:54.419667Z",
          "iopub.status.idle": "2021-07-04T08:16:54.423451Z",
          "shell.execute_reply": "2021-07-04T08:16:54.424317Z"
        },
        "id": "fnNyYuQzJCDR"
      },
      "source": [
        "def print_status_bar(iteration, total, loss, metrics=None, size=30):\n",
        "    metrics = \" - \".join([\"{}: {:.4f}\".format(m.name, m.result())\n",
        "                         for m in [loss] + (metrics or [])])\n",
        "    end = \"\" if iteration < total else \"\\n\"\n",
        "    print(\"\\r{} - {}\".format(progress_bar(iteration, total), metrics), end=end)"
      ],
      "execution_count": 36,
      "outputs": []
    },
    {
      "cell_type": "code",
      "metadata": {
        "execution": {
          "iopub.execute_input": "2021-07-04T08:16:54.451621Z",
          "iopub.status.busy": "2021-07-04T08:16:54.442475Z",
          "iopub.status.idle": "2021-07-04T08:16:57.309328Z",
          "shell.execute_reply": "2021-07-04T08:16:57.310825Z"
        },
        "id": "Qbtlcmc5JCDR",
        "outputId": "2ecdd6f9-3eed-4a6a-de7c-60b2f128045a",
        "colab": {
          "base_uri": "https://localhost:8080/"
        }
      },
      "source": [
        "mean_loss = keras.metrics.Mean(name=\"loss\")\n",
        "mean_square = keras.metrics.Mean(name=\"mean_square\")\n",
        "for i in range(1, 50 + 1):\n",
        "    loss = 1 / i\n",
        "    mean_loss(loss)\n",
        "    mean_square(i ** 2)\n",
        "    print_status_bar(i, 50, mean_loss, [mean_square])\n",
        "    time.sleep(0.05)"
      ],
      "execution_count": 37,
      "outputs": [
        {
          "output_type": "stream",
          "text": [
            "50/50 [==============================] - loss: 0.0900 - mean_square: 858.5000\n"
          ],
          "name": "stdout"
        }
      ]
    },
    {
      "cell_type": "code",
      "metadata": {
        "execution": {
          "iopub.execute_input": "2021-07-04T08:16:57.320138Z",
          "iopub.status.busy": "2021-07-04T08:16:57.318748Z",
          "iopub.status.idle": "2021-07-04T08:16:57.326326Z",
          "shell.execute_reply": "2021-07-04T08:16:57.327156Z"
        },
        "id": "OWaSptv1JCDR"
      },
      "source": [
        "keras.backend.clear_session()\n",
        "np.random.seed(42)\n",
        "tf.random.set_seed(42)"
      ],
      "execution_count": 38,
      "outputs": []
    },
    {
      "cell_type": "code",
      "metadata": {
        "execution": {
          "iopub.execute_input": "2021-07-04T08:16:57.344821Z",
          "iopub.status.busy": "2021-07-04T08:16:57.343764Z",
          "iopub.status.idle": "2021-07-04T08:16:57.360548Z",
          "shell.execute_reply": "2021-07-04T08:16:57.362034Z"
        },
        "id": "bO23h8IpJCDR",
        "outputId": "6acc805e-f12e-418d-ab90-0b320cd1ffce",
        "colab": {
          "base_uri": "https://localhost:8080/"
        }
      },
      "source": [
        "n_epochs = 5\n",
        "batch_size = 32\n",
        "n_steps = len(X_train) // batch_size\n",
        "optimizer = keras.optimizers.Nadam(lr=0.01)\n",
        "loss_fn = keras.losses.mean_squared_error\n",
        "mean_loss = keras.metrics.Mean()\n",
        "metrics = [keras.metrics.MeanAbsoluteError()]"
      ],
      "execution_count": 41,
      "outputs": [
        {
          "output_type": "stream",
          "text": [
            "/usr/local/lib/python3.7/dist-packages/tensorflow/python/keras/optimizer_v2/optimizer_v2.py:375: UserWarning: The `lr` argument is deprecated, use `learning_rate` instead.\n",
            "  \"The `lr` argument is deprecated, use `learning_rate` instead.\")\n"
          ],
          "name": "stderr"
        }
      ]
    },
    {
      "cell_type": "code",
      "metadata": {
        "execution": {
          "iopub.execute_input": "2021-07-04T08:16:57.381663Z",
          "iopub.status.busy": "2021-07-04T08:16:57.380524Z",
          "iopub.status.idle": "2021-07-04T08:17:33.871593Z",
          "shell.execute_reply": "2021-07-04T08:17:33.872920Z"
        },
        "id": "LVT53d0mJCDR",
        "outputId": "4d9aec1f-e1c4-4c7a-ba69-9dbbe9a012e7",
        "colab": {
          "base_uri": "https://localhost:8080/"
        }
      },
      "source": [
        "for epoch in range(1, n_epochs + 1):\n",
        "    print(\"Epoch {}/{}\".format(epoch, n_epochs))\n",
        "    for step in range(1, n_steps + 1):\n",
        "        X_batch, y_batch = random_batch(X_train_scaled, y_train)\n",
        "        with tf.GradientTape() as tape:\n",
        "            y_pred = model(X_batch)\n",
        "            main_loss = tf.reduce_mean(loss_fn(y_batch, y_pred))\n",
        "            loss = tf.add_n([main_loss] + model.losses)\n",
        "        gradients = tape.gradient(loss, model.trainable_variables)\n",
        "        optimizer.apply_gradients(zip(gradients, model.trainable_variables))\n",
        "        for variable in model.variables:\n",
        "            if variable.constraint is not None:\n",
        "                variable.assign(variable.constraint(variable))\n",
        "        mean_loss(loss)\n",
        "        for metric in metrics:\n",
        "            metric(y_batch, y_pred)\n",
        "        print_status_bar(step * batch_size, len(y_train), mean_loss, metrics)\n",
        "    print_status_bar(len(y_train), len(y_train), mean_loss, metrics)\n",
        "    for metric in [mean_loss] + metrics:\n",
        "        metric.reset_states()"
      ],
      "execution_count": 42,
      "outputs": [
        {
          "output_type": "stream",
          "text": [
            "Epoch 1/5\n",
            "11610/11610 [==============================] - mean: 1.3955 - mean_absolute_error: 0.5722\n",
            "Epoch 2/5\n",
            "11610/11610 [==============================] - mean: 0.6774 - mean_absolute_error: 0.5280\n",
            "Epoch 3/5\n",
            "11610/11610 [==============================] - mean: 0.6351 - mean_absolute_error: 0.5177\n",
            "Epoch 4/5\n",
            "11610/11610 [==============================] - mean: 0.6384 - mean_absolute_error: 0.5181\n",
            "Epoch 5/5\n",
            "11610/11610 [==============================] - mean: 0.6440 - mean_absolute_error: 0.5222\n"
          ],
          "name": "stdout"
        }
      ]
    },
    {
      "cell_type": "code",
      "metadata": {
        "execution": {
          "iopub.execute_input": "2021-07-04T08:17:33.898309Z",
          "iopub.status.busy": "2021-07-04T08:17:33.896576Z",
          "iopub.status.idle": "2021-07-04T08:18:11.822625Z",
          "shell.execute_reply": "2021-07-04T08:18:11.820044Z"
        },
        "id": "h0PqOqLFJCDR",
        "outputId": "69bb9e57-0aff-429b-a26d-1af06ee703df",
        "colab": {
          "base_uri": "https://localhost:8080/",
          "height": 317,
          "referenced_widgets": [
            "f567d90b6ea44c4d97b0ea0bf83d5f80",
            "649fe04a5b55421c8b0b685fc948a62e",
            "8ece2107dc834acc833f76f6429a9ab9",
            "e55e664efba049d48fbbe3e345d7b9b0",
            "e0f3da308c6a4d3badaf684936207590",
            "c53a9a133f6b4752a6744172505208d9",
            "07be3fa38d3046fb8a5961ebd9fb3cb7",
            "96779ceb195844a3b3a3955dc7690e70",
            "d19addd459bd420c9b73f2c828afeb0a",
            "fe4bf60c6f8d4815a4f3621366199272",
            "3e19f506e47746ad8646416ab4ab01cc",
            "cf5b02a97a8d4900acf2447817034aff",
            "3b1b8acb8dad485486722af7e3bbfc23",
            "87be732bbc48403187aeeba0ef36aa72",
            "31a49f139fac41a1aa3128f7234098af",
            "546d1ba099504efa9b3ca416f951c155",
            "6cc9d078d73742608d303cd42f56c721",
            "41ec092206b4408f8637a9c6b1f68304",
            "780d9fc533d640fb8a3873bf31b91eb2",
            "9a0f045f9e42442b95f377d138336324",
            "990239b6bbb84154bc645bfce5efbd34",
            "a91fe838614d42f08e02498449cc875b",
            "a1b7b53b9b8f4c138831104db5291136",
            "a81051d588164ce4b5d6f22861e55fc4",
            "3dc0df6e7b664ec6a5145d385cb8bbbf",
            "159a700b466448ad8b00775d224cb0cf",
            "6bd7fd6a58ff4e90b9a0df8e3aca22a1",
            "95fa8bc36e5042099eeb8f801e875230",
            "f14f0bfce1a04bd3bac9cfb6300b2c52",
            "c6e3d87385c94e78a3e7680224bd478b",
            "c22f70464de4444bacff05db072a6063",
            "cca6d1e376fb4a69bbc336472a0bbb1e",
            "0ca81496305a4d9b80af1ce3f6ba3311",
            "8ec0f826bfc24009bfa6651460da20e3",
            "a537a4ae66254e688ee4c43474fba20b",
            "2291def4df56449d8f540f7fff6ba5c7",
            "23176b235ded4b0e8fc0c42022099b11",
            "3537a87d48ba4a2c9ed776c46e0107e0",
            "f57f71738caa4cda8a821ab965b73896",
            "554af5abd9864fb095f9ef600e5dfddf",
            "35ae63a1487e4a0e943bf75709b8d449",
            "bd57aa174f8744d69fb695daf16c2ce0",
            "b9d997e36d42496782c8f4b58b07a266",
            "1805bc79fff644eda977667f2c803a1f",
            "4fb5524e30ec4ac19783f833a166703f",
            "ef757540477c45c58064d539034a62f5",
            "38cfdc0b3e22416f8128446b58273f6d",
            "cf2c536784794af49c99889944280149"
          ]
        }
      },
      "source": [
        "try:\n",
        "    from tqdm.notebook import trange\n",
        "    from collections import OrderedDict\n",
        "    with trange(1, n_epochs + 1, desc=\"All epochs\") as epochs:\n",
        "        for epoch in epochs:\n",
        "            with trange(1, n_steps + 1, desc=\"Epoch {}/{}\".format(epoch, n_epochs)) as steps:\n",
        "                for step in steps:\n",
        "                    X_batch, y_batch = random_batch(X_train_scaled, y_train)\n",
        "                    with tf.GradientTape() as tape:\n",
        "                        y_pred = model(X_batch)\n",
        "                        main_loss = tf.reduce_mean(loss_fn(y_batch, y_pred))\n",
        "                        loss = tf.add_n([main_loss] + model.losses)\n",
        "                    gradients = tape.gradient(loss, model.trainable_variables)\n",
        "                    optimizer.apply_gradients(zip(gradients, model.trainable_variables))\n",
        "                    for variable in model.variables:\n",
        "                        if variable.constraint is not None:\n",
        "                            variable.assign(variable.constraint(variable))                    \n",
        "                    status = OrderedDict()\n",
        "                    mean_loss(loss)\n",
        "                    status[\"loss\"] = mean_loss.result().numpy()\n",
        "                    for metric in metrics:\n",
        "                        metric(y_batch, y_pred)\n",
        "                        status[metric.name] = metric.result().numpy()\n",
        "                    steps.set_postfix(status)\n",
        "            for metric in [mean_loss] + metrics:\n",
        "                metric.reset_states()\n",
        "except ImportError as ex:\n",
        "    print(\"To run this cell, please install tqdm, ipywidgets and restart Jupyter\")"
      ],
      "execution_count": 43,
      "outputs": [
        {
          "output_type": "display_data",
          "data": {
            "application/vnd.jupyter.widget-view+json": {
              "model_id": "f567d90b6ea44c4d97b0ea0bf83d5f80",
              "version_minor": 0,
              "version_major": 2
            },
            "text/plain": [
              "HBox(children=(FloatProgress(value=0.0, description='All epochs', max=5.0, style=ProgressStyle(description_wid…"
            ]
          },
          "metadata": {
            "tags": []
          }
        },
        {
          "output_type": "display_data",
          "data": {
            "application/vnd.jupyter.widget-view+json": {
              "model_id": "d19addd459bd420c9b73f2c828afeb0a",
              "version_minor": 0,
              "version_major": 2
            },
            "text/plain": [
              "HBox(children=(FloatProgress(value=0.0, description='Epoch 1/5', max=362.0, style=ProgressStyle(description_wi…"
            ]
          },
          "metadata": {
            "tags": []
          }
        },
        {
          "output_type": "stream",
          "text": [
            "\n"
          ],
          "name": "stdout"
        },
        {
          "output_type": "display_data",
          "data": {
            "application/vnd.jupyter.widget-view+json": {
              "model_id": "6cc9d078d73742608d303cd42f56c721",
              "version_minor": 0,
              "version_major": 2
            },
            "text/plain": [
              "HBox(children=(FloatProgress(value=0.0, description='Epoch 2/5', max=362.0, style=ProgressStyle(description_wi…"
            ]
          },
          "metadata": {
            "tags": []
          }
        },
        {
          "output_type": "stream",
          "text": [
            "\n"
          ],
          "name": "stdout"
        },
        {
          "output_type": "display_data",
          "data": {
            "application/vnd.jupyter.widget-view+json": {
              "model_id": "3dc0df6e7b664ec6a5145d385cb8bbbf",
              "version_minor": 0,
              "version_major": 2
            },
            "text/plain": [
              "HBox(children=(FloatProgress(value=0.0, description='Epoch 3/5', max=362.0, style=ProgressStyle(description_wi…"
            ]
          },
          "metadata": {
            "tags": []
          }
        },
        {
          "output_type": "stream",
          "text": [
            "\n"
          ],
          "name": "stdout"
        },
        {
          "output_type": "display_data",
          "data": {
            "application/vnd.jupyter.widget-view+json": {
              "model_id": "0ca81496305a4d9b80af1ce3f6ba3311",
              "version_minor": 0,
              "version_major": 2
            },
            "text/plain": [
              "HBox(children=(FloatProgress(value=0.0, description='Epoch 4/5', max=362.0, style=ProgressStyle(description_wi…"
            ]
          },
          "metadata": {
            "tags": []
          }
        },
        {
          "output_type": "stream",
          "text": [
            "\n"
          ],
          "name": "stdout"
        },
        {
          "output_type": "display_data",
          "data": {
            "application/vnd.jupyter.widget-view+json": {
              "model_id": "35ae63a1487e4a0e943bf75709b8d449",
              "version_minor": 0,
              "version_major": 2
            },
            "text/plain": [
              "HBox(children=(FloatProgress(value=0.0, description='Epoch 5/5', max=362.0, style=ProgressStyle(description_wi…"
            ]
          },
          "metadata": {
            "tags": []
          }
        },
        {
          "output_type": "stream",
          "text": [
            "\n",
            "\n"
          ],
          "name": "stdout"
        }
      ]
    },
    {
      "cell_type": "markdown",
      "metadata": {
        "id": "9v_G9dn-JCDR"
      },
      "source": [
        "## 텐서플로 함수"
      ]
    },
    {
      "cell_type": "code",
      "metadata": {
        "execution": {
          "iopub.execute_input": "2021-07-04T08:18:11.830499Z",
          "iopub.status.busy": "2021-07-04T08:18:11.829618Z",
          "iopub.status.idle": "2021-07-04T08:18:11.833538Z",
          "shell.execute_reply": "2021-07-04T08:18:11.834319Z"
        },
        "id": "5k6JszcuJCDS"
      },
      "source": [
        "def cube(x):\n",
        "    return x ** 3"
      ],
      "execution_count": 44,
      "outputs": []
    },
    {
      "cell_type": "code",
      "metadata": {
        "execution": {
          "iopub.execute_input": "2021-07-04T08:18:11.842745Z",
          "iopub.status.busy": "2021-07-04T08:18:11.841606Z",
          "iopub.status.idle": "2021-07-04T08:18:11.846105Z",
          "shell.execute_reply": "2021-07-04T08:18:11.846996Z"
        },
        "id": "6LL_nTByJCDS",
        "outputId": "f5ad9da4-2620-4a71-b81d-530ca9dbcf77",
        "colab": {
          "base_uri": "https://localhost:8080/"
        }
      },
      "source": [
        "cube(2)"
      ],
      "execution_count": 45,
      "outputs": [
        {
          "output_type": "execute_result",
          "data": {
            "text/plain": [
              "8"
            ]
          },
          "metadata": {
            "tags": []
          },
          "execution_count": 45
        }
      ]
    },
    {
      "cell_type": "code",
      "metadata": {
        "execution": {
          "iopub.execute_input": "2021-07-04T08:18:11.854139Z",
          "iopub.status.busy": "2021-07-04T08:18:11.853046Z",
          "iopub.status.idle": "2021-07-04T08:18:11.861946Z",
          "shell.execute_reply": "2021-07-04T08:18:11.861036Z"
        },
        "id": "6RbuQlchJCDS",
        "outputId": "89124974-4659-45f6-ea99-8b7fc0987ca9",
        "colab": {
          "base_uri": "https://localhost:8080/"
        }
      },
      "source": [
        "cube(tf.constant(2.0))"
      ],
      "execution_count": 46,
      "outputs": [
        {
          "output_type": "execute_result",
          "data": {
            "text/plain": [
              "<tf.Tensor: shape=(), dtype=float32, numpy=8.0>"
            ]
          },
          "metadata": {
            "tags": []
          },
          "execution_count": 46
        }
      ]
    },
    {
      "cell_type": "code",
      "metadata": {
        "execution": {
          "iopub.execute_input": "2021-07-04T08:18:11.871190Z",
          "iopub.status.busy": "2021-07-04T08:18:11.869990Z",
          "iopub.status.idle": "2021-07-04T08:18:11.875579Z",
          "shell.execute_reply": "2021-07-04T08:18:11.874509Z"
        },
        "id": "VuWNf5gsJCDS",
        "outputId": "77f20743-ff44-458e-a0b6-3b76da27568f",
        "colab": {
          "base_uri": "https://localhost:8080/"
        }
      },
      "source": [
        "tf_cube = tf.function(cube)\n",
        "tf_cube"
      ],
      "execution_count": 47,
      "outputs": [
        {
          "output_type": "execute_result",
          "data": {
            "text/plain": [
              "<tensorflow.python.eager.def_function.Function at 0x7f0ab3ed6a10>"
            ]
          },
          "metadata": {
            "tags": []
          },
          "execution_count": 47
        }
      ]
    },
    {
      "cell_type": "code",
      "metadata": {
        "execution": {
          "iopub.execute_input": "2021-07-04T08:18:11.906924Z",
          "iopub.status.busy": "2021-07-04T08:18:11.882671Z",
          "iopub.status.idle": "2021-07-04T08:18:11.967643Z",
          "shell.execute_reply": "2021-07-04T08:18:11.968947Z"
        },
        "id": "F8xvTcZYJCDS",
        "outputId": "40c91cc4-0adc-4023-8522-0f52603156f4",
        "colab": {
          "base_uri": "https://localhost:8080/"
        }
      },
      "source": [
        "tf_cube(2)"
      ],
      "execution_count": 48,
      "outputs": [
        {
          "output_type": "execute_result",
          "data": {
            "text/plain": [
              "<tf.Tensor: shape=(), dtype=int32, numpy=8>"
            ]
          },
          "metadata": {
            "tags": []
          },
          "execution_count": 48
        }
      ]
    },
    {
      "cell_type": "code",
      "metadata": {
        "execution": {
          "iopub.execute_input": "2021-07-04T08:18:11.978396Z",
          "iopub.status.busy": "2021-07-04T08:18:11.976707Z",
          "iopub.status.idle": "2021-07-04T08:18:11.994754Z",
          "shell.execute_reply": "2021-07-04T08:18:11.995845Z"
        },
        "id": "DaJVrFoiJCDS",
        "outputId": "d7b5dd2c-4555-4e87-e27d-72f3c351d976",
        "colab": {
          "base_uri": "https://localhost:8080/"
        }
      },
      "source": [
        "tf_cube(tf.constant(2.0))"
      ],
      "execution_count": 49,
      "outputs": [
        {
          "output_type": "execute_result",
          "data": {
            "text/plain": [
              "<tf.Tensor: shape=(), dtype=float32, numpy=8.0>"
            ]
          },
          "metadata": {
            "tags": []
          },
          "execution_count": 49
        }
      ]
    },
    {
      "cell_type": "markdown",
      "metadata": {
        "id": "VM68uFRvJCDS"
      },
      "source": [
        "### TF 함수와 콘크리트 함수"
      ]
    },
    {
      "cell_type": "code",
      "metadata": {
        "execution": {
          "iopub.execute_input": "2021-07-04T08:18:12.005258Z",
          "iopub.status.busy": "2021-07-04T08:18:12.003881Z",
          "iopub.status.idle": "2021-07-04T08:18:12.008314Z",
          "shell.execute_reply": "2021-07-04T08:18:12.009204Z"
        },
        "id": "wCGPK5J1JCDS",
        "outputId": "358f80b2-c9ec-4caa-fc47-e20b02576d06",
        "colab": {
          "base_uri": "https://localhost:8080/"
        }
      },
      "source": [
        "concrete_function = tf_cube.get_concrete_function(tf.constant(2.0))\n",
        "concrete_function.graph"
      ],
      "execution_count": 50,
      "outputs": [
        {
          "output_type": "execute_result",
          "data": {
            "text/plain": [
              "<tensorflow.python.framework.func_graph.FuncGraph at 0x7f0ab3d79150>"
            ]
          },
          "metadata": {
            "tags": []
          },
          "execution_count": 50
        }
      ]
    },
    {
      "cell_type": "code",
      "metadata": {
        "execution": {
          "iopub.execute_input": "2021-07-04T08:18:12.016194Z",
          "iopub.status.busy": "2021-07-04T08:18:12.015274Z",
          "iopub.status.idle": "2021-07-04T08:18:12.021028Z",
          "shell.execute_reply": "2021-07-04T08:18:12.021740Z"
        },
        "id": "ChMRIoPcJCDS",
        "outputId": "c02c5b06-3c18-4403-d368-1269c067d603",
        "colab": {
          "base_uri": "https://localhost:8080/"
        }
      },
      "source": [
        "concrete_function(tf.constant(2.0))"
      ],
      "execution_count": 51,
      "outputs": [
        {
          "output_type": "execute_result",
          "data": {
            "text/plain": [
              "<tf.Tensor: shape=(), dtype=float32, numpy=8.0>"
            ]
          },
          "metadata": {
            "tags": []
          },
          "execution_count": 51
        }
      ]
    },
    {
      "cell_type": "code",
      "metadata": {
        "execution": {
          "iopub.execute_input": "2021-07-04T08:18:12.029029Z",
          "iopub.status.busy": "2021-07-04T08:18:12.028140Z",
          "iopub.status.idle": "2021-07-04T08:18:12.032917Z",
          "shell.execute_reply": "2021-07-04T08:18:12.033810Z"
        },
        "id": "qGwVsEcGJCDS",
        "outputId": "6ccd15a7-eed1-4789-da95-55b52eba96d6",
        "colab": {
          "base_uri": "https://localhost:8080/"
        }
      },
      "source": [
        "concrete_function is tf_cube.get_concrete_function(tf.constant(2.0))"
      ],
      "execution_count": 52,
      "outputs": [
        {
          "output_type": "execute_result",
          "data": {
            "text/plain": [
              "True"
            ]
          },
          "metadata": {
            "tags": []
          },
          "execution_count": 52
        }
      ]
    },
    {
      "cell_type": "markdown",
      "metadata": {
        "id": "O__Qbb3hJCDS"
      },
      "source": [
        "### 함수 정의와 그래프"
      ]
    },
    {
      "cell_type": "code",
      "metadata": {
        "execution": {
          "iopub.execute_input": "2021-07-04T08:18:12.041193Z",
          "iopub.status.busy": "2021-07-04T08:18:12.040072Z",
          "iopub.status.idle": "2021-07-04T08:18:12.044509Z",
          "shell.execute_reply": "2021-07-04T08:18:12.045398Z"
        },
        "id": "VtfCr-d9JCDT",
        "outputId": "451d49ab-6652-49cf-9aec-a2e00b704f7f",
        "colab": {
          "base_uri": "https://localhost:8080/"
        }
      },
      "source": [
        "concrete_function.graph"
      ],
      "execution_count": 53,
      "outputs": [
        {
          "output_type": "execute_result",
          "data": {
            "text/plain": [
              "<tensorflow.python.framework.func_graph.FuncGraph at 0x7f0ab3d79150>"
            ]
          },
          "metadata": {
            "tags": []
          },
          "execution_count": 53
        }
      ]
    },
    {
      "cell_type": "code",
      "metadata": {
        "execution": {
          "iopub.execute_input": "2021-07-04T08:18:12.053175Z",
          "iopub.status.busy": "2021-07-04T08:18:12.052119Z",
          "iopub.status.idle": "2021-07-04T08:18:12.056725Z",
          "shell.execute_reply": "2021-07-04T08:18:12.057552Z"
        },
        "id": "BEuqBhgOJCDT",
        "outputId": "18d86649-710a-4cef-d3d5-c8781cb00c31",
        "colab": {
          "base_uri": "https://localhost:8080/"
        }
      },
      "source": [
        "ops = concrete_function.graph.get_operations()\n",
        "ops"
      ],
      "execution_count": 54,
      "outputs": [
        {
          "output_type": "execute_result",
          "data": {
            "text/plain": [
              "[<tf.Operation 'x' type=Placeholder>,\n",
              " <tf.Operation 'pow/y' type=Const>,\n",
              " <tf.Operation 'pow' type=Pow>,\n",
              " <tf.Operation 'Identity' type=Identity>]"
            ]
          },
          "metadata": {
            "tags": []
          },
          "execution_count": 54
        }
      ]
    },
    {
      "cell_type": "code",
      "metadata": {
        "execution": {
          "iopub.execute_input": "2021-07-04T08:18:12.065323Z",
          "iopub.status.busy": "2021-07-04T08:18:12.064271Z",
          "iopub.status.idle": "2021-07-04T08:18:12.068512Z",
          "shell.execute_reply": "2021-07-04T08:18:12.069401Z"
        },
        "id": "yY7D37srJCDT",
        "outputId": "5cb4b36c-aee8-48ff-9e68-da131053d3d6",
        "colab": {
          "base_uri": "https://localhost:8080/"
        }
      },
      "source": [
        "pow_op = ops[2]\n",
        "list(pow_op.inputs)"
      ],
      "execution_count": 55,
      "outputs": [
        {
          "output_type": "execute_result",
          "data": {
            "text/plain": [
              "[<tf.Tensor 'x:0' shape=() dtype=float32>,\n",
              " <tf.Tensor 'pow/y:0' shape=() dtype=float32>]"
            ]
          },
          "metadata": {
            "tags": []
          },
          "execution_count": 55
        }
      ]
    },
    {
      "cell_type": "code",
      "metadata": {
        "execution": {
          "iopub.execute_input": "2021-07-04T08:18:12.076592Z",
          "iopub.status.busy": "2021-07-04T08:18:12.075541Z",
          "iopub.status.idle": "2021-07-04T08:18:12.080084Z",
          "shell.execute_reply": "2021-07-04T08:18:12.080859Z"
        },
        "id": "uDqvz-OTJCDT",
        "outputId": "8b2e9692-9a1b-40d0-8de3-49c71e5084f3",
        "colab": {
          "base_uri": "https://localhost:8080/"
        }
      },
      "source": [
        "pow_op.outputs"
      ],
      "execution_count": 56,
      "outputs": [
        {
          "output_type": "execute_result",
          "data": {
            "text/plain": [
              "[<tf.Tensor 'pow:0' shape=() dtype=float32>]"
            ]
          },
          "metadata": {
            "tags": []
          },
          "execution_count": 56
        }
      ]
    },
    {
      "cell_type": "code",
      "metadata": {
        "execution": {
          "iopub.execute_input": "2021-07-04T08:18:12.088380Z",
          "iopub.status.busy": "2021-07-04T08:18:12.087383Z",
          "iopub.status.idle": "2021-07-04T08:18:12.091856Z",
          "shell.execute_reply": "2021-07-04T08:18:12.092684Z"
        },
        "id": "Jt5I_gpTJCDT",
        "outputId": "65a0c136-119d-4eb9-b21d-db98e0eb1466",
        "colab": {
          "base_uri": "https://localhost:8080/"
        }
      },
      "source": [
        "concrete_function.graph.get_operation_by_name('x')"
      ],
      "execution_count": 57,
      "outputs": [
        {
          "output_type": "execute_result",
          "data": {
            "text/plain": [
              "<tf.Operation 'x' type=Placeholder>"
            ]
          },
          "metadata": {
            "tags": []
          },
          "execution_count": 57
        }
      ]
    },
    {
      "cell_type": "code",
      "metadata": {
        "execution": {
          "iopub.execute_input": "2021-07-04T08:18:12.101366Z",
          "iopub.status.busy": "2021-07-04T08:18:12.099700Z",
          "iopub.status.idle": "2021-07-04T08:18:12.105564Z",
          "shell.execute_reply": "2021-07-04T08:18:12.106993Z"
        },
        "id": "GLRfzkxVJCDT",
        "outputId": "1af3386b-f934-4313-f113-5cc613436bb3",
        "colab": {
          "base_uri": "https://localhost:8080/"
        }
      },
      "source": [
        "concrete_function.graph.get_tensor_by_name('Identity:0')"
      ],
      "execution_count": 58,
      "outputs": [
        {
          "output_type": "execute_result",
          "data": {
            "text/plain": [
              "<tf.Tensor 'Identity:0' shape=() dtype=float32>"
            ]
          },
          "metadata": {
            "tags": []
          },
          "execution_count": 58
        }
      ]
    },
    {
      "cell_type": "code",
      "metadata": {
        "execution": {
          "iopub.execute_input": "2021-07-04T08:18:12.116483Z",
          "iopub.status.busy": "2021-07-04T08:18:12.114823Z",
          "iopub.status.idle": "2021-07-04T08:18:12.119524Z",
          "shell.execute_reply": "2021-07-04T08:18:12.120359Z"
        },
        "id": "rvfhu8TKJCDT",
        "outputId": "d65596c8-0781-4ce0-a7c1-7e025e4212e3",
        "colab": {
          "base_uri": "https://localhost:8080/"
        }
      },
      "source": [
        "concrete_function.function_def.signature"
      ],
      "execution_count": 59,
      "outputs": [
        {
          "output_type": "execute_result",
          "data": {
            "text/plain": [
              "name: \"__inference_cube_908994\"\n",
              "input_arg {\n",
              "  name: \"x\"\n",
              "  type: DT_FLOAT\n",
              "}\n",
              "output_arg {\n",
              "  name: \"identity\"\n",
              "  type: DT_FLOAT\n",
              "}"
            ]
          },
          "metadata": {
            "tags": []
          },
          "execution_count": 59
        }
      ]
    },
    {
      "cell_type": "markdown",
      "metadata": {
        "id": "NSsbisAoJCDT"
      },
      "source": [
        "### TF 함수가 계산 그래프를 추출하기 위해 파이썬 함수를 트레이싱하는 방법"
      ]
    },
    {
      "cell_type": "code",
      "metadata": {
        "execution": {
          "iopub.execute_input": "2021-07-04T08:18:12.129008Z",
          "iopub.status.busy": "2021-07-04T08:18:12.128011Z",
          "iopub.status.idle": "2021-07-04T08:18:12.131970Z",
          "shell.execute_reply": "2021-07-04T08:18:12.132795Z"
        },
        "id": "lWCnNQI_JCDT"
      },
      "source": [
        "@tf.function\n",
        "def tf_cube(x):\n",
        "    print(\"print:\", x)\n",
        "    return x ** 3"
      ],
      "execution_count": 60,
      "outputs": []
    },
    {
      "cell_type": "code",
      "metadata": {
        "execution": {
          "iopub.execute_input": "2021-07-04T08:18:12.146742Z",
          "iopub.status.busy": "2021-07-04T08:18:12.139776Z",
          "iopub.status.idle": "2021-07-04T08:18:12.210946Z",
          "shell.execute_reply": "2021-07-04T08:18:12.211878Z"
        },
        "id": "oFhlmKA6JCDT",
        "outputId": "b2cbda31-e92d-4858-d2d4-7adb9252222e",
        "colab": {
          "base_uri": "https://localhost:8080/"
        }
      },
      "source": [
        "result = tf_cube(tf.constant(2.0))"
      ],
      "execution_count": 61,
      "outputs": [
        {
          "output_type": "stream",
          "text": [
            "print: Tensor(\"x:0\", shape=(), dtype=float32)\n"
          ],
          "name": "stdout"
        }
      ]
    },
    {
      "cell_type": "code",
      "metadata": {
        "execution": {
          "iopub.execute_input": "2021-07-04T08:18:12.218833Z",
          "iopub.status.busy": "2021-07-04T08:18:12.217592Z",
          "iopub.status.idle": "2021-07-04T08:18:12.222986Z",
          "shell.execute_reply": "2021-07-04T08:18:12.223763Z"
        },
        "id": "8FZp7YbMJCDT",
        "outputId": "2b62206c-07e3-403a-a526-b1bac2010681",
        "colab": {
          "base_uri": "https://localhost:8080/"
        }
      },
      "source": [
        "result"
      ],
      "execution_count": 62,
      "outputs": [
        {
          "output_type": "execute_result",
          "data": {
            "text/plain": [
              "<tf.Tensor: shape=(), dtype=float32, numpy=8.0>"
            ]
          },
          "metadata": {
            "tags": []
          },
          "execution_count": 62
        }
      ]
    },
    {
      "cell_type": "code",
      "metadata": {
        "execution": {
          "iopub.execute_input": "2021-07-04T08:18:12.235570Z",
          "iopub.status.busy": "2021-07-04T08:18:12.233860Z",
          "iopub.status.idle": "2021-07-04T08:18:12.290992Z",
          "shell.execute_reply": "2021-07-04T08:18:12.291999Z"
        },
        "id": "zM6arUuoJCDT",
        "outputId": "5203accf-6f8f-4b53-fb8e-c0b00e220996",
        "colab": {
          "base_uri": "https://localhost:8080/"
        }
      },
      "source": [
        "result = tf_cube(2)\n",
        "result = tf_cube(3)\n",
        "result = tf_cube(tf.constant([[1., 2.]])) # New shape: trace!\n",
        "result = tf_cube(tf.constant([[3., 4.], [5., 6.]])) # New shape: trace!\n",
        "result = tf_cube(tf.constant([[7., 8.], [9., 10.], [11., 12.]])) # New shape: trace!"
      ],
      "execution_count": 63,
      "outputs": [
        {
          "output_type": "stream",
          "text": [
            "print: 2\n",
            "print: 3\n",
            "print: Tensor(\"x:0\", shape=(1, 2), dtype=float32)\n",
            "print: Tensor(\"x:0\", shape=(2, 2), dtype=float32)\n",
            "WARNING:tensorflow:5 out of the last 5 calls to <function tf_cube at 0x7f0ab3d27710> triggered tf.function retracing. Tracing is expensive and the excessive number of tracings could be due to (1) creating @tf.function repeatedly in a loop, (2) passing tensors with different shapes, (3) passing Python objects instead of tensors. For (1), please define your @tf.function outside of the loop. For (2), @tf.function has experimental_relax_shapes=True option that relaxes argument shapes that can avoid unnecessary retracing. For (3), please refer to https://www.tensorflow.org/guide/function#controlling_retracing and https://www.tensorflow.org/api_docs/python/tf/function for  more details.\n",
            "print: Tensor(\"x:0\", shape=(3, 2), dtype=float32)\n",
            "WARNING:tensorflow:6 out of the last 6 calls to <function tf_cube at 0x7f0ab3d27710> triggered tf.function retracing. Tracing is expensive and the excessive number of tracings could be due to (1) creating @tf.function repeatedly in a loop, (2) passing tensors with different shapes, (3) passing Python objects instead of tensors. For (1), please define your @tf.function outside of the loop. For (2), @tf.function has experimental_relax_shapes=True option that relaxes argument shapes that can avoid unnecessary retracing. For (3), please refer to https://www.tensorflow.org/guide/function#controlling_retracing and https://www.tensorflow.org/api_docs/python/tf/function for  more details.\n"
          ],
          "name": "stdout"
        }
      ]
    },
    {
      "cell_type": "markdown",
      "metadata": {
        "id": "U4z-FpIWJCDU"
      },
      "source": [
        "특정 입력 시그니처를 지정하는 것도 가능합니다:"
      ]
    },
    {
      "cell_type": "code",
      "metadata": {
        "execution": {
          "iopub.execute_input": "2021-07-04T08:18:12.302653Z",
          "iopub.status.busy": "2021-07-04T08:18:12.301378Z",
          "iopub.status.idle": "2021-07-04T08:18:12.304438Z",
          "shell.execute_reply": "2021-07-04T08:18:12.305373Z"
        },
        "id": "-NwpeE4TJCDU"
      },
      "source": [
        "@tf.function(input_signature=[tf.TensorSpec([None, 28, 28], tf.float32)])\n",
        "def shrink(images):\n",
        "    print(\"트레이싱\", images)\n",
        "    return images[:, ::2, ::2] # 행과 열의 절반을 버립니다"
      ],
      "execution_count": 64,
      "outputs": []
    },
    {
      "cell_type": "code",
      "metadata": {
        "execution": {
          "iopub.execute_input": "2021-07-04T08:18:12.313289Z",
          "iopub.status.busy": "2021-07-04T08:18:12.312167Z",
          "iopub.status.idle": "2021-07-04T08:18:12.321014Z",
          "shell.execute_reply": "2021-07-04T08:18:12.320129Z"
        },
        "id": "ZanELluPJCDU"
      },
      "source": [
        "keras.backend.clear_session()\n",
        "np.random.seed(42)\n",
        "tf.random.set_seed(42)"
      ],
      "execution_count": 65,
      "outputs": []
    },
    {
      "cell_type": "code",
      "metadata": {
        "execution": {
          "iopub.execute_input": "2021-07-04T08:18:12.331311Z",
          "iopub.status.busy": "2021-07-04T08:18:12.330246Z",
          "iopub.status.idle": "2021-07-04T08:18:12.411510Z",
          "shell.execute_reply": "2021-07-04T08:18:12.412508Z"
        },
        "id": "vaJJI61MJCDU",
        "outputId": "8c6cbc4b-5612-4ddc-a798-29a6530b8678",
        "colab": {
          "base_uri": "https://localhost:8080/"
        }
      },
      "source": [
        "img_batch_1 = tf.random.uniform(shape=[100, 28, 28])\n",
        "img_batch_2 = tf.random.uniform(shape=[50, 28, 28])\n",
        "preprocessed_images = shrink(img_batch_1) # 함수 트레이싱\n",
        "preprocessed_images = shrink(img_batch_2) # 동일한 콘크리트 함수 재사용"
      ],
      "execution_count": 66,
      "outputs": [
        {
          "output_type": "stream",
          "text": [
            "트레이싱 Tensor(\"images:0\", shape=(None, 28, 28), dtype=float32)\n"
          ],
          "name": "stdout"
        }
      ]
    },
    {
      "cell_type": "code",
      "metadata": {
        "execution": {
          "iopub.execute_input": "2021-07-04T08:18:12.421961Z",
          "iopub.status.busy": "2021-07-04T08:18:12.420578Z",
          "iopub.status.idle": "2021-07-04T08:18:12.427046Z",
          "shell.execute_reply": "2021-07-04T08:18:12.427918Z"
        },
        "id": "eyFDyJCoJCDU",
        "outputId": "fa39c2e5-f6d0-4bf8-862b-250f349ad329",
        "colab": {
          "base_uri": "https://localhost:8080/"
        }
      },
      "source": [
        "img_batch_3 = tf.random.uniform(shape=[2, 2, 2])\n",
        "try:\n",
        "    preprocessed_images = shrink(img_batch_3)  # 다른 타입이나 크기 거부\n",
        "except ValueError as ex:\n",
        "    print(ex)"
      ],
      "execution_count": 67,
      "outputs": [
        {
          "output_type": "stream",
          "text": [
            "Python inputs incompatible with input_signature:\n",
            "  inputs: (\n",
            "    tf.Tensor(\n",
            "[[[0.7413678  0.62854624]\n",
            "  [0.01738465 0.3431449 ]]\n",
            "\n",
            " [[0.51063764 0.3777541 ]\n",
            "  [0.07321596 0.02137029]]], shape=(2, 2, 2), dtype=float32))\n",
            "  input_signature: (\n",
            "    TensorSpec(shape=(None, 28, 28), dtype=tf.float32, name=None))\n"
          ],
          "name": "stdout"
        }
      ]
    },
    {
      "cell_type": "markdown",
      "metadata": {
        "id": "pqhw1drlJCDU"
      },
      "source": [
        "### 오토그래프를 사용해 제어 흐름 나타내기"
      ]
    },
    {
      "cell_type": "markdown",
      "metadata": {
        "id": "ESyXYgd2JCDU"
      },
      "source": [
        "`range()`를  사용한 정적인 `for` 반복:"
      ]
    },
    {
      "cell_type": "code",
      "metadata": {
        "execution": {
          "iopub.execute_input": "2021-07-04T08:18:12.437138Z",
          "iopub.status.busy": "2021-07-04T08:18:12.436013Z",
          "iopub.status.idle": "2021-07-04T08:18:12.439787Z",
          "shell.execute_reply": "2021-07-04T08:18:12.440708Z"
        },
        "id": "7sBsUDJfJCDU"
      },
      "source": [
        "@tf.function\n",
        "def add_10(x):\n",
        "    for i in range(10):\n",
        "        x += 1\n",
        "    return x"
      ],
      "execution_count": 68,
      "outputs": []
    },
    {
      "cell_type": "code",
      "metadata": {
        "execution": {
          "iopub.execute_input": "2021-07-04T08:18:12.453379Z",
          "iopub.status.busy": "2021-07-04T08:18:12.448072Z",
          "iopub.status.idle": "2021-07-04T08:18:12.573527Z",
          "shell.execute_reply": "2021-07-04T08:18:12.574425Z"
        },
        "id": "gbDRpOPFJCDU",
        "outputId": "7086d026-6550-434b-d223-e8a8c3bd560e",
        "colab": {
          "base_uri": "https://localhost:8080/"
        }
      },
      "source": [
        "add_10(tf.constant(5))"
      ],
      "execution_count": 69,
      "outputs": [
        {
          "output_type": "execute_result",
          "data": {
            "text/plain": [
              "<tf.Tensor: shape=(), dtype=int32, numpy=15>"
            ]
          },
          "metadata": {
            "tags": []
          },
          "execution_count": 69
        }
      ]
    },
    {
      "cell_type": "code",
      "metadata": {
        "execution": {
          "iopub.execute_input": "2021-07-04T08:18:12.585088Z",
          "iopub.status.busy": "2021-07-04T08:18:12.583963Z",
          "iopub.status.idle": "2021-07-04T08:18:12.589061Z",
          "shell.execute_reply": "2021-07-04T08:18:12.590033Z"
        },
        "id": "Uv-wRz5HJCDU",
        "outputId": "a613de5a-f7a5-403d-8a56-a22e1da4d1c4",
        "colab": {
          "base_uri": "https://localhost:8080/"
        }
      },
      "source": [
        "add_10.get_concrete_function(tf.constant(5)).graph.get_operations()"
      ],
      "execution_count": 70,
      "outputs": [
        {
          "output_type": "execute_result",
          "data": {
            "text/plain": [
              "[<tf.Operation 'x' type=Placeholder>,\n",
              " <tf.Operation 'add/y' type=Const>,\n",
              " <tf.Operation 'add' type=AddV2>,\n",
              " <tf.Operation 'add_1/y' type=Const>,\n",
              " <tf.Operation 'add_1' type=AddV2>,\n",
              " <tf.Operation 'add_2/y' type=Const>,\n",
              " <tf.Operation 'add_2' type=AddV2>,\n",
              " <tf.Operation 'add_3/y' type=Const>,\n",
              " <tf.Operation 'add_3' type=AddV2>,\n",
              " <tf.Operation 'add_4/y' type=Const>,\n",
              " <tf.Operation 'add_4' type=AddV2>,\n",
              " <tf.Operation 'add_5/y' type=Const>,\n",
              " <tf.Operation 'add_5' type=AddV2>,\n",
              " <tf.Operation 'add_6/y' type=Const>,\n",
              " <tf.Operation 'add_6' type=AddV2>,\n",
              " <tf.Operation 'add_7/y' type=Const>,\n",
              " <tf.Operation 'add_7' type=AddV2>,\n",
              " <tf.Operation 'add_8/y' type=Const>,\n",
              " <tf.Operation 'add_8' type=AddV2>,\n",
              " <tf.Operation 'add_9/y' type=Const>,\n",
              " <tf.Operation 'add_9' type=AddV2>,\n",
              " <tf.Operation 'Identity' type=Identity>]"
            ]
          },
          "metadata": {
            "tags": []
          },
          "execution_count": 70
        }
      ]
    },
    {
      "cell_type": "markdown",
      "metadata": {
        "id": "aG0J2ZEQJCDU"
      },
      "source": [
        "`tf.while_loop()`를 사용한 동적인 반복:"
      ]
    },
    {
      "cell_type": "code",
      "metadata": {
        "execution": {
          "iopub.execute_input": "2021-07-04T08:18:12.602151Z",
          "iopub.status.busy": "2021-07-04T08:18:12.600905Z",
          "iopub.status.idle": "2021-07-04T08:18:12.604577Z",
          "shell.execute_reply": "2021-07-04T08:18:12.605453Z"
        },
        "id": "dmjYtojrJCDU"
      },
      "source": [
        "@tf.function\n",
        "def add_10(x):\n",
        "    condition = lambda i, x: tf.less(i, 10)\n",
        "    body = lambda i, x: (tf.add(i, 1), tf.add(x, 1))\n",
        "    final_i, final_x = tf.while_loop(condition, body, [tf.constant(0), x])\n",
        "    return final_x"
      ],
      "execution_count": 71,
      "outputs": []
    },
    {
      "cell_type": "code",
      "metadata": {
        "execution": {
          "iopub.execute_input": "2021-07-04T08:18:12.613134Z",
          "iopub.status.busy": "2021-07-04T08:18:12.612020Z",
          "iopub.status.idle": "2021-07-04T08:18:12.782863Z",
          "shell.execute_reply": "2021-07-04T08:18:12.784125Z"
        },
        "id": "jM29Hv17JCDU",
        "outputId": "1e3b494d-177c-4539-809d-c6797f975e28",
        "colab": {
          "base_uri": "https://localhost:8080/"
        }
      },
      "source": [
        "add_10(tf.constant(5))"
      ],
      "execution_count": 72,
      "outputs": [
        {
          "output_type": "execute_result",
          "data": {
            "text/plain": [
              "<tf.Tensor: shape=(), dtype=int32, numpy=15>"
            ]
          },
          "metadata": {
            "tags": []
          },
          "execution_count": 72
        }
      ]
    },
    {
      "cell_type": "code",
      "metadata": {
        "execution": {
          "iopub.execute_input": "2021-07-04T08:18:12.794353Z",
          "iopub.status.busy": "2021-07-04T08:18:12.793301Z",
          "iopub.status.idle": "2021-07-04T08:18:12.797961Z",
          "shell.execute_reply": "2021-07-04T08:18:12.798894Z"
        },
        "id": "iNQ837HJJCDU",
        "outputId": "949bcf76-866b-4965-f7c7-4c9fe760cd47",
        "colab": {
          "base_uri": "https://localhost:8080/"
        }
      },
      "source": [
        "add_10.get_concrete_function(tf.constant(5)).graph.get_operations()"
      ],
      "execution_count": 73,
      "outputs": [
        {
          "output_type": "execute_result",
          "data": {
            "text/plain": [
              "[<tf.Operation 'x' type=Placeholder>,\n",
              " <tf.Operation 'Const' type=Const>,\n",
              " <tf.Operation 'while/maximum_iterations' type=Const>,\n",
              " <tf.Operation 'while/loop_counter' type=Const>,\n",
              " <tf.Operation 'while' type=StatelessWhile>,\n",
              " <tf.Operation 'Identity' type=Identity>]"
            ]
          },
          "metadata": {
            "tags": []
          },
          "execution_count": 73
        }
      ]
    },
    {
      "cell_type": "markdown",
      "metadata": {
        "id": "ZIBXCNr3JCDV"
      },
      "source": [
        "(오토그래프에 의한) `tf.range()`를 사용한 동적인 `for` 반복:"
      ]
    },
    {
      "cell_type": "code",
      "metadata": {
        "execution": {
          "iopub.execute_input": "2021-07-04T08:18:12.808335Z",
          "iopub.status.busy": "2021-07-04T08:18:12.807158Z",
          "iopub.status.idle": "2021-07-04T08:18:12.810195Z",
          "shell.execute_reply": "2021-07-04T08:18:12.811112Z"
        },
        "id": "DnyHDxfCJCDV"
      },
      "source": [
        "@tf.function\n",
        "def add_10(x):\n",
        "    for i in tf.range(10):\n",
        "        x = x + 1\n",
        "    return x"
      ],
      "execution_count": 74,
      "outputs": []
    },
    {
      "cell_type": "code",
      "metadata": {
        "execution": {
          "iopub.execute_input": "2021-07-04T08:18:12.819555Z",
          "iopub.status.busy": "2021-07-04T08:18:12.818460Z",
          "iopub.status.idle": "2021-07-04T08:18:12.935210Z",
          "shell.execute_reply": "2021-07-04T08:18:12.936071Z"
        },
        "id": "hcAwmPhgJCDV",
        "outputId": "8de87ca1-7725-4242-ba40-f82ed8fdd2cf",
        "colab": {
          "base_uri": "https://localhost:8080/"
        }
      },
      "source": [
        "add_10.get_concrete_function(tf.constant(0)).graph.get_operations()"
      ],
      "execution_count": 75,
      "outputs": [
        {
          "output_type": "execute_result",
          "data": {
            "text/plain": [
              "[<tf.Operation 'x' type=Placeholder>,\n",
              " <tf.Operation 'range/start' type=Const>,\n",
              " <tf.Operation 'range/limit' type=Const>,\n",
              " <tf.Operation 'range/delta' type=Const>,\n",
              " <tf.Operation 'range' type=Range>,\n",
              " <tf.Operation 'sub' type=Sub>,\n",
              " <tf.Operation 'floordiv' type=FloorDiv>,\n",
              " <tf.Operation 'mod' type=FloorMod>,\n",
              " <tf.Operation 'zeros_like' type=Const>,\n",
              " <tf.Operation 'NotEqual' type=NotEqual>,\n",
              " <tf.Operation 'Cast' type=Cast>,\n",
              " <tf.Operation 'add' type=AddV2>,\n",
              " <tf.Operation 'zeros_like_1' type=Const>,\n",
              " <tf.Operation 'Maximum' type=Maximum>,\n",
              " <tf.Operation 'while/maximum_iterations' type=Const>,\n",
              " <tf.Operation 'while/loop_counter' type=Const>,\n",
              " <tf.Operation 'while' type=StatelessWhile>,\n",
              " <tf.Operation 'Identity' type=Identity>]"
            ]
          },
          "metadata": {
            "tags": []
          },
          "execution_count": 75
        }
      ]
    },
    {
      "cell_type": "markdown",
      "metadata": {
        "id": "S6k7MO1wJCDV"
      },
      "source": [
        "### TF 함수에서 변수와 다른 자원 다루기"
      ]
    },
    {
      "cell_type": "code",
      "metadata": {
        "execution": {
          "iopub.execute_input": "2021-07-04T08:18:12.943690Z",
          "iopub.status.busy": "2021-07-04T08:18:12.942848Z",
          "iopub.status.idle": "2021-07-04T08:18:12.948164Z",
          "shell.execute_reply": "2021-07-04T08:18:12.949454Z"
        },
        "id": "M6QWYlG5JCDV"
      },
      "source": [
        "counter = tf.Variable(0)\n",
        "\n",
        "@tf.function\n",
        "def increment(counter, c=1):\n",
        "    return counter.assign_add(c)"
      ],
      "execution_count": 76,
      "outputs": []
    },
    {
      "cell_type": "code",
      "metadata": {
        "execution": {
          "iopub.execute_input": "2021-07-04T08:18:12.962500Z",
          "iopub.status.busy": "2021-07-04T08:18:12.957913Z",
          "iopub.status.idle": "2021-07-04T08:18:13.026064Z",
          "shell.execute_reply": "2021-07-04T08:18:13.026933Z"
        },
        "id": "unZ0aDbaJCDV",
        "outputId": "5c0ad9a4-eaf7-4346-93e0-18c88d1b4149",
        "colab": {
          "base_uri": "https://localhost:8080/"
        }
      },
      "source": [
        "increment(counter)\n",
        "increment(counter)"
      ],
      "execution_count": 77,
      "outputs": [
        {
          "output_type": "execute_result",
          "data": {
            "text/plain": [
              "<tf.Tensor: shape=(), dtype=int32, numpy=2>"
            ]
          },
          "metadata": {
            "tags": []
          },
          "execution_count": 77
        }
      ]
    },
    {
      "cell_type": "code",
      "metadata": {
        "execution": {
          "iopub.execute_input": "2021-07-04T08:18:13.034814Z",
          "iopub.status.busy": "2021-07-04T08:18:13.033671Z",
          "iopub.status.idle": "2021-07-04T08:18:13.038954Z",
          "shell.execute_reply": "2021-07-04T08:18:13.037986Z"
        },
        "id": "OieDK81EJCDV",
        "outputId": "5ddff6fe-8db7-4a9f-cbfa-22fc2556a8b5",
        "colab": {
          "base_uri": "https://localhost:8080/"
        }
      },
      "source": [
        "function_def = increment.get_concrete_function(counter).function_def\n",
        "function_def.signature.input_arg[0]"
      ],
      "execution_count": 78,
      "outputs": [
        {
          "output_type": "execute_result",
          "data": {
            "text/plain": [
              "name: \"counter\"\n",
              "type: DT_RESOURCE"
            ]
          },
          "metadata": {
            "tags": []
          },
          "execution_count": 78
        }
      ]
    },
    {
      "cell_type": "code",
      "metadata": {
        "execution": {
          "iopub.execute_input": "2021-07-04T08:18:13.047553Z",
          "iopub.status.busy": "2021-07-04T08:18:13.046451Z",
          "iopub.status.idle": "2021-07-04T08:18:13.050503Z",
          "shell.execute_reply": "2021-07-04T08:18:13.051315Z"
        },
        "id": "ZrW1p8HhJCDV"
      },
      "source": [
        "counter = tf.Variable(0)\n",
        "\n",
        "@tf.function\n",
        "def increment(c=1):\n",
        "    return counter.assign_add(c)"
      ],
      "execution_count": 79,
      "outputs": []
    },
    {
      "cell_type": "code",
      "metadata": {
        "execution": {
          "iopub.execute_input": "2021-07-04T08:18:13.062532Z",
          "iopub.status.busy": "2021-07-04T08:18:13.061357Z",
          "iopub.status.idle": "2021-07-04T08:18:13.124305Z",
          "shell.execute_reply": "2021-07-04T08:18:13.125231Z"
        },
        "id": "PTZdlUXUJCDV",
        "outputId": "fc7ae2fd-f858-4e29-975b-d323babef35d",
        "colab": {
          "base_uri": "https://localhost:8080/"
        }
      },
      "source": [
        "increment()\n",
        "increment()"
      ],
      "execution_count": 80,
      "outputs": [
        {
          "output_type": "execute_result",
          "data": {
            "text/plain": [
              "<tf.Tensor: shape=(), dtype=int32, numpy=2>"
            ]
          },
          "metadata": {
            "tags": []
          },
          "execution_count": 80
        }
      ]
    },
    {
      "cell_type": "code",
      "metadata": {
        "execution": {
          "iopub.execute_input": "2021-07-04T08:18:13.132651Z",
          "iopub.status.busy": "2021-07-04T08:18:13.131477Z",
          "iopub.status.idle": "2021-07-04T08:18:13.135757Z",
          "shell.execute_reply": "2021-07-04T08:18:13.136623Z"
        },
        "id": "a2_aI5p3JCDV",
        "outputId": "3d6462ce-c8d8-4174-9020-204a30a8a494",
        "colab": {
          "base_uri": "https://localhost:8080/"
        }
      },
      "source": [
        "function_def = increment.get_concrete_function().function_def\n",
        "function_def.signature.input_arg[0]"
      ],
      "execution_count": 81,
      "outputs": [
        {
          "output_type": "execute_result",
          "data": {
            "text/plain": [
              "name: \"assignaddvariableop_resource\"\n",
              "type: DT_RESOURCE"
            ]
          },
          "metadata": {
            "tags": []
          },
          "execution_count": 81
        }
      ]
    },
    {
      "cell_type": "code",
      "metadata": {
        "execution": {
          "iopub.execute_input": "2021-07-04T08:18:13.146041Z",
          "iopub.status.busy": "2021-07-04T08:18:13.144979Z",
          "iopub.status.idle": "2021-07-04T08:18:13.148372Z",
          "shell.execute_reply": "2021-07-04T08:18:13.149229Z"
        },
        "id": "P9gT93dYJCDV"
      },
      "source": [
        "class Counter:\n",
        "    def __init__(self):\n",
        "        self.counter = tf.Variable(0)\n",
        "\n",
        "    @tf.function\n",
        "    def increment(self, c=1):\n",
        "        return self.counter.assign_add(c)"
      ],
      "execution_count": 82,
      "outputs": []
    },
    {
      "cell_type": "code",
      "metadata": {
        "execution": {
          "iopub.execute_input": "2021-07-04T08:18:13.156955Z",
          "iopub.status.busy": "2021-07-04T08:18:13.155860Z",
          "iopub.status.idle": "2021-07-04T08:18:13.225991Z",
          "shell.execute_reply": "2021-07-04T08:18:13.227379Z"
        },
        "id": "ur5Or8a4JCDV",
        "outputId": "2f67e685-b0cf-4f42-b2df-936a6ce98cbf",
        "colab": {
          "base_uri": "https://localhost:8080/"
        }
      },
      "source": [
        "c = Counter()\n",
        "c.increment()\n",
        "c.increment()"
      ],
      "execution_count": 83,
      "outputs": [
        {
          "output_type": "execute_result",
          "data": {
            "text/plain": [
              "<tf.Tensor: shape=(), dtype=int32, numpy=2>"
            ]
          },
          "metadata": {
            "tags": []
          },
          "execution_count": 83
        }
      ]
    },
    {
      "cell_type": "code",
      "metadata": {
        "execution": {
          "iopub.execute_input": "2021-07-04T08:18:13.239411Z",
          "iopub.status.busy": "2021-07-04T08:18:13.238495Z",
          "iopub.status.idle": "2021-07-04T08:18:13.324707Z",
          "shell.execute_reply": "2021-07-04T08:18:13.323426Z"
        },
        "scrolled": true,
        "id": "9OR6ivRlJCDV",
        "outputId": "d7b8c1ac-fa20-4cb7-d9dc-f8203807ca6b",
        "colab": {
          "base_uri": "https://localhost:8080/"
        }
      },
      "source": [
        "@tf.function\n",
        "def add_10(x):\n",
        "    for i in tf.range(10):\n",
        "        x += 1\n",
        "    return x\n",
        "\n",
        "print(tf.autograph.to_code(add_10.python_function))"
      ],
      "execution_count": 84,
      "outputs": [
        {
          "output_type": "stream",
          "text": [
            "def tf__add(x):\n",
            "    with ag__.FunctionScope('add_10', 'fscope', ag__.ConversionOptions(recursive=True, user_requested=True, optional_features=(), internal_convert_user_code=True)) as fscope:\n",
            "        do_return = False\n",
            "        retval_ = ag__.UndefinedReturnValue()\n",
            "\n",
            "        def get_state():\n",
            "            return (x,)\n",
            "\n",
            "        def set_state(vars_):\n",
            "            nonlocal x\n",
            "            (x,) = vars_\n",
            "\n",
            "        def loop_body(itr):\n",
            "            nonlocal x\n",
            "            i = itr\n",
            "            x = ag__.ld(x)\n",
            "            x += 1\n",
            "        i = ag__.Undefined('i')\n",
            "        ag__.for_stmt(ag__.converted_call(ag__.ld(tf).range, (10,), None, fscope), None, loop_body, get_state, set_state, ('x',), {'iterate_names': 'i'})\n",
            "        try:\n",
            "            do_return = True\n",
            "            retval_ = ag__.ld(x)\n",
            "        except:\n",
            "            do_return = False\n",
            "            raise\n",
            "        return fscope.ret(retval_, do_return)\n",
            "\n"
          ],
          "name": "stdout"
        }
      ]
    },
    {
      "cell_type": "code",
      "metadata": {
        "execution": {
          "iopub.execute_input": "2021-07-04T08:18:13.335064Z",
          "iopub.status.busy": "2021-07-04T08:18:13.333311Z",
          "iopub.status.idle": "2021-07-04T08:18:13.336906Z",
          "shell.execute_reply": "2021-07-04T08:18:13.338368Z"
        },
        "id": "FH8EJI0jJCDV"
      },
      "source": [
        "def display_tf_code(func):\n",
        "    from IPython.display import display, Markdown\n",
        "    if hasattr(func, \"python_function\"):\n",
        "        func = func.python_function\n",
        "    code = tf.autograph.to_code(func)\n",
        "    display(Markdown('```python\\n{}\\n```'.format(code)))"
      ],
      "execution_count": 85,
      "outputs": []
    },
    {
      "cell_type": "code",
      "metadata": {
        "execution": {
          "iopub.execute_input": "2021-07-04T08:18:13.351151Z",
          "iopub.status.busy": "2021-07-04T08:18:13.349941Z",
          "iopub.status.idle": "2021-07-04T08:18:13.355816Z",
          "shell.execute_reply": "2021-07-04T08:18:13.356679Z"
        },
        "id": "-MRGlhAZJCDV",
        "outputId": "af603c81-6862-4751-8a7e-d13dd1eee73c",
        "colab": {
          "base_uri": "https://localhost:8080/",
          "height": 479
        }
      },
      "source": [
        "display_tf_code(add_10)"
      ],
      "execution_count": 86,
      "outputs": [
        {
          "output_type": "display_data",
          "data": {
            "text/markdown": "```python\ndef tf__add(x):\n    with ag__.FunctionScope('add_10', 'fscope', ag__.ConversionOptions(recursive=True, user_requested=True, optional_features=(), internal_convert_user_code=True)) as fscope:\n        do_return = False\n        retval_ = ag__.UndefinedReturnValue()\n\n        def get_state():\n            return (x,)\n\n        def set_state(vars_):\n            nonlocal x\n            (x,) = vars_\n\n        def loop_body(itr):\n            nonlocal x\n            i = itr\n            x = ag__.ld(x)\n            x += 1\n        i = ag__.Undefined('i')\n        ag__.for_stmt(ag__.converted_call(ag__.ld(tf).range, (10,), None, fscope), None, loop_body, get_state, set_state, ('x',), {'iterate_names': 'i'})\n        try:\n            do_return = True\n            retval_ = ag__.ld(x)\n        except:\n            do_return = False\n            raise\n        return fscope.ret(retval_, do_return)\n\n```",
            "text/plain": [
              "<IPython.core.display.Markdown object>"
            ]
          },
          "metadata": {
            "tags": []
          }
        }
      ]
    },
    {
      "cell_type": "markdown",
      "metadata": {
        "id": "IxnG2A0QJCDW"
      },
      "source": [
        "## tf.keras와 TF 함수를 함께 사용하거나 사용하지 않기"
      ]
    },
    {
      "cell_type": "markdown",
      "metadata": {
        "id": "bRnCA3SzJCDW"
      },
      "source": [
        "기본적으로 tf.keras는 자동으로 사용자 정의 코드를 TF 함수로 변환하기 때문에 `tf.function()`을 사용할 필요가 없습니다:"
      ]
    },
    {
      "cell_type": "code",
      "metadata": {
        "execution": {
          "iopub.execute_input": "2021-07-04T08:18:13.364674Z",
          "iopub.status.busy": "2021-07-04T08:18:13.363574Z",
          "iopub.status.idle": "2021-07-04T08:18:13.366662Z",
          "shell.execute_reply": "2021-07-04T08:18:13.367470Z"
        },
        "id": "BE7O1jEKJCDW"
      },
      "source": [
        "# 사용자 손실 함수\n",
        "def my_mse(y_true, y_pred):\n",
        "    print(\"my_mse() 손실 트레이싱\")\n",
        "    return tf.reduce_mean(tf.square(y_pred - y_true))"
      ],
      "execution_count": null,
      "outputs": []
    },
    {
      "cell_type": "code",
      "metadata": {
        "execution": {
          "iopub.execute_input": "2021-07-04T08:18:13.375494Z",
          "iopub.status.busy": "2021-07-04T08:18:13.374453Z",
          "iopub.status.idle": "2021-07-04T08:18:13.377935Z",
          "shell.execute_reply": "2021-07-04T08:18:13.378800Z"
        },
        "id": "SHe6wCY0JCDW"
      },
      "source": [
        "# 사용자 지표 함수\n",
        "def my_mae(y_true, y_pred):\n",
        "    print(\"my_mae() 지표 트레이싱\")\n",
        "    return tf.reduce_mean(tf.abs(y_pred - y_true))"
      ],
      "execution_count": null,
      "outputs": []
    },
    {
      "cell_type": "code",
      "metadata": {
        "execution": {
          "iopub.execute_input": "2021-07-04T08:18:13.395747Z",
          "iopub.status.busy": "2021-07-04T08:18:13.394310Z",
          "iopub.status.idle": "2021-07-04T08:18:13.397704Z",
          "shell.execute_reply": "2021-07-04T08:18:13.398856Z"
        },
        "id": "33KReKJBJCDW"
      },
      "source": [
        "# 사용자 정의 층\n",
        "class MyDense(keras.layers.Layer):\n",
        "    def __init__(self, units, activation=None, **kwargs):\n",
        "        super().__init__(**kwargs)\n",
        "        self.units = units\n",
        "        self.activation = keras.activations.get(activation)\n",
        "\n",
        "    def build(self, input_shape):\n",
        "        self.kernel = self.add_weight(name='kernel', \n",
        "                                      shape=(input_shape[1], self.units),\n",
        "                                      initializer='uniform',\n",
        "                                      trainable=True)\n",
        "        self.biases = self.add_weight(name='bias', \n",
        "                                      shape=(self.units,),\n",
        "                                      initializer='zeros',\n",
        "                                      trainable=True)\n",
        "        super().build(input_shape)\n",
        "\n",
        "    def call(self, X):\n",
        "        print(\"MyDense.call() 트레이싱\")\n",
        "        return self.activation(X @ self.kernel + self.biases)"
      ],
      "execution_count": null,
      "outputs": []
    },
    {
      "cell_type": "code",
      "metadata": {
        "execution": {
          "iopub.execute_input": "2021-07-04T08:18:13.406507Z",
          "iopub.status.busy": "2021-07-04T08:18:13.405319Z",
          "iopub.status.idle": "2021-07-04T08:18:13.410643Z",
          "shell.execute_reply": "2021-07-04T08:18:13.411398Z"
        },
        "id": "ymm0sQZzJCDW"
      },
      "source": [
        "keras.backend.clear_session()\n",
        "np.random.seed(42)\n",
        "tf.random.set_seed(42)"
      ],
      "execution_count": null,
      "outputs": []
    },
    {
      "cell_type": "code",
      "metadata": {
        "execution": {
          "iopub.execute_input": "2021-07-04T08:18:13.428336Z",
          "iopub.status.busy": "2021-07-04T08:18:13.427336Z",
          "iopub.status.idle": "2021-07-04T08:18:13.436439Z",
          "shell.execute_reply": "2021-07-04T08:18:13.437426Z"
        },
        "id": "GKvUazswJCDW"
      },
      "source": [
        "# 사용자 정의 모델\n",
        "class MyModel(keras.models.Model):\n",
        "    def __init__(self, **kwargs):\n",
        "        super().__init__(**kwargs)\n",
        "        self.hidden1 = MyDense(30, activation=\"relu\")\n",
        "        self.hidden2 = MyDense(30, activation=\"relu\")\n",
        "        self.output_ = MyDense(1)\n",
        "\n",
        "    def call(self, input):\n",
        "        print(\"MyModel.call() 트레이싱\")\n",
        "        hidden1 = self.hidden1(input)\n",
        "        hidden2 = self.hidden2(hidden1)\n",
        "        concat = keras.layers.concatenate([input, hidden2])\n",
        "        output = self.output_(concat)\n",
        "        return output\n",
        "\n",
        "model = MyModel()"
      ],
      "execution_count": null,
      "outputs": []
    },
    {
      "cell_type": "code",
      "metadata": {
        "execution": {
          "iopub.execute_input": "2021-07-04T08:18:13.455504Z",
          "iopub.status.busy": "2021-07-04T08:18:13.454006Z",
          "iopub.status.idle": "2021-07-04T08:18:13.461364Z",
          "shell.execute_reply": "2021-07-04T08:18:13.460118Z"
        },
        "id": "1VSWlzWKJCDW"
      },
      "source": [
        "model.compile(loss=my_mse, optimizer=\"nadam\", metrics=[my_mae])"
      ],
      "execution_count": null,
      "outputs": []
    },
    {
      "cell_type": "code",
      "metadata": {
        "execution": {
          "iopub.execute_input": "2021-07-04T08:18:13.469768Z",
          "iopub.status.busy": "2021-07-04T08:18:13.468230Z",
          "iopub.status.idle": "2021-07-04T08:18:18.848304Z",
          "shell.execute_reply": "2021-07-04T08:18:18.849388Z"
        },
        "id": "hc1laTiaJCDW",
        "outputId": "0b606af1-140d-463c-8058-6303b7c4c7e1"
      },
      "source": [
        "model.fit(X_train_scaled, y_train, epochs=2,\n",
        "          validation_data=(X_valid_scaled, y_valid))\n",
        "model.evaluate(X_test_scaled, y_test)"
      ],
      "execution_count": null,
      "outputs": [
        {
          "output_type": "stream",
          "text": [
            "Epoch 1/2\n",
            "MyModel.call() 트레이싱\n",
            "MyDense.call() 트레이싱\n",
            "MyDense.call() 트레이싱\n",
            "MyDense.call() 트레이싱\n",
            "my_mse() 손실 트레이싱\n",
            "my_mae() 지표 트레이싱\n",
            "MyModel.call() 트레이싱\n",
            "MyDense.call() 트레이싱\n",
            "MyDense.call() 트레이싱\n",
            "MyDense.call() 트레이싱\n",
            "my_mse() 손실 트레이싱\n",
            "my_mae() 지표 트레이싱\n",
            "352/363 [============================>.] - ETA: 0s - loss: 2.8246 - my_mae: 1.2610MyModel.call() 트레이싱\n",
            "MyDense.call() 트레이싱\n",
            "MyDense.call() 트레이싱\n",
            "MyDense.call() 트레이싱\n",
            "my_mse() 손실 트레이싱\n",
            "my_mae() 지표 트레이싱\n",
            "363/363 [==============================] - 3s 6ms/step - loss: 2.7755 - my_mae: 1.2455 - val_loss: 0.5569 - val_my_mae: 0.4819\n",
            "Epoch 2/2\n",
            "363/363 [==============================] - 2s 5ms/step - loss: 0.4697 - my_mae: 0.4911 - val_loss: 0.4664 - val_my_mae: 0.4576\n",
            "162/162 [==============================] - 0s 2ms/step - loss: 0.4164 - my_mae: 0.4639\n"
          ],
          "name": "stdout"
        },
        {
          "output_type": "execute_result",
          "data": {
            "text/plain": [
              "[0.41635245084762573, 0.4639028012752533]"
            ]
          },
          "metadata": {
            "tags": []
          },
          "execution_count": 1
        }
      ]
    },
    {
      "cell_type": "markdown",
      "metadata": {
        "id": "qdHKqnKwJCDW"
      },
      "source": [
        "`dynamic=True`로 모델을 만들어 이 기능을 끌 수 있습니다(또는 모델의 생성자에서 `super().__init__(dynamic=True, **kwargs)`를 호출합니다):"
      ]
    },
    {
      "cell_type": "code",
      "metadata": {
        "execution": {
          "iopub.execute_input": "2021-07-04T08:18:18.858643Z",
          "iopub.status.busy": "2021-07-04T08:18:18.857470Z",
          "iopub.status.idle": "2021-07-04T08:18:18.866575Z",
          "shell.execute_reply": "2021-07-04T08:18:18.867385Z"
        },
        "id": "hgTpV-0KJCDW"
      },
      "source": [
        "keras.backend.clear_session()\n",
        "np.random.seed(42)\n",
        "tf.random.set_seed(42)"
      ],
      "execution_count": null,
      "outputs": []
    },
    {
      "cell_type": "code",
      "metadata": {
        "execution": {
          "iopub.execute_input": "2021-07-04T08:18:18.877147Z",
          "iopub.status.busy": "2021-07-04T08:18:18.875979Z",
          "iopub.status.idle": "2021-07-04T08:18:18.883340Z",
          "shell.execute_reply": "2021-07-04T08:18:18.884263Z"
        },
        "id": "a2aFIy44JCDX"
      },
      "source": [
        "model = MyModel(dynamic=True)"
      ],
      "execution_count": null,
      "outputs": []
    },
    {
      "cell_type": "code",
      "metadata": {
        "execution": {
          "iopub.execute_input": "2021-07-04T08:18:18.902153Z",
          "iopub.status.busy": "2021-07-04T08:18:18.900942Z",
          "iopub.status.idle": "2021-07-04T08:18:18.907182Z",
          "shell.execute_reply": "2021-07-04T08:18:18.908345Z"
        },
        "id": "oVCvwLUEJCDX"
      },
      "source": [
        "model.compile(loss=my_mse, optimizer=\"nadam\", metrics=[my_mae])"
      ],
      "execution_count": null,
      "outputs": []
    },
    {
      "cell_type": "markdown",
      "metadata": {
        "id": "XMuGlcRiJCDX"
      },
      "source": [
        "사용자 정의 코드는 반복마다 호출됩니다. 너무 많이 출력되는 것을 피하기 위해 작은 데이터셋으로 훈련, 검증, 평가해 보겠습니다:"
      ]
    },
    {
      "cell_type": "code",
      "metadata": {
        "execution": {
          "iopub.execute_input": "2021-07-04T08:18:18.918530Z",
          "iopub.status.busy": "2021-07-04T08:18:18.917237Z",
          "iopub.status.idle": "2021-07-04T08:18:19.275612Z",
          "shell.execute_reply": "2021-07-04T08:18:19.276677Z"
        },
        "id": "7tVg7WRcJCDX",
        "outputId": "7556b5a2-e2c6-4db7-9db4-c11d8628dc28"
      },
      "source": [
        "model.fit(X_train_scaled[:64], y_train[:64], epochs=1,\n",
        "          validation_data=(X_valid_scaled[:64], y_valid[:64]), verbose=0)\n",
        "model.evaluate(X_test_scaled[:64], y_test[:64], verbose=0)"
      ],
      "execution_count": null,
      "outputs": [
        {
          "output_type": "stream",
          "text": [
            "MyModel.call() 트레이싱\n",
            "MyDense.call() 트레이싱\n",
            "MyDense.call() 트레이싱\n",
            "MyDense.call() 트레이싱\n",
            "my_mse() 손실 트레이싱\n",
            "my_mae() 지표 트레이싱\n",
            "MyModel.call() 트레이싱\n",
            "MyDense.call() 트레이싱\n",
            "MyDense.call() 트레이싱\n",
            "MyDense.call() 트레이싱\n",
            "my_mse() 손실 트레이싱\n",
            "my_mae() 지표 트레이싱\n",
            "MyModel.call() 트레이싱\n",
            "MyDense.call() 트레이싱\n",
            "MyDense.call() 트레이싱\n",
            "MyDense.call() 트레이싱\n",
            "my_mse() 손실 트레이싱\n",
            "my_mae() 지표 트레이싱\n",
            "MyModel.call() 트레이싱\n",
            "MyDense.call() 트레이싱\n",
            "MyDense.call() 트레이싱\n",
            "MyDense.call() 트레이싱\n",
            "my_mse() 손실 트레이싱\n",
            "my_mae() 지표 트레이싱\n",
            "MyModel.call() 트레이싱\n",
            "MyDense.call() 트레이싱\n",
            "MyDense.call() 트레이싱\n",
            "MyDense.call() 트레이싱\n",
            "my_mse() 손실 트레이싱\n",
            "my_mae() 지표 트레이싱\n",
            "MyModel.call() 트레이싱\n",
            "MyDense.call() 트레이싱\n",
            "MyDense.call() 트레이싱\n",
            "MyDense.call() 트레이싱\n",
            "my_mse() 손실 트레이싱\n",
            "my_mae() 지표 트레이싱\n"
          ],
          "name": "stdout"
        },
        {
          "output_type": "execute_result",
          "data": {
            "text/plain": [
              "[5.507259368896484, 2.0566811561584473]"
            ]
          },
          "metadata": {
            "tags": []
          },
          "execution_count": 1
        }
      ]
    },
    {
      "cell_type": "markdown",
      "metadata": {
        "id": "841oaDMaJCDX"
      },
      "source": [
        "또는 모델을 컴파일할 때 `run_eagerly=True`를 지정합니다:"
      ]
    },
    {
      "cell_type": "code",
      "metadata": {
        "execution": {
          "iopub.execute_input": "2021-07-04T08:18:19.285647Z",
          "iopub.status.busy": "2021-07-04T08:18:19.284388Z",
          "iopub.status.idle": "2021-07-04T08:18:19.289539Z",
          "shell.execute_reply": "2021-07-04T08:18:19.290366Z"
        },
        "id": "VmDWCS8GJCDX"
      },
      "source": [
        "keras.backend.clear_session()\n",
        "np.random.seed(42)\n",
        "tf.random.set_seed(42)"
      ],
      "execution_count": null,
      "outputs": []
    },
    {
      "cell_type": "code",
      "metadata": {
        "execution": {
          "iopub.execute_input": "2021-07-04T08:18:19.300177Z",
          "iopub.status.busy": "2021-07-04T08:18:19.298916Z",
          "iopub.status.idle": "2021-07-04T08:18:19.306169Z",
          "shell.execute_reply": "2021-07-04T08:18:19.307159Z"
        },
        "id": "DxrjhDs9JCDX"
      },
      "source": [
        "model = MyModel()"
      ],
      "execution_count": null,
      "outputs": []
    },
    {
      "cell_type": "code",
      "metadata": {
        "execution": {
          "iopub.execute_input": "2021-07-04T08:18:19.323376Z",
          "iopub.status.busy": "2021-07-04T08:18:19.322345Z",
          "iopub.status.idle": "2021-07-04T08:18:19.330227Z",
          "shell.execute_reply": "2021-07-04T08:18:19.328987Z"
        },
        "id": "uKeeaQ3NJCDX"
      },
      "source": [
        "model.compile(loss=my_mse, optimizer=\"nadam\", metrics=[my_mae], run_eagerly=True)"
      ],
      "execution_count": null,
      "outputs": []
    },
    {
      "cell_type": "code",
      "metadata": {
        "execution": {
          "iopub.execute_input": "2021-07-04T08:18:19.339719Z",
          "iopub.status.busy": "2021-07-04T08:18:19.338131Z",
          "iopub.status.idle": "2021-07-04T08:18:19.687021Z",
          "shell.execute_reply": "2021-07-04T08:18:19.688268Z"
        },
        "id": "CZvAVXbBJCDX",
        "outputId": "d32e0179-25e6-4af7-b599-8f8b334240d0"
      },
      "source": [
        "model.fit(X_train_scaled[:64], y_train[:64], epochs=1,\n",
        "          validation_data=(X_valid_scaled[:64], y_valid[:64]), verbose=0)\n",
        "model.evaluate(X_test_scaled[:64], y_test[:64], verbose=0)"
      ],
      "execution_count": null,
      "outputs": [
        {
          "output_type": "stream",
          "text": [
            "MyModel.call() 트레이싱\n",
            "MyDense.call() 트레이싱\n",
            "MyDense.call() 트레이싱\n",
            "MyDense.call() 트레이싱\n",
            "my_mse() 손실 트레이싱\n",
            "my_mae() 지표 트레이싱\n",
            "MyModel.call() 트레이싱\n",
            "MyDense.call() 트레이싱\n",
            "MyDense.call() 트레이싱\n",
            "MyDense.call() 트레이싱\n",
            "my_mse() 손실 트레이싱\n",
            "my_mae() 지표 트레이싱\n",
            "MyModel.call() 트레이싱\n",
            "MyDense.call() 트레이싱\n",
            "MyDense.call() 트레이싱\n",
            "MyDense.call() 트레이싱\n",
            "my_mse() 손실 트레이싱\n",
            "my_mae() 지표 트레이싱\n",
            "MyModel.call() 트레이싱\n",
            "MyDense.call() 트레이싱\n",
            "MyDense.call() 트레이싱\n",
            "MyDense.call() 트레이싱\n",
            "my_mse() 손실 트레이싱\n",
            "my_mae() 지표 트레이싱\n",
            "MyModel.call() 트레이싱\n",
            "MyDense.call() 트레이싱\n",
            "MyDense.call() 트레이싱\n",
            "MyDense.call() 트레이싱\n",
            "my_mse() 손실 트레이싱\n",
            "my_mae() 지표 트레이싱\n",
            "MyModel.call() 트레이싱\n",
            "MyDense.call() 트레이싱\n",
            "MyDense.call() 트레이싱\n",
            "MyDense.call() 트레이싱\n",
            "my_mse() 손실 트레이싱\n",
            "my_mae() 지표 트레이싱\n"
          ],
          "name": "stdout"
        },
        {
          "output_type": "execute_result",
          "data": {
            "text/plain": [
              "[5.507259368896484, 2.0566811561584473]"
            ]
          },
          "metadata": {
            "tags": []
          },
          "execution_count": 1
        }
      ]
    },
    {
      "cell_type": "markdown",
      "metadata": {
        "id": "lczsFkNVJCDX"
      },
      "source": [
        "## 사용자 정의 옵티마이저"
      ]
    },
    {
      "cell_type": "markdown",
      "metadata": {
        "id": "oC9qoR2lJCDX"
      },
      "source": [
        "사용자 정의 옵티마이저를 정의하는 것은 일반적이지 않습니다. 하지만 어쩔 수 없이 만들어야 하는 상황이라면 다음 예를 참고하세요:"
      ]
    },
    {
      "cell_type": "code",
      "metadata": {
        "execution": {
          "iopub.execute_input": "2021-07-04T08:18:19.712137Z",
          "iopub.status.busy": "2021-07-04T08:18:19.710793Z",
          "iopub.status.idle": "2021-07-04T08:18:19.713978Z",
          "shell.execute_reply": "2021-07-04T08:18:19.715041Z"
        },
        "id": "KiiklkFXJCDX"
      },
      "source": [
        "class MyMomentumOptimizer(keras.optimizers.Optimizer):\n",
        "    def __init__(self, learning_rate=0.001, momentum=0.9, name=\"MyMomentumOptimizer\", **kwargs):\n",
        "        \"\"\"super().__init__()를 호출하고 _set_hyper()를 사용해 하이퍼파라미터를 저장합니다\"\"\"\n",
        "        super().__init__(name, **kwargs)\n",
        "        self._set_hyper(\"learning_rate\", kwargs.get(\"lr\", learning_rate)) # lr=learning_rate을 처리\n",
        "        self._set_hyper(\"decay\", self._initial_decay) # \n",
        "        self._set_hyper(\"momentum\", momentum)\n",
        "    \n",
        "    def _create_slots(self, var_list):\n",
        "        \"\"\"모델 파라미터마다 연관된 옵티마이저 변수를 만듭니다.\n",
        "        텐서플로는 이런 옵티마이저 변수를 '슬롯'이라고 부릅니다.\n",
        "        모멘텀 옵티마이저에서는 모델 파라미터마다 하나의 모멘텀 슬롯이 필요합니다.\n",
        "        \"\"\"\n",
        "        for var in var_list:\n",
        "            self.add_slot(var, \"momentum\")\n",
        "\n",
        "    @tf.function\n",
        "    def _resource_apply_dense(self, grad, var):\n",
        "        \"\"\"슬롯을 업데이트하고 모델 파라미터에 대한 옵티마이저 스텝을 수행합니다.\n",
        "        \"\"\"\n",
        "        var_dtype = var.dtype.base_dtype\n",
        "        lr_t = self._decayed_lr(var_dtype) # 학습률 감쇠 처리\n",
        "        momentum_var = self.get_slot(var, \"momentum\")\n",
        "        momentum_hyper = self._get_hyper(\"momentum\", var_dtype)\n",
        "        momentum_var.assign(momentum_var * momentum_hyper - (1. - momentum_hyper)* grad)\n",
        "        var.assign_add(momentum_var * lr_t)\n",
        "\n",
        "    def _resource_apply_sparse(self, grad, var):\n",
        "        raise NotImplementedError\n",
        "\n",
        "    def get_config(self):\n",
        "        base_config = super().get_config()\n",
        "        return {\n",
        "            **base_config,\n",
        "            \"learning_rate\": self._serialize_hyperparameter(\"learning_rate\"),\n",
        "            \"decay\": self._serialize_hyperparameter(\"decay\"),\n",
        "            \"momentum\": self._serialize_hyperparameter(\"momentum\"),\n",
        "        }"
      ],
      "execution_count": null,
      "outputs": []
    },
    {
      "cell_type": "code",
      "metadata": {
        "execution": {
          "iopub.execute_input": "2021-07-04T08:18:19.723704Z",
          "iopub.status.busy": "2021-07-04T08:18:19.722551Z",
          "iopub.status.idle": "2021-07-04T08:18:19.727526Z",
          "shell.execute_reply": "2021-07-04T08:18:19.728330Z"
        },
        "id": "ITRbomH1JCDY"
      },
      "source": [
        "keras.backend.clear_session()\n",
        "np.random.seed(42)\n",
        "tf.random.set_seed(42)"
      ],
      "execution_count": null,
      "outputs": []
    },
    {
      "cell_type": "code",
      "metadata": {
        "execution": {
          "iopub.execute_input": "2021-07-04T08:18:19.741747Z",
          "iopub.status.busy": "2021-07-04T08:18:19.740680Z",
          "iopub.status.idle": "2021-07-04T08:18:24.082650Z",
          "shell.execute_reply": "2021-07-04T08:18:24.083732Z"
        },
        "scrolled": false,
        "id": "th30Y-2wJCDY",
        "outputId": "d77424d4-d1af-435f-fe55-712f138dc5b2"
      },
      "source": [
        "model = keras.models.Sequential([keras.layers.Dense(1, input_shape=[8])])\n",
        "model.compile(loss=\"mse\", optimizer=MyMomentumOptimizer())\n",
        "model.fit(X_train_scaled, y_train, epochs=5)"
      ],
      "execution_count": null,
      "outputs": [
        {
          "output_type": "stream",
          "text": [
            "Epoch 1/5\n",
            "363/363 [==============================] - 1s 2ms/step - loss: 4.9648\n",
            "Epoch 2/5\n",
            "363/363 [==============================] - 1s 2ms/step - loss: 1.7888\n",
            "Epoch 3/5\n",
            "363/363 [==============================] - 1s 2ms/step - loss: 1.0021\n",
            "Epoch 4/5\n",
            "363/363 [==============================] - 1s 2ms/step - loss: 0.7869\n",
            "Epoch 5/5\n",
            "363/363 [==============================] - 1s 2ms/step - loss: 0.7122\n"
          ],
          "name": "stdout"
        },
        {
          "output_type": "execute_result",
          "data": {
            "text/plain": [
              "<tensorflow.python.keras.callbacks.History at 0x7f35784c0af0>"
            ]
          },
          "metadata": {
            "tags": []
          },
          "execution_count": 1
        }
      ]
    },
    {
      "cell_type": "markdown",
      "metadata": {
        "id": "Cyj1AGe7JCDY"
      },
      "source": [
        "# 연습문제"
      ]
    },
    {
      "cell_type": "markdown",
      "metadata": {
        "id": "_eLZ2HKRJCDY"
      },
      "source": [
        "## 1. to 11.\n",
        "부록 A 참조."
      ]
    },
    {
      "cell_type": "markdown",
      "metadata": {
        "id": "zS6kg31jJCDY"
      },
      "source": [
        "# 12. _층 정규화_ 를 수행하는 사용자 정의 층을 구현하세요.\n",
        "\n",
        "_15장에서 순환 신경망을 사용할 때 이런 종류의 층을 사용합니다._"
      ]
    },
    {
      "cell_type": "markdown",
      "metadata": {
        "id": "vJY3Y3BHJCDY"
      },
      "source": [
        "### a.\n",
        "_문제: `build()` 메서드에서 두 개의 훈련 가능한 가중치 *α*와 *β*를 정의합니다. 두 가중치 모두 크기가 `input_shape[-1:]`이고 데이터 타입은 `tf.float32`입니다. *α*는 1로 초기화되고 *β*는 0으로 초기화되어야 합니다._"
      ]
    },
    {
      "cell_type": "markdown",
      "metadata": {
        "id": "YVmnZtEbJCDY"
      },
      "source": [
        "솔루션: 아래 참조."
      ]
    },
    {
      "cell_type": "markdown",
      "metadata": {
        "id": "_jLhclrxJCDY"
      },
      "source": [
        "### b.\n",
        "_문제: `call()` 메서드는 샘플의 특성마다 평균 μ와 표준편차 σ를 계산해야 합니다. 이를 위해 전체 샘플의 평균 μ와 분산 σ<sup>2</sup>을 반환하는 `tf.nn.moments(inputs, axes=-1, keepdims=True)`을 사용할 수 있습니다(분산의 제곱근으로 표준편차를 계산합니다). 그다음 *α*⊗(*X* - μ)/(σ + ε) + *β*를 계산하여 반환합니다. 여기에서 ⊗는 원소별\n",
        "곱셈(`*`)을 나타냅니다. ε은 안전을 위한 항입니다(0으로 나누어지는 것을 막기 위한 작은 상수. 예를 들면 0.001)._"
      ]
    },
    {
      "cell_type": "code",
      "metadata": {
        "execution": {
          "iopub.execute_input": "2021-07-04T08:18:24.104782Z",
          "iopub.status.busy": "2021-07-04T08:18:24.103721Z",
          "iopub.status.idle": "2021-07-04T08:18:24.107336Z",
          "shell.execute_reply": "2021-07-04T08:18:24.108585Z"
        },
        "id": "kETtcWYSJCDY"
      },
      "source": [
        "class LayerNormalization(keras.layers.Layer):\n",
        "    def __init__(self, eps=0.001, **kwargs):\n",
        "        super().__init__(**kwargs)\n",
        "        self.eps = eps\n",
        "\n",
        "    def build(self, batch_input_shape):\n",
        "        self.alpha = self.add_weight(\n",
        "            name=\"alpha\", shape=batch_input_shape[-1:],\n",
        "            initializer=\"ones\")\n",
        "        self.beta = self.add_weight(\n",
        "            name=\"beta\", shape=batch_input_shape[-1:],\n",
        "            initializer=\"zeros\")\n",
        "        super().build(batch_input_shape) # 반드시 끝에 와야 합니다\n",
        "\n",
        "    def call(self, X):\n",
        "        mean, variance = tf.nn.moments(X, axes=-1, keepdims=True)\n",
        "        return self.alpha * (X - mean) / (tf.sqrt(variance + self.eps)) + self.beta\n",
        "\n",
        "    def compute_output_shape(self, batch_input_shape):\n",
        "        return batch_input_shape\n",
        "\n",
        "    def get_config(self):\n",
        "        base_config = super().get_config()\n",
        "        return {**base_config, \"eps\": self.eps}"
      ],
      "execution_count": null,
      "outputs": []
    },
    {
      "cell_type": "markdown",
      "metadata": {
        "id": "1Z8dKULUJCDY"
      },
      "source": [
        "_ε_ 하이퍼파라미터(`eps`)는 필수가 아닙니다. 또한 `tf.sqrt(variance) + self.eps` 보다 `tf.sqrt(variance + self.eps)`를 계산하는 것이 좋습니다. sqrt(z)의 도함수는 z=0에서 정의되지 않기 때문에 분산 벡터의 한 원소가 0에 가까우면 훈련이 이리저리 널뜁니다. 제곱근 안에 _ε_를 넣으면 이런 현상을 방지할 수 있습니다."
      ]
    },
    {
      "cell_type": "markdown",
      "metadata": {
        "id": "lFUy_vMxJCDY"
      },
      "source": [
        "### c.\n",
        "_문제: 사용자 정의 층이 `keras.layers.LayerNormalization` 층과 동일한(또는 거의 동일한) 출력을 만드는지 확인하세요._"
      ]
    },
    {
      "cell_type": "markdown",
      "metadata": {
        "id": "2YBPz800JCDY"
      },
      "source": [
        "각 클래스의 객체를 만들고 데이터(예를 들면, 훈련 세트)를 적용해 보죠. 차이는 무시할 수 있는 수준입니다."
      ]
    },
    {
      "cell_type": "code",
      "metadata": {
        "execution": {
          "iopub.execute_input": "2021-07-04T08:18:24.118152Z",
          "iopub.status.busy": "2021-07-04T08:18:24.116642Z",
          "iopub.status.idle": "2021-07-04T08:18:26.833501Z",
          "shell.execute_reply": "2021-07-04T08:18:26.834923Z"
        },
        "id": "TrWJnuXxJCDY",
        "outputId": "8e376508-e447-43b3-a804-e23dbe10d522"
      },
      "source": [
        "X = X_train.astype(np.float32)\n",
        "\n",
        "custom_layer_norm = LayerNormalization()\n",
        "keras_layer_norm = keras.layers.LayerNormalization()\n",
        "\n",
        "tf.reduce_mean(keras.losses.mean_absolute_error(\n",
        "    keras_layer_norm(X), custom_layer_norm(X)))"
      ],
      "execution_count": null,
      "outputs": [
        {
          "output_type": "execute_result",
          "data": {
            "text/plain": [
              "<tf.Tensor: shape=(), dtype=float32, numpy=3.80914e-08>"
            ]
          },
          "metadata": {
            "tags": []
          },
          "execution_count": 1
        }
      ]
    },
    {
      "cell_type": "markdown",
      "metadata": {
        "id": "fFKvwuyJJCDZ"
      },
      "source": [
        "네 충분히 가깝네요. 조금 더 확실하게 알파와 베타를 완전히 랜덤하게 지정하고 다시 비교해 보죠:"
      ]
    },
    {
      "cell_type": "code",
      "metadata": {
        "execution": {
          "iopub.execute_input": "2021-07-04T08:18:26.847454Z",
          "iopub.status.busy": "2021-07-04T08:18:26.846347Z",
          "iopub.status.idle": "2021-07-04T08:18:26.856648Z",
          "shell.execute_reply": "2021-07-04T08:18:26.855676Z"
        },
        "id": "ShrImHjbJCDZ",
        "outputId": "fd88c5a7-808a-4a3e-ad48-c773374dba5d"
      },
      "source": [
        "random_alpha = np.random.rand(X.shape[-1])\n",
        "random_beta = np.random.rand(X.shape[-1])\n",
        "\n",
        "custom_layer_norm.set_weights([random_alpha, random_beta])\n",
        "keras_layer_norm.set_weights([random_alpha, random_beta])\n",
        "\n",
        "tf.reduce_mean(keras.losses.mean_absolute_error(\n",
        "    keras_layer_norm(X), custom_layer_norm(X)))"
      ],
      "execution_count": null,
      "outputs": [
        {
          "output_type": "execute_result",
          "data": {
            "text/plain": [
              "<tf.Tensor: shape=(), dtype=float32, numpy=1.695759e-08>"
            ]
          },
          "metadata": {
            "tags": []
          },
          "execution_count": 1
        }
      ]
    },
    {
      "cell_type": "markdown",
      "metadata": {
        "id": "GJsvKHw4JCDZ"
      },
      "source": [
        "여전히 무시할 수 있는 수준입니다! 사용자 정의 층이 잘 동작합니다."
      ]
    },
    {
      "cell_type": "markdown",
      "metadata": {
        "id": "tb1Qz2tXJCDZ"
      },
      "source": [
        "## 13. 사용자 정의 훈련 반복을 사용해 패션 MNIST 데이터셋으로 모델을 훈련해보세요.\n",
        "\n",
        "_패션 MNIST 데이터셋은 10장에서 소개했습니다._"
      ]
    },
    {
      "cell_type": "markdown",
      "metadata": {
        "id": "W0W0qyOKJCDZ"
      },
      "source": [
        "### a.\n",
        "_문제: 에포크, 반복, 평균 훈련 손실, (반복마다 업데이트되는) 에포크의 평균 정확도는 물론 에포크 끝에서 검증 손실과 정확도를 출력하세요._"
      ]
    },
    {
      "cell_type": "code",
      "metadata": {
        "execution": {
          "iopub.execute_input": "2021-07-04T08:18:26.864056Z",
          "iopub.status.busy": "2021-07-04T08:18:26.863020Z",
          "iopub.status.idle": "2021-07-04T08:18:27.305663Z",
          "shell.execute_reply": "2021-07-04T08:18:27.304709Z"
        },
        "id": "TYbP7XwhJCDZ",
        "outputId": "1b00b531-5a72-431d-ee69-7af4d6eb9b8a",
        "colab": {
          "base_uri": "https://localhost:8080/"
        }
      },
      "source": [
        "(X_train_full, y_train_full), (X_test, y_test) = keras.datasets.fashion_mnist.load_data()\n",
        "X_train_full = X_train_full.astype(np.float32) / 255.\n",
        "X_valid, X_train = X_train_full[:5000], X_train_full[5000:]\n",
        "y_valid, y_train = y_train_full[:5000], y_train_full[5000:]\n",
        "X_test = X_test.astype(np.float32) / 255."
      ],
      "execution_count": 3,
      "outputs": [
        {
          "output_type": "stream",
          "text": [
            "Downloading data from https://storage.googleapis.com/tensorflow/tf-keras-datasets/train-labels-idx1-ubyte.gz\n",
            "32768/29515 [=================================] - 0s 0us/step\n",
            "Downloading data from https://storage.googleapis.com/tensorflow/tf-keras-datasets/train-images-idx3-ubyte.gz\n",
            "26427392/26421880 [==============================] - 0s 0us/step\n",
            "Downloading data from https://storage.googleapis.com/tensorflow/tf-keras-datasets/t10k-labels-idx1-ubyte.gz\n",
            "8192/5148 [===============================================] - 0s 0us/step\n",
            "Downloading data from https://storage.googleapis.com/tensorflow/tf-keras-datasets/t10k-images-idx3-ubyte.gz\n",
            "4423680/4422102 [==============================] - 0s 0us/step\n"
          ],
          "name": "stdout"
        }
      ]
    },
    {
      "cell_type": "code",
      "metadata": {
        "execution": {
          "iopub.execute_input": "2021-07-04T08:18:27.315092Z",
          "iopub.status.busy": "2021-07-04T08:18:27.313431Z",
          "iopub.status.idle": "2021-07-04T08:18:27.320157Z",
          "shell.execute_reply": "2021-07-04T08:18:27.321148Z"
        },
        "id": "u4QSNsVGJCDZ"
      },
      "source": [
        "keras.backend.clear_session()\n",
        "np.random.seed(42)\n",
        "tf.random.set_seed(42)"
      ],
      "execution_count": 4,
      "outputs": []
    },
    {
      "cell_type": "code",
      "metadata": {
        "execution": {
          "iopub.execute_input": "2021-07-04T08:18:27.336428Z",
          "iopub.status.busy": "2021-07-04T08:18:27.335214Z",
          "iopub.status.idle": "2021-07-04T08:18:27.357760Z",
          "shell.execute_reply": "2021-07-04T08:18:27.356712Z"
        },
        "id": "ez1PpH-IJCDZ"
      },
      "source": [
        "model = keras.models.Sequential([\n",
        "    keras.layers.Flatten(input_shape=[28, 28]),\n",
        "    keras.layers.Dense(100, activation=\"relu\"),\n",
        "    keras.layers.Dense(10, activation=\"softmax\"),\n",
        "])"
      ],
      "execution_count": 5,
      "outputs": []
    },
    {
      "cell_type": "code",
      "metadata": {
        "execution": {
          "iopub.execute_input": "2021-07-04T08:18:27.365537Z",
          "iopub.status.busy": "2021-07-04T08:18:27.364057Z",
          "iopub.status.idle": "2021-07-04T08:18:27.385914Z",
          "shell.execute_reply": "2021-07-04T08:18:27.384561Z"
        },
        "id": "Dg1oQpB_JCDZ",
        "outputId": "2856fd3e-e2b5-42f1-fb21-65fc2defa42c",
        "colab": {
          "base_uri": "https://localhost:8080/"
        }
      },
      "source": [
        "n_epochs = 5\n",
        "batch_size = 32\n",
        "n_steps = len(X_train) // batch_size\n",
        "optimizer = keras.optimizers.Nadam(lr=0.01)\n",
        "loss_fn = keras.losses.sparse_categorical_crossentropy\n",
        "mean_loss = keras.metrics.Mean()\n",
        "metrics = [keras.metrics.SparseCategoricalAccuracy()]"
      ],
      "execution_count": 6,
      "outputs": [
        {
          "output_type": "stream",
          "text": [
            "/usr/local/lib/python3.7/dist-packages/tensorflow/python/keras/optimizer_v2/optimizer_v2.py:375: UserWarning: The `lr` argument is deprecated, use `learning_rate` instead.\n",
            "  \"The `lr` argument is deprecated, use `learning_rate` instead.\")\n"
          ],
          "name": "stderr"
        }
      ]
    },
    {
      "cell_type": "code",
      "metadata": {
        "execution": {
          "iopub.execute_input": "2021-07-04T08:18:27.426092Z",
          "iopub.status.busy": "2021-07-04T08:18:27.424333Z",
          "iopub.status.idle": "2021-07-04T08:20:57.724860Z",
          "shell.execute_reply": "2021-07-04T08:20:57.723816Z"
        },
        "id": "31_4fM6CJCDZ",
        "outputId": "0321561d-7069-4de3-acf0-a176dd24a026",
        "colab": {
          "base_uri": "https://localhost:8080/",
          "height": 244
        }
      },
      "source": [
        "with trange(1, n_epochs + 1, desc=\"All epochs\") as epochs:\n",
        "    for epoch in epochs:\n",
        "        with trange(1, n_steps + 1, desc=\"Epoch {}/{}\".format(epoch, n_epochs)) as steps:\n",
        "            for step in steps:\n",
        "                X_batch, y_batch = random_batch(X_train, y_train)\n",
        "                with tf.GradientTape() as tape:\n",
        "                    y_pred = model(X_batch)\n",
        "                    main_loss = tf.reduce_mean(loss_fn(y_batch, y_pred))\n",
        "                    loss = tf.add_n([main_loss] + model.losses)\n",
        "                gradients = tape.gradient(loss, model.trainable_variables)\n",
        "                optimizer.apply_gradients(zip(gradients, model.trainable_variables))\n",
        "                for variable in model.variables:\n",
        "                    if variable.constraint is not None:\n",
        "                        variable.assign(variable.constraint(variable))                    \n",
        "                status = OrderedDict()\n",
        "                mean_loss(loss)\n",
        "                status[\"loss\"] = mean_loss.result().numpy()\n",
        "                for metric in metrics:\n",
        "                    metric(y_batch, y_pred)\n",
        "                    status[metric.name] = metric.result().numpy()\n",
        "                steps.set_postfix(status)\n",
        "            y_pred = model(X_valid)\n",
        "            status[\"val_loss\"] = np.mean(loss_fn(y_valid, y_pred))\n",
        "            status[\"val_accuracy\"] = np.mean(keras.metrics.sparse_categorical_accuracy(\n",
        "                tf.constant(y_valid, dtype=np.float32), y_pred))\n",
        "            steps.set_postfix(status)\n",
        "        for metric in [mean_loss] + metrics:\n",
        "            metric.reset_states()\n"
      ],
      "execution_count": 7,
      "outputs": [
        {
          "output_type": "error",
          "ename": "NameError",
          "evalue": "ignored",
          "traceback": [
            "\u001b[0;31m---------------------------------------------------------------------------\u001b[0m",
            "\u001b[0;31mNameError\u001b[0m                                 Traceback (most recent call last)",
            "\u001b[0;32m<ipython-input-7-d5850c6b1046>\u001b[0m in \u001b[0;36m<module>\u001b[0;34m()\u001b[0m\n\u001b[0;32m----> 1\u001b[0;31m \u001b[0;32mwith\u001b[0m \u001b[0mtrange\u001b[0m\u001b[0;34m(\u001b[0m\u001b[0;36m1\u001b[0m\u001b[0;34m,\u001b[0m \u001b[0mn_epochs\u001b[0m \u001b[0;34m+\u001b[0m \u001b[0;36m1\u001b[0m\u001b[0;34m,\u001b[0m \u001b[0mdesc\u001b[0m\u001b[0;34m=\u001b[0m\u001b[0;34m\"All epochs\"\u001b[0m\u001b[0;34m)\u001b[0m \u001b[0;32mas\u001b[0m \u001b[0mepochs\u001b[0m\u001b[0;34m:\u001b[0m\u001b[0;34m\u001b[0m\u001b[0;34m\u001b[0m\u001b[0m\n\u001b[0m\u001b[1;32m      2\u001b[0m     \u001b[0;32mfor\u001b[0m \u001b[0mepoch\u001b[0m \u001b[0;32min\u001b[0m \u001b[0mepochs\u001b[0m\u001b[0;34m:\u001b[0m\u001b[0;34m\u001b[0m\u001b[0;34m\u001b[0m\u001b[0m\n\u001b[1;32m      3\u001b[0m         \u001b[0;32mwith\u001b[0m \u001b[0mtrange\u001b[0m\u001b[0;34m(\u001b[0m\u001b[0;36m1\u001b[0m\u001b[0;34m,\u001b[0m \u001b[0mn_steps\u001b[0m \u001b[0;34m+\u001b[0m \u001b[0;36m1\u001b[0m\u001b[0;34m,\u001b[0m \u001b[0mdesc\u001b[0m\u001b[0;34m=\u001b[0m\u001b[0;34m\"Epoch {}/{}\"\u001b[0m\u001b[0;34m.\u001b[0m\u001b[0mformat\u001b[0m\u001b[0;34m(\u001b[0m\u001b[0mepoch\u001b[0m\u001b[0;34m,\u001b[0m \u001b[0mn_epochs\u001b[0m\u001b[0;34m)\u001b[0m\u001b[0;34m)\u001b[0m \u001b[0;32mas\u001b[0m \u001b[0msteps\u001b[0m\u001b[0;34m:\u001b[0m\u001b[0;34m\u001b[0m\u001b[0;34m\u001b[0m\u001b[0m\n\u001b[1;32m      4\u001b[0m             \u001b[0;32mfor\u001b[0m \u001b[0mstep\u001b[0m \u001b[0;32min\u001b[0m \u001b[0msteps\u001b[0m\u001b[0;34m:\u001b[0m\u001b[0;34m\u001b[0m\u001b[0;34m\u001b[0m\u001b[0m\n\u001b[1;32m      5\u001b[0m                 \u001b[0mX_batch\u001b[0m\u001b[0;34m,\u001b[0m \u001b[0my_batch\u001b[0m \u001b[0;34m=\u001b[0m \u001b[0mrandom_batch\u001b[0m\u001b[0;34m(\u001b[0m\u001b[0mX_train\u001b[0m\u001b[0;34m,\u001b[0m \u001b[0my_train\u001b[0m\u001b[0;34m)\u001b[0m\u001b[0;34m\u001b[0m\u001b[0;34m\u001b[0m\u001b[0m\n",
            "\u001b[0;31mNameError\u001b[0m: name 'trange' is not defined"
          ]
        }
      ]
    },
    {
      "cell_type": "markdown",
      "metadata": {
        "id": "AIFKbrJ8JCDZ"
      },
      "source": [
        "### b.\n",
        "_문제: 상위 층과 하위 층에 학습률이 다른 옵티마이저를 따로 사용해보세요._"
      ]
    },
    {
      "cell_type": "code",
      "metadata": {
        "execution": {
          "iopub.execute_input": "2021-07-04T08:20:57.735116Z",
          "iopub.status.busy": "2021-07-04T08:20:57.733165Z",
          "iopub.status.idle": "2021-07-04T08:20:57.741263Z",
          "shell.execute_reply": "2021-07-04T08:20:57.742096Z"
        },
        "id": "WNqKd5sGJCDa"
      },
      "source": [
        "keras.backend.clear_session()\n",
        "np.random.seed(42)\n",
        "tf.random.set_seed(42)"
      ],
      "execution_count": null,
      "outputs": []
    },
    {
      "cell_type": "code",
      "metadata": {
        "execution": {
          "iopub.execute_input": "2021-07-04T08:20:57.757785Z",
          "iopub.status.busy": "2021-07-04T08:20:57.756644Z",
          "iopub.status.idle": "2021-07-04T08:20:57.808014Z",
          "shell.execute_reply": "2021-07-04T08:20:57.809090Z"
        },
        "id": "jA_kncWBJCDa"
      },
      "source": [
        "lower_layers = keras.models.Sequential([\n",
        "    keras.layers.Flatten(input_shape=[28, 28]),\n",
        "    keras.layers.Dense(100, activation=\"relu\"),\n",
        "])\n",
        "upper_layers = keras.models.Sequential([\n",
        "    keras.layers.Dense(10, activation=\"softmax\"),\n",
        "])\n",
        "model = keras.models.Sequential([\n",
        "    lower_layers, upper_layers\n",
        "])"
      ],
      "execution_count": null,
      "outputs": []
    },
    {
      "cell_type": "code",
      "metadata": {
        "execution": {
          "iopub.execute_input": "2021-07-04T08:20:57.817373Z",
          "iopub.status.busy": "2021-07-04T08:20:57.816005Z",
          "iopub.status.idle": "2021-07-04T08:20:57.819046Z",
          "shell.execute_reply": "2021-07-04T08:20:57.820186Z"
        },
        "id": "WT974R8zJCDa"
      },
      "source": [
        "lower_optimizer = keras.optimizers.SGD(lr=1e-4)\n",
        "upper_optimizer = keras.optimizers.Nadam(lr=1e-3)"
      ],
      "execution_count": null,
      "outputs": []
    },
    {
      "cell_type": "code",
      "metadata": {
        "execution": {
          "iopub.execute_input": "2021-07-04T08:20:57.838414Z",
          "iopub.status.busy": "2021-07-04T08:20:57.837124Z",
          "iopub.status.idle": "2021-07-04T08:20:57.861214Z",
          "shell.execute_reply": "2021-07-04T08:20:57.859890Z"
        },
        "id": "2h-jLK8oJCDa"
      },
      "source": [
        "n_epochs = 5\n",
        "batch_size = 32\n",
        "n_steps = len(X_train) // batch_size\n",
        "loss_fn = keras.losses.sparse_categorical_crossentropy\n",
        "mean_loss = keras.metrics.Mean()\n",
        "metrics = [keras.metrics.SparseCategoricalAccuracy()]"
      ],
      "execution_count": null,
      "outputs": []
    },
    {
      "cell_type": "code",
      "metadata": {
        "execution": {
          "iopub.execute_input": "2021-07-04T08:20:57.916303Z",
          "iopub.status.busy": "2021-07-04T08:20:57.871210Z",
          "iopub.status.idle": "2021-07-04T08:23:28.076184Z",
          "shell.execute_reply": "2021-07-04T08:23:28.074944Z"
        },
        "id": "GXxoBhGNJCDa",
        "outputId": "173c0eda-301c-4503-9a37-81ddcd12d585",
        "colab": {
          "referenced_widgets": [
            "dd82e8fb8bb242f2ba07130aaae76932",
            "b49322bac8874df8b963d2beb32c331d",
            "b48373c9481e4dd69f1ff510406ae69a",
            "c7df1895d7624ef7be8b5b0b49e4a91b",
            "d499d35a925843f1827e10b5aedcfa49",
            "cff1f8fd87fa40be81d37f7415fc3bbb"
          ]
        }
      },
      "source": [
        "with trange(1, n_epochs + 1, desc=\"All epochs\") as epochs:\n",
        "    for epoch in epochs:\n",
        "        with trange(1, n_steps + 1, desc=\"Epoch {}/{}\".format(epoch, n_epochs)) as steps:\n",
        "            for step in steps:\n",
        "                X_batch, y_batch = random_batch(X_train, y_train)\n",
        "                with tf.GradientTape(persistent=True) as tape:\n",
        "                    y_pred = model(X_batch)\n",
        "                    main_loss = tf.reduce_mean(loss_fn(y_batch, y_pred))\n",
        "                    loss = tf.add_n([main_loss] + model.losses)\n",
        "                for layers, optimizer in ((lower_layers, lower_optimizer),\n",
        "                                          (upper_layers, upper_optimizer)):\n",
        "                    gradients = tape.gradient(loss, layers.trainable_variables)\n",
        "                    optimizer.apply_gradients(zip(gradients, layers.trainable_variables))\n",
        "                del tape\n",
        "                for variable in model.variables:\n",
        "                    if variable.constraint is not None:\n",
        "                        variable.assign(variable.constraint(variable))                    \n",
        "                status = OrderedDict()\n",
        "                mean_loss(loss)\n",
        "                status[\"loss\"] = mean_loss.result().numpy()\n",
        "                for metric in metrics:\n",
        "                    metric(y_batch, y_pred)\n",
        "                    status[metric.name] = metric.result().numpy()\n",
        "                steps.set_postfix(status)\n",
        "            y_pred = model(X_valid)\n",
        "            status[\"val_loss\"] = np.mean(loss_fn(y_valid, y_pred))\n",
        "            status[\"val_accuracy\"] = np.mean(keras.metrics.sparse_categorical_accuracy(\n",
        "                tf.constant(y_valid, dtype=np.float32), y_pred))\n",
        "            steps.set_postfix(status)\n",
        "        for metric in [mean_loss] + metrics:\n",
        "            metric.reset_states()"
      ],
      "execution_count": null,
      "outputs": [
        {
          "output_type": "display_data",
          "data": {
            "application/vnd.jupyter.widget-view+json": {
              "model_id": "dd82e8fb8bb242f2ba07130aaae76932",
              "version_major": 2,
              "version_minor": 0
            },
            "text/plain": [
              "All epochs:   0%|          | 0/5 [00:00<?, ?it/s]"
            ]
          },
          "metadata": {
            "tags": []
          }
        },
        {
          "output_type": "display_data",
          "data": {
            "application/vnd.jupyter.widget-view+json": {
              "model_id": "b49322bac8874df8b963d2beb32c331d",
              "version_major": 2,
              "version_minor": 0
            },
            "text/plain": [
              "Epoch 1/5:   0%|          | 0/1718 [00:00<?, ?it/s]"
            ]
          },
          "metadata": {
            "tags": []
          }
        },
        {
          "output_type": "display_data",
          "data": {
            "application/vnd.jupyter.widget-view+json": {
              "model_id": "b48373c9481e4dd69f1ff510406ae69a",
              "version_major": 2,
              "version_minor": 0
            },
            "text/plain": [
              "Epoch 2/5:   0%|          | 0/1718 [00:00<?, ?it/s]"
            ]
          },
          "metadata": {
            "tags": []
          }
        },
        {
          "output_type": "display_data",
          "data": {
            "application/vnd.jupyter.widget-view+json": {
              "model_id": "c7df1895d7624ef7be8b5b0b49e4a91b",
              "version_major": 2,
              "version_minor": 0
            },
            "text/plain": [
              "Epoch 3/5:   0%|          | 0/1718 [00:00<?, ?it/s]"
            ]
          },
          "metadata": {
            "tags": []
          }
        },
        {
          "output_type": "display_data",
          "data": {
            "application/vnd.jupyter.widget-view+json": {
              "model_id": "d499d35a925843f1827e10b5aedcfa49",
              "version_major": 2,
              "version_minor": 0
            },
            "text/plain": [
              "Epoch 4/5:   0%|          | 0/1718 [00:00<?, ?it/s]"
            ]
          },
          "metadata": {
            "tags": []
          }
        },
        {
          "output_type": "display_data",
          "data": {
            "application/vnd.jupyter.widget-view+json": {
              "model_id": "cff1f8fd87fa40be81d37f7415fc3bbb",
              "version_major": 2,
              "version_minor": 0
            },
            "text/plain": [
              "Epoch 5/5:   0%|          | 0/1718 [00:00<?, ?it/s]"
            ]
          },
          "metadata": {
            "tags": []
          }
        }
      ]
    }
  ]
}